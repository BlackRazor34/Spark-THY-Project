{
 "cells": [
  {
   "cell_type": "code",
   "execution_count": 1,
   "metadata": {},
   "outputs": [],
   "source": [
    "import findspark\n",
    "findspark.init(\"/opt/manual/spark\")\n",
    "from pyspark.sql import SparkSession, functions as F"
   ]
  },
  {
   "cell_type": "code",
   "execution_count": 2,
   "metadata": {},
   "outputs": [],
   "source": [
    "spark = (\n",
    "    SparkSession.builder\n",
    "    .appName(\"Joins\")\n",
    "    .master(\"yarn\")     \n",
    "    .getOrCreate())"
   ]
  },
  {
   "cell_type": "markdown",
   "metadata": {},
   "source": [
    "# Read big table"
   ]
  },
  {
   "cell_type": "code",
   "execution_count": 3,
   "metadata": {},
   "outputs": [],
   "source": [
    "order_items = spark.read \\\n",
    ".option(\"header\",True) \\\n",
    ".option(\"inferSchema\", True) \\\n",
    ".option(\"sep\", \",\") \\\n",
    ".csv(\"/user/train/datasets/retail_db/order_items.csv\")"
   ]
  },
  {
   "cell_type": "code",
   "execution_count": 4,
   "metadata": {},
   "outputs": [
    {
     "data": {
      "text/plain": [
       "172198"
      ]
     },
     "execution_count": 4,
     "metadata": {},
     "output_type": "execute_result"
    }
   ],
   "source": [
    "order_items.count()"
   ]
  },
  {
   "cell_type": "code",
   "execution_count": 5,
   "metadata": {},
   "outputs": [
    {
     "data": {
      "text/html": [
       "<div>\n",
       "<style scoped>\n",
       "    .dataframe tbody tr th:only-of-type {\n",
       "        vertical-align: middle;\n",
       "    }\n",
       "\n",
       "    .dataframe tbody tr th {\n",
       "        vertical-align: top;\n",
       "    }\n",
       "\n",
       "    .dataframe thead th {\n",
       "        text-align: right;\n",
       "    }\n",
       "</style>\n",
       "<table border=\"1\" class=\"dataframe\">\n",
       "  <thead>\n",
       "    <tr style=\"text-align: right;\">\n",
       "      <th></th>\n",
       "      <th>orderItemName</th>\n",
       "      <th>orderItemOrderId</th>\n",
       "      <th>orderItemProductId</th>\n",
       "      <th>orderItemQuantity</th>\n",
       "      <th>orderItemSubTotal</th>\n",
       "      <th>orderItemProductPrice</th>\n",
       "    </tr>\n",
       "  </thead>\n",
       "  <tbody>\n",
       "    <tr>\n",
       "      <th>0</th>\n",
       "      <td>1</td>\n",
       "      <td>1</td>\n",
       "      <td>957</td>\n",
       "      <td>1</td>\n",
       "      <td>299.98</td>\n",
       "      <td>299.98</td>\n",
       "    </tr>\n",
       "    <tr>\n",
       "      <th>1</th>\n",
       "      <td>2</td>\n",
       "      <td>2</td>\n",
       "      <td>1073</td>\n",
       "      <td>1</td>\n",
       "      <td>199.99</td>\n",
       "      <td>199.99</td>\n",
       "    </tr>\n",
       "    <tr>\n",
       "      <th>2</th>\n",
       "      <td>3</td>\n",
       "      <td>2</td>\n",
       "      <td>502</td>\n",
       "      <td>5</td>\n",
       "      <td>250.00</td>\n",
       "      <td>50.00</td>\n",
       "    </tr>\n",
       "  </tbody>\n",
       "</table>\n",
       "</div>"
      ],
      "text/plain": [
       "   orderItemName  orderItemOrderId  orderItemProductId  orderItemQuantity  \\\n",
       "0              1                 1                 957                  1   \n",
       "1              2                 2                1073                  1   \n",
       "2              3                 2                 502                  5   \n",
       "\n",
       "   orderItemSubTotal  orderItemProductPrice  \n",
       "0             299.98                 299.98  \n",
       "1             199.99                 199.99  \n",
       "2             250.00                  50.00  "
      ]
     },
     "execution_count": 5,
     "metadata": {},
     "output_type": "execute_result"
    }
   ],
   "source": [
    "order_items.limit(3).toPandas()"
   ]
  },
  {
   "cell_type": "markdown",
   "metadata": {},
   "source": [
    "# Read Small Table"
   ]
  },
  {
   "cell_type": "code",
   "execution_count": 6,
   "metadata": {},
   "outputs": [],
   "source": [
    "products = spark.read \\\n",
    ".option(\"header\",True) \\\n",
    ".option(\"inferSchema\", True) \\\n",
    ".option(\"sep\", \",\") \\\n",
    ".csv(\"/user/train/datasets/retail_db/products.csv\")"
   ]
  },
  {
   "cell_type": "code",
   "execution_count": 7,
   "metadata": {},
   "outputs": [
    {
     "data": {
      "text/plain": [
       "1345"
      ]
     },
     "execution_count": 7,
     "metadata": {},
     "output_type": "execute_result"
    }
   ],
   "source": [
    "products.count()"
   ]
  },
  {
   "cell_type": "code",
   "execution_count": 8,
   "metadata": {},
   "outputs": [
    {
     "data": {
      "text/html": [
       "<div>\n",
       "<style scoped>\n",
       "    .dataframe tbody tr th:only-of-type {\n",
       "        vertical-align: middle;\n",
       "    }\n",
       "\n",
       "    .dataframe tbody tr th {\n",
       "        vertical-align: top;\n",
       "    }\n",
       "\n",
       "    .dataframe thead th {\n",
       "        text-align: right;\n",
       "    }\n",
       "</style>\n",
       "<table border=\"1\" class=\"dataframe\">\n",
       "  <thead>\n",
       "    <tr style=\"text-align: right;\">\n",
       "      <th></th>\n",
       "      <th>productId</th>\n",
       "      <th>productCategoryId</th>\n",
       "      <th>productName</th>\n",
       "      <th>productDescription</th>\n",
       "      <th>productPrice</th>\n",
       "      <th>productImage</th>\n",
       "    </tr>\n",
       "  </thead>\n",
       "  <tbody>\n",
       "    <tr>\n",
       "      <th>0</th>\n",
       "      <td>1</td>\n",
       "      <td>2</td>\n",
       "      <td>Quest Q64 10 FT. x 10 FT. Slant Leg Instant U</td>\n",
       "      <td>None</td>\n",
       "      <td>59.98</td>\n",
       "      <td>http://images.acmesports.sports/Quest+Q64+10+F...</td>\n",
       "    </tr>\n",
       "    <tr>\n",
       "      <th>1</th>\n",
       "      <td>2</td>\n",
       "      <td>2</td>\n",
       "      <td>Under Armour Men's Highlight MC Football Clea</td>\n",
       "      <td>None</td>\n",
       "      <td>129.99</td>\n",
       "      <td>http://images.acmesports.sports/Under+Armour+M...</td>\n",
       "    </tr>\n",
       "    <tr>\n",
       "      <th>2</th>\n",
       "      <td>3</td>\n",
       "      <td>2</td>\n",
       "      <td>Under Armour Men's Renegade D Mid Football Cl</td>\n",
       "      <td>None</td>\n",
       "      <td>89.99</td>\n",
       "      <td>http://images.acmesports.sports/Under+Armour+M...</td>\n",
       "    </tr>\n",
       "  </tbody>\n",
       "</table>\n",
       "</div>"
      ],
      "text/plain": [
       "   productId  productCategoryId  \\\n",
       "0          1                  2   \n",
       "1          2                  2   \n",
       "2          3                  2   \n",
       "\n",
       "                                     productName productDescription  \\\n",
       "0  Quest Q64 10 FT. x 10 FT. Slant Leg Instant U               None   \n",
       "1  Under Armour Men's Highlight MC Football Clea               None   \n",
       "2  Under Armour Men's Renegade D Mid Football Cl               None   \n",
       "\n",
       "   productPrice                                       productImage  \n",
       "0         59.98  http://images.acmesports.sports/Quest+Q64+10+F...  \n",
       "1        129.99  http://images.acmesports.sports/Under+Armour+M...  \n",
       "2         89.99  http://images.acmesports.sports/Under+Armour+M...  "
      ]
     },
     "execution_count": 8,
     "metadata": {},
     "output_type": "execute_result"
    }
   ],
   "source": [
    "products.limit(3).toPandas()"
   ]
  },
  {
   "cell_type": "markdown",
   "metadata": {},
   "source": [
    "# join"
   ]
  },
  {
   "cell_type": "code",
   "execution_count": 9,
   "metadata": {},
   "outputs": [
    {
     "data": {
      "text/plain": [
       "'10485760b'"
      ]
     },
     "execution_count": 9,
     "metadata": {},
     "output_type": "execute_result"
    }
   ],
   "source": [
    "spark.conf.get(\"spark.sql.autoBroadcastJoinThreshold\")"
   ]
  },
  {
   "cell_type": "code",
   "execution_count": 10,
   "metadata": {},
   "outputs": [],
   "source": [
    "# 10485760b= 10 mb"
   ]
  },
  {
   "cell_type": "code",
   "execution_count": 11,
   "metadata": {},
   "outputs": [],
   "source": [
    "bcast_join_df = order_items.join(F.broadcast(products), order_items.orderItemProductId == products.productId)"
   ]
  },
  {
   "cell_type": "code",
   "execution_count": 12,
   "metadata": {},
   "outputs": [
    {
     "data": {
      "text/html": [
       "<div>\n",
       "<style scoped>\n",
       "    .dataframe tbody tr th:only-of-type {\n",
       "        vertical-align: middle;\n",
       "    }\n",
       "\n",
       "    .dataframe tbody tr th {\n",
       "        vertical-align: top;\n",
       "    }\n",
       "\n",
       "    .dataframe thead th {\n",
       "        text-align: right;\n",
       "    }\n",
       "</style>\n",
       "<table border=\"1\" class=\"dataframe\">\n",
       "  <thead>\n",
       "    <tr style=\"text-align: right;\">\n",
       "      <th></th>\n",
       "      <th>orderItemName</th>\n",
       "      <th>orderItemOrderId</th>\n",
       "      <th>orderItemProductId</th>\n",
       "      <th>orderItemQuantity</th>\n",
       "      <th>orderItemSubTotal</th>\n",
       "      <th>orderItemProductPrice</th>\n",
       "      <th>productId</th>\n",
       "      <th>productCategoryId</th>\n",
       "      <th>productName</th>\n",
       "      <th>productDescription</th>\n",
       "      <th>productPrice</th>\n",
       "      <th>productImage</th>\n",
       "    </tr>\n",
       "  </thead>\n",
       "  <tbody>\n",
       "    <tr>\n",
       "      <th>0</th>\n",
       "      <td>1</td>\n",
       "      <td>1</td>\n",
       "      <td>957</td>\n",
       "      <td>1</td>\n",
       "      <td>299.98</td>\n",
       "      <td>299.98</td>\n",
       "      <td>957</td>\n",
       "      <td>43</td>\n",
       "      <td>Diamondback Women's Serene Classic Comfort Bi</td>\n",
       "      <td>None</td>\n",
       "      <td>299.98</td>\n",
       "      <td>http://images.acmesports.sports/Diamondback+Wo...</td>\n",
       "    </tr>\n",
       "    <tr>\n",
       "      <th>1</th>\n",
       "      <td>2</td>\n",
       "      <td>2</td>\n",
       "      <td>1073</td>\n",
       "      <td>1</td>\n",
       "      <td>199.99</td>\n",
       "      <td>199.99</td>\n",
       "      <td>1073</td>\n",
       "      <td>48</td>\n",
       "      <td>Pelican Sunstream 100 Kayak</td>\n",
       "      <td>None</td>\n",
       "      <td>199.99</td>\n",
       "      <td>http://images.acmesports.sports/Pelican+Sunstr...</td>\n",
       "    </tr>\n",
       "    <tr>\n",
       "      <th>2</th>\n",
       "      <td>3</td>\n",
       "      <td>2</td>\n",
       "      <td>502</td>\n",
       "      <td>5</td>\n",
       "      <td>250.00</td>\n",
       "      <td>50.00</td>\n",
       "      <td>502</td>\n",
       "      <td>24</td>\n",
       "      <td>Nike Men's Dri-FIT Victory Golf Polo</td>\n",
       "      <td>None</td>\n",
       "      <td>50.00</td>\n",
       "      <td>http://images.acmesports.sports/Nike+Men%27s+D...</td>\n",
       "    </tr>\n",
       "  </tbody>\n",
       "</table>\n",
       "</div>"
      ],
      "text/plain": [
       "   orderItemName  orderItemOrderId  orderItemProductId  orderItemQuantity  \\\n",
       "0              1                 1                 957                  1   \n",
       "1              2                 2                1073                  1   \n",
       "2              3                 2                 502                  5   \n",
       "\n",
       "   orderItemSubTotal  orderItemProductPrice  productId  productCategoryId  \\\n",
       "0             299.98                 299.98        957                 43   \n",
       "1             199.99                 199.99       1073                 48   \n",
       "2             250.00                  50.00        502                 24   \n",
       "\n",
       "                                     productName productDescription  \\\n",
       "0  Diamondback Women's Serene Classic Comfort Bi               None   \n",
       "1                    Pelican Sunstream 100 Kayak               None   \n",
       "2           Nike Men's Dri-FIT Victory Golf Polo               None   \n",
       "\n",
       "   productPrice                                       productImage  \n",
       "0        299.98  http://images.acmesports.sports/Diamondback+Wo...  \n",
       "1        199.99  http://images.acmesports.sports/Pelican+Sunstr...  \n",
       "2         50.00  http://images.acmesports.sports/Nike+Men%27s+D...  "
      ]
     },
     "execution_count": 12,
     "metadata": {},
     "output_type": "execute_result"
    }
   ],
   "source": [
    "bcast_join_df.limit(3).toPandas()"
   ]
  },
  {
   "cell_type": "code",
   "execution_count": 13,
   "metadata": {},
   "outputs": [
    {
     "name": "stdout",
     "output_type": "stream",
     "text": [
      "== Physical Plan ==\n",
      "*(2) BroadcastHashJoin [orderItemProductId#18], [productId#61], Inner, BuildRight\n",
      ":- *(2) Project [orderItemName#16, orderItemOrderId#17, orderItemProductId#18, orderItemQuantity#19, orderItemSubTotal#20, orderItemProductPrice#21]\n",
      ":  +- *(2) Filter isnotnull(orderItemProductId#18)\n",
      ":     +- FileScan csv [orderItemName#16,orderItemOrderId#17,orderItemProductId#18,orderItemQuantity#19,orderItemSubTotal#20,orderItemProductPrice#21] Batched: false, DataFilters: [isnotnull(orderItemProductId#18)], Format: CSV, Location: InMemoryFileIndex[hdfs://localhost:9000/user/train/datasets/retail_db/order_items.csv], PartitionFilters: [], PushedFilters: [IsNotNull(orderItemProductId)], ReadSchema: struct<orderItemName:int,orderItemOrderId:int,orderItemProductId:int,orderItemQuantity:int,orderI...\n",
      "+- BroadcastExchange HashedRelationBroadcastMode(List(cast(input[0, int, true] as bigint))), [id=#153]\n",
      "   +- *(1) Project [productId#61, productCategoryId#62, productName#63, productDescription#64, productPrice#65, productImage#66]\n",
      "      +- *(1) Filter isnotnull(productId#61)\n",
      "         +- FileScan csv [productId#61,productCategoryId#62,productName#63,productDescription#64,productPrice#65,productImage#66] Batched: false, DataFilters: [isnotnull(productId#61)], Format: CSV, Location: InMemoryFileIndex[hdfs://localhost:9000/user/train/datasets/retail_db/products.csv], PartitionFilters: [], PushedFilters: [IsNotNull(productId)], ReadSchema: struct<productId:int,productCategoryId:int,productName:string,productDescription:string,productPr...\n",
      "\n",
      "\n"
     ]
    }
   ],
   "source": [
    "bcast_join_df.explain()"
   ]
  },
  {
   "cell_type": "code",
   "execution_count": 14,
   "metadata": {},
   "outputs": [],
   "source": [
    "spark.stop()"
   ]
  },
  {
   "cell_type": "code",
   "execution_count": null,
   "metadata": {},
   "outputs": [],
   "source": []
  }
 ],
 "metadata": {
  "kernelspec": {
   "display_name": "venvspark",
   "language": "python",
   "name": "venvspark"
  },
  "language_info": {
   "codemirror_mode": {
    "name": "ipython",
    "version": 3
   },
   "file_extension": ".py",
   "mimetype": "text/x-python",
   "name": "python",
   "nbconvert_exporter": "python",
   "pygments_lexer": "ipython3",
   "version": "3.6.8"
  }
 },
 "nbformat": 4,
 "nbformat_minor": 4
}
