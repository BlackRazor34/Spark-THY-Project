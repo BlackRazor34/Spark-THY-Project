{
 "cells": [
  {
   "cell_type": "code",
   "execution_count": 1,
   "metadata": {},
   "outputs": [],
   "source": [
    "import findspark"
   ]
  },
  {
   "cell_type": "code",
   "execution_count": 2,
   "metadata": {},
   "outputs": [],
   "source": [
    "findspark.init(\"/opt/manual/spark\")"
   ]
  },
  {
   "cell_type": "code",
   "execution_count": 3,
   "metadata": {},
   "outputs": [],
   "source": [
    "from pyspark.sql import SparkSession, functions as F\n",
    "from pyspark.sql.types import *"
   ]
  },
  {
   "cell_type": "code",
   "execution_count": 4,
   "metadata": {},
   "outputs": [],
   "source": [
    "spark = SparkSession.builder \\\n",
    ".appName(\"Datetime Ops\") \\\n",
    ".master(\"local[2]\") \\\n",
    ".getOrCreate()"
   ]
  },
  {
   "cell_type": "code",
   "execution_count": 5,
   "metadata": {},
   "outputs": [
    {
     "name": "stdout",
     "output_type": "stream",
     "text": [
      "--2025-06-12 16:00:01--  https://github.com/erkansirin78/datasets/raw/master/Fire_Incidents.csv.gz\n",
      "Resolving github.com (github.com)... 140.82.121.3\n",
      "Connecting to github.com (github.com)|140.82.121.3|:443... connected.\n",
      "HTTP request sent, awaiting response... 302 Found\n",
      "Location: https://raw.githubusercontent.com/erkansirin78/datasets/master/Fire_Incidents.csv.gz [following]\n",
      "--2025-06-12 16:00:01--  https://raw.githubusercontent.com/erkansirin78/datasets/master/Fire_Incidents.csv.gz\n",
      "Resolving raw.githubusercontent.com (raw.githubusercontent.com)... 185.199.109.133, 185.199.110.133, 185.199.108.133, ...\n",
      "Connecting to raw.githubusercontent.com (raw.githubusercontent.com)|185.199.109.133|:443... connected.\n",
      "HTTP request sent, awaiting response... 200 OK\n",
      "Length: 41002480 (39M) [application/octet-stream]\n",
      "Saving to: ‘/home/train/datasets/Fire_Incidents.csv.gz’\n",
      "\n",
      "100%[======================================>] 41,002,480  2.16MB/s   in 15s    \n",
      "\n",
      "2025-06-12 16:00:18 (2.53 MB/s) - ‘/home/train/datasets/Fire_Incidents.csv.gz’ saved [41002480/41002480]\n",
      "\n"
     ]
    }
   ],
   "source": [
    "! wget -P ~/datasets https://github.com/erkansirin78/datasets/raw/master/Fire_Incidents.csv.gz  "
   ]
  },
  {
   "cell_type": "code",
   "execution_count": 6,
   "metadata": {},
   "outputs": [],
   "source": [
    "df = spark.read \\\n",
    ".option(\"header\",True) \\\n",
    ".option(\"inferSchema\", True) \\\n",
    ".option(\"compression\", \"gzip\") \\\n",
    ".csv(\"file:///home/train/datasets/Fire_Incidents.csv.gz\")"
   ]
  },
  {
   "cell_type": "code",
   "execution_count": 7,
   "metadata": {},
   "outputs": [
    {
     "data": {
      "text/plain": [
       "533598"
      ]
     },
     "execution_count": 7,
     "metadata": {},
     "output_type": "execute_result"
    }
   ],
   "source": [
    "df.count()"
   ]
  },
  {
   "cell_type": "code",
   "execution_count": 8,
   "metadata": {},
   "outputs": [
    {
     "data": {
      "text/plain": [
       "80"
      ]
     },
     "execution_count": 8,
     "metadata": {},
     "output_type": "execute_result"
    }
   ],
   "source": [
    "len(df.columns)"
   ]
  },
  {
   "cell_type": "code",
   "execution_count": 9,
   "metadata": {},
   "outputs": [],
   "source": [
    "ts_cols = ['Incident Date', 'Alarm DtTm', 'Arrival DtTm', 'Close DtTm']"
   ]
  },
  {
   "cell_type": "code",
   "execution_count": 10,
   "metadata": {},
   "outputs": [
    {
     "name": "stdout",
     "output_type": "stream",
     "text": [
      "+-------------+--------------------+--------------------+--------------------+\n",
      "|Incident Date|          Alarm DtTm|        Arrival DtTm|          Close DtTm|\n",
      "+-------------+--------------------+--------------------+--------------------+\n",
      "|   06/05/2018|06/05/2018 06:38:...|06/05/2018 06:41:...|06/05/2018 06:42:...|\n",
      "|   08/29/2019|08/29/2019 08:09:...|08/29/2019 08:11:...|08/29/2019 08:12:...|\n",
      "|   06/14/2018|06/14/2018 08:37:...|06/14/2018 08:40:...|06/14/2018 08:40:...|\n",
      "|   12/30/2005|12/30/2005 10:40:...|12/30/2005 10:46:...|12/30/2005 11:37:...|\n",
      "+-------------+--------------------+--------------------+--------------------+\n",
      "only showing top 4 rows\n",
      "\n"
     ]
    }
   ],
   "source": [
    "df.select(ts_cols).show(4)"
   ]
  },
  {
   "cell_type": "code",
   "execution_count": 11,
   "metadata": {},
   "outputs": [
    {
     "name": "stdout",
     "output_type": "stream",
     "text": [
      "root\n",
      " |-- Incident Date: string (nullable = true)\n",
      " |-- Alarm DtTm: string (nullable = true)\n",
      " |-- Arrival DtTm: string (nullable = true)\n",
      " |-- Close DtTm: string (nullable = true)\n",
      "\n"
     ]
    }
   ],
   "source": [
    "df.select(ts_cols).printSchema()"
   ]
  },
  {
   "cell_type": "code",
   "execution_count": 13,
   "metadata": {},
   "outputs": [
    {
     "name": "stdout",
     "output_type": "stream",
     "text": [
      "+-------------+----------------------+----------------------+----------------------+-------------------+\n",
      "|Incident Date|Alarm DtTm            |Arrival DtTm          |Close DtTm            |Alarm DtTm2        |\n",
      "+-------------+----------------------+----------------------+----------------------+-------------------+\n",
      "|06/05/2018   |06/05/2018 06:38:01 PM|06/05/2018 06:41:59 PM|06/05/2018 06:42:12 PM|2018-06-05 18:38:01|\n",
      "|08/29/2019   |08/29/2019 08:09:25 PM|08/29/2019 08:11:54 PM|08/29/2019 08:12:24 PM|2019-08-29 20:09:25|\n",
      "|06/14/2018   |06/14/2018 08:37:56 PM|06/14/2018 08:40:37 PM|06/14/2018 08:40:52 PM|2018-06-14 20:37:56|\n",
      "|12/30/2005   |12/30/2005 10:40:27 PM|12/30/2005 10:46:33 PM|12/30/2005 11:37:23 PM|2005-12-30 22:40:27|\n",
      "+-------------+----------------------+----------------------+----------------------+-------------------+\n",
      "only showing top 4 rows\n",
      "\n"
     ]
    }
   ],
   "source": [
    "df.select(ts_cols).withColumn(\"Alarm DtTm2\", F.to_timestamp(F.col(\"Alarm DtTm\",), \"MM/dd/yyyy hh:mm:ss a\")).show(n=4, truncate=False)"
   ]
  },
  {
   "cell_type": "code",
   "execution_count": 14,
   "metadata": {},
   "outputs": [],
   "source": [
    "df2 = df.select(ts_cols).withColumn(\"Alarm DtTm2\", F.to_timestamp(F.col(\"Alarm DtTm\"), \"MM/dd/yyyy hh:mm:ss a\"))"
   ]
  },
  {
   "cell_type": "code",
   "execution_count": 15,
   "metadata": {},
   "outputs": [
    {
     "name": "stdout",
     "output_type": "stream",
     "text": [
      "root\n",
      " |-- Incident Date: string (nullable = true)\n",
      " |-- Alarm DtTm: string (nullable = true)\n",
      " |-- Arrival DtTm: string (nullable = true)\n",
      " |-- Close DtTm: string (nullable = true)\n",
      " |-- Alarm DtTm2: timestamp (nullable = true)\n",
      "\n"
     ]
    }
   ],
   "source": [
    "df2.printSchema()"
   ]
  },
  {
   "cell_type": "markdown",
   "metadata": {},
   "source": [
    "# Tarih/Zaman Operasyonları-2: Unix Timestamp"
   ]
  },
  {
   "cell_type": "code",
   "execution_count": 17,
   "metadata": {},
   "outputs": [
    {
     "name": "stdout",
     "output_type": "stream",
     "text": [
      "+-------------+----------------------+----------------------+----------------------+-------------+\n",
      "|Incident Date|Alarm DtTm            |Arrival DtTm          |Close DtTm            |Alarm DtTm_UT|\n",
      "+-------------+----------------------+----------------------+----------------------+-------------+\n",
      "|06/05/2018   |06/05/2018 06:38:01 PM|06/05/2018 06:41:59 PM|06/05/2018 06:42:12 PM|1528213081   |\n",
      "|08/29/2019   |08/29/2019 08:09:25 PM|08/29/2019 08:11:54 PM|08/29/2019 08:12:24 PM|1567098565   |\n",
      "|06/14/2018   |06/14/2018 08:37:56 PM|06/14/2018 08:40:37 PM|06/14/2018 08:40:52 PM|1528997876   |\n",
      "|12/30/2005   |12/30/2005 10:40:27 PM|12/30/2005 10:46:33 PM|12/30/2005 11:37:23 PM|1135975227   |\n",
      "+-------------+----------------------+----------------------+----------------------+-------------+\n",
      "only showing top 4 rows\n",
      "\n"
     ]
    }
   ],
   "source": [
    "df.select(ts_cols).withColumn(\"Alarm DtTm_UT\", F.unix_timestamp(F.col(\"Alarm DtTm\"), \"MM/dd/yyyy hh:mm:ss a\")).show(n=4, truncate=False)"
   ]
  },
  {
   "cell_type": "code",
   "execution_count": 19,
   "metadata": {},
   "outputs": [],
   "source": [
    "df3 = df.select(ts_cols).withColumn(\"Alarm DtTm_UT\", F.unix_timestamp(F.col(\"Alarm DtTm\"), \"MM/dd/yyyy hh:mm:ss a\"))"
   ]
  },
  {
   "cell_type": "code",
   "execution_count": 21,
   "metadata": {},
   "outputs": [
    {
     "name": "stdout",
     "output_type": "stream",
     "text": [
      "+-------------+----------------------+----------------------+----------------------+-------------+-------------------+\n",
      "|Incident Date|Alarm DtTm            |Arrival DtTm          |Close DtTm            |Alarm DtTm_UT|From_DtTm_UT       |\n",
      "+-------------+----------------------+----------------------+----------------------+-------------+-------------------+\n",
      "|06/05/2018   |06/05/2018 06:38:01 PM|06/05/2018 06:41:59 PM|06/05/2018 06:42:12 PM|1528213081   |2018-06-05 18:38:01|\n",
      "|08/29/2019   |08/29/2019 08:09:25 PM|08/29/2019 08:11:54 PM|08/29/2019 08:12:24 PM|1567098565   |2019-08-29 20:09:25|\n",
      "|06/14/2018   |06/14/2018 08:37:56 PM|06/14/2018 08:40:37 PM|06/14/2018 08:40:52 PM|1528997876   |2018-06-14 20:37:56|\n",
      "|12/30/2005   |12/30/2005 10:40:27 PM|12/30/2005 10:46:33 PM|12/30/2005 11:37:23 PM|1135975227   |2005-12-30 22:40:27|\n",
      "+-------------+----------------------+----------------------+----------------------+-------------+-------------------+\n",
      "only showing top 4 rows\n",
      "\n"
     ]
    }
   ],
   "source": [
    "df3.withColumn(\"From_DtTm_UT\", F.to_timestamp(F.col(\"Alarm DtTm_UT\"))).show(n=4, truncate=False)"
   ]
  },
  {
   "cell_type": "code",
   "execution_count": 22,
   "metadata": {},
   "outputs": [],
   "source": [
    "df4  = df3.withColumn(\"From_DtTm_UT\", F.to_timestamp(F.col(\"Alarm DtTm_UT\")))"
   ]
  },
  {
   "cell_type": "code",
   "execution_count": 23,
   "metadata": {},
   "outputs": [
    {
     "name": "stdout",
     "output_type": "stream",
     "text": [
      "root\n",
      " |-- Incident Date: string (nullable = true)\n",
      " |-- Alarm DtTm: string (nullable = true)\n",
      " |-- Arrival DtTm: string (nullable = true)\n",
      " |-- Close DtTm: string (nullable = true)\n",
      " |-- Alarm DtTm_UT: long (nullable = true)\n",
      " |-- From_DtTm_UT: timestamp (nullable = true)\n",
      "\n"
     ]
    }
   ],
   "source": [
    "df4.printSchema()"
   ]
  },
  {
   "cell_type": "markdown",
   "metadata": {},
   "source": [
    "## From string to date and Date Format"
   ]
  },
  {
   "cell_type": "code",
   "execution_count": 25,
   "metadata": {},
   "outputs": [
    {
     "name": "stdout",
     "output_type": "stream",
     "text": [
      "+-------------+----------------------+----------------------+----------------------+-------------------------+\n",
      "|Incident Date|Alarm DtTm            |Arrival DtTm          |Close DtTm            |Incident_Date_Date_Format|\n",
      "+-------------+----------------------+----------------------+----------------------+-------------------------+\n",
      "|06/05/2018   |06/05/2018 06:38:01 PM|06/05/2018 06:41:59 PM|06/05/2018 06:42:12 PM|2018-06-05               |\n",
      "|08/29/2019   |08/29/2019 08:09:25 PM|08/29/2019 08:11:54 PM|08/29/2019 08:12:24 PM|2019-08-29               |\n",
      "|06/14/2018   |06/14/2018 08:37:56 PM|06/14/2018 08:40:37 PM|06/14/2018 08:40:52 PM|2018-06-14               |\n",
      "|12/30/2005   |12/30/2005 10:40:27 PM|12/30/2005 10:46:33 PM|12/30/2005 11:37:23 PM|2005-12-30               |\n",
      "+-------------+----------------------+----------------------+----------------------+-------------------------+\n",
      "only showing top 4 rows\n",
      "\n"
     ]
    }
   ],
   "source": [
    "df.select(ts_cols).withColumn(\"Incident_Date_Date_Format\", F.to_date(F.col(\"Incident Date\"), \"MM/dd/yyyy\"))\\\n",
    ".show(n=4, truncate=False)"
   ]
  },
  {
   "cell_type": "code",
   "execution_count": 26,
   "metadata": {},
   "outputs": [
    {
     "name": "stdout",
     "output_type": "stream",
     "text": [
      "+-------------+----------------------+----------------------+----------------------+-------------------------+\n",
      "|Incident Date|Alarm DtTm            |Arrival DtTm          |Close DtTm            |Incident_Date_Date_Format|\n",
      "+-------------+----------------------+----------------------+----------------------+-------------------------+\n",
      "|06/05/2018   |06/05/2018 06:38:01 PM|06/05/2018 06:41:59 PM|06/05/2018 06:42:12 PM|2018-06-05               |\n",
      "|08/29/2019   |08/29/2019 08:09:25 PM|08/29/2019 08:11:54 PM|08/29/2019 08:12:24 PM|2019-08-29               |\n",
      "|06/14/2018   |06/14/2018 08:37:56 PM|06/14/2018 08:40:37 PM|06/14/2018 08:40:52 PM|2018-06-14               |\n",
      "|12/30/2005   |12/30/2005 10:40:27 PM|12/30/2005 10:46:33 PM|12/30/2005 11:37:23 PM|2005-12-30               |\n",
      "+-------------+----------------------+----------------------+----------------------+-------------------------+\n",
      "only showing top 4 rows\n",
      "\n"
     ]
    }
   ],
   "source": [
    "df5 = df.select(ts_cols).withColumn(\"Incident_Date_Date_Format\", F.to_date(F.col(\"Incident Date\"), \"MM/dd/yyyy\"))\\\n",
    ".show(n=4, truncate=False)"
   ]
  },
  {
   "cell_type": "code",
   "execution_count": 30,
   "metadata": {},
   "outputs": [],
   "source": [
    "df5 = df.select(ts_cols).withColumn(\"Incident_Date_D\", F.to_date(F.col(\"Incident Date\"), \"MM/dd/yyyy\"))"
   ]
  },
  {
   "cell_type": "code",
   "execution_count": 31,
   "metadata": {},
   "outputs": [
    {
     "name": "stdout",
     "output_type": "stream",
     "text": [
      "root\n",
      " |-- Incident Date: string (nullable = true)\n",
      " |-- Alarm DtTm: string (nullable = true)\n",
      " |-- Arrival DtTm: string (nullable = true)\n",
      " |-- Close DtTm: string (nullable = true)\n",
      " |-- Incident_Date_D: date (nullable = true)\n",
      "\n"
     ]
    }
   ],
   "source": [
    "df5.printSchema()"
   ]
  },
  {
   "cell_type": "code",
   "execution_count": 32,
   "metadata": {},
   "outputs": [
    {
     "name": "stdout",
     "output_type": "stream",
     "text": [
      "+-------------+----------------------+----------------------+----------------------+----------------+\n",
      "|Incident Date|Alarm DtTm            |Arrival DtTm          |Close DtTm            |Incident_Date_D |\n",
      "+-------------+----------------------+----------------------+----------------------+----------------+\n",
      "|06/05/2018   |06/05/2018 06:38:01 PM|06/05/2018 06:41:59 PM|06/05/2018 06:42:12 PM|2018:06:05 00:00|\n",
      "|08/29/2019   |08/29/2019 08:09:25 PM|08/29/2019 08:11:54 PM|08/29/2019 08:12:24 PM|2019:08:29 00:00|\n",
      "|06/14/2018   |06/14/2018 08:37:56 PM|06/14/2018 08:40:37 PM|06/14/2018 08:40:52 PM|2018:06:14 00:00|\n",
      "|12/30/2005   |12/30/2005 10:40:27 PM|12/30/2005 10:46:33 PM|12/30/2005 11:37:23 PM|2005:12:30 00:00|\n",
      "+-------------+----------------------+----------------------+----------------------+----------------+\n",
      "only showing top 4 rows\n",
      "\n"
     ]
    }
   ],
   "source": [
    "df5.withColumn(\"Incident_Date_D\", F.date_format(F.col(\"Incident_Date_D\"), \"yyyy:MM:dd HH:ss\"))\\\n",
    ".show(n=4, truncate=False)"
   ]
  },
  {
   "cell_type": "code",
   "execution_count": 33,
   "metadata": {},
   "outputs": [
    {
     "name": "stdout",
     "output_type": "stream",
     "text": [
      "+-------------+----------------------+----------------------+----------------------+----------------+\n",
      "|Incident Date|Alarm DtTm            |Arrival DtTm          |Close DtTm            |Incident_Date_D |\n",
      "+-------------+----------------------+----------------------+----------------------+----------------+\n",
      "|06/05/2018   |06/05/2018 06:38:01 PM|06/05/2018 06:41:59 PM|06/05/2018 06:42:12 PM|2018-06-05 00:00|\n",
      "|08/29/2019   |08/29/2019 08:09:25 PM|08/29/2019 08:11:54 PM|08/29/2019 08:12:24 PM|2019-08-29 00:00|\n",
      "|06/14/2018   |06/14/2018 08:37:56 PM|06/14/2018 08:40:37 PM|06/14/2018 08:40:52 PM|2018-06-14 00:00|\n",
      "|12/30/2005   |12/30/2005 10:40:27 PM|12/30/2005 10:46:33 PM|12/30/2005 11:37:23 PM|2005-12-30 00:00|\n",
      "+-------------+----------------------+----------------------+----------------------+----------------+\n",
      "only showing top 4 rows\n",
      "\n"
     ]
    }
   ],
   "source": [
    "df5.withColumn(\"Incident_Date_D\", F.date_format(F.col(\"Incident_Date_D\"), \"yyyy-MM-dd HH:ss\"))\\\n",
    ".show(n=4, truncate=False)"
   ]
  },
  {
   "cell_type": "markdown",
   "metadata": {},
   "source": [
    "## Get year from ts"
   ]
  },
  {
   "cell_type": "code",
   "execution_count": 34,
   "metadata": {},
   "outputs": [],
   "source": [
    "df2 = df.select(ts_cols).withColumn(\"Alarm DtTm\", F.to_timestamp(F.col(\"Alarm DtTm\"), \"MM/dd/yyyy hh:mm:ss a\")).withColumn(\"Incident Date\", F.to_date(F.col(\"Incident Date\"), \"MM/dd/yyyy\"))"
   ]
  },
  {
   "cell_type": "code",
   "execution_count": 35,
   "metadata": {},
   "outputs": [
    {
     "name": "stdout",
     "output_type": "stream",
     "text": [
      "+-------------+-------------------+----------------------+----------------------+----------+\n",
      "|Incident Date|Alarm DtTm         |Arrival DtTm          |Close DtTm            |Alarm_Year|\n",
      "+-------------+-------------------+----------------------+----------------------+----------+\n",
      "|2018-06-05   |2018-06-05 18:38:01|06/05/2018 06:41:59 PM|06/05/2018 06:42:12 PM|2018      |\n",
      "|2019-08-29   |2019-08-29 20:09:25|08/29/2019 08:11:54 PM|08/29/2019 08:12:24 PM|2019      |\n",
      "|2018-06-14   |2018-06-14 20:37:56|06/14/2018 08:40:37 PM|06/14/2018 08:40:52 PM|2018      |\n",
      "|2005-12-30   |2005-12-30 22:40:27|12/30/2005 10:46:33 PM|12/30/2005 11:37:23 PM|2005      |\n",
      "+-------------+-------------------+----------------------+----------------------+----------+\n",
      "only showing top 4 rows\n",
      "\n"
     ]
    }
   ],
   "source": [
    "df3 = df2.withColumn(\"Alarm_Year\", F.year(F.col(\"Alarm DtTm\")))\n",
    "df3.show(n=4, truncate=False)#Get year from ts"
   ]
  },
  {
   "cell_type": "markdown",
   "metadata": {},
   "source": [
    "## Get month from ts"
   ]
  },
  {
   "cell_type": "code",
   "execution_count": 36,
   "metadata": {},
   "outputs": [
    {
     "name": "stdout",
     "output_type": "stream",
     "text": [
      "+-------------+-------------------+----------------------+----------------------+-----------+\n",
      "|Incident Date|Alarm DtTm         |Arrival DtTm          |Close DtTm            |Alarm_Month|\n",
      "+-------------+-------------------+----------------------+----------------------+-----------+\n",
      "|2018-06-05   |2018-06-05 18:38:01|06/05/2018 06:41:59 PM|06/05/2018 06:42:12 PM|6          |\n",
      "|2019-08-29   |2019-08-29 20:09:25|08/29/2019 08:11:54 PM|08/29/2019 08:12:24 PM|8          |\n",
      "|2018-06-14   |2018-06-14 20:37:56|06/14/2018 08:40:37 PM|06/14/2018 08:40:52 PM|6          |\n",
      "|2005-12-30   |2005-12-30 22:40:27|12/30/2005 10:46:33 PM|12/30/2005 11:37:23 PM|12         |\n",
      "+-------------+-------------------+----------------------+----------------------+-----------+\n",
      "only showing top 4 rows\n",
      "\n"
     ]
    }
   ],
   "source": [
    "df4 = df2.withColumn(\"Alarm_Month\", F.month(F.col(\"Alarm DtTm\")))\n",
    "df4.show(n=4, truncate=False)"
   ]
  },
  {
   "cell_type": "markdown",
   "metadata": {},
   "source": [
    "## Get day of month"
   ]
  },
  {
   "cell_type": "code",
   "execution_count": 37,
   "metadata": {},
   "outputs": [
    {
     "name": "stdout",
     "output_type": "stream",
     "text": [
      "+-------------+-------------------+----------------------+----------------------+---------+\n",
      "|Incident Date|Alarm DtTm         |Arrival DtTm          |Close DtTm            |Alarm_Day|\n",
      "+-------------+-------------------+----------------------+----------------------+---------+\n",
      "|2018-06-05   |2018-06-05 18:38:01|06/05/2018 06:41:59 PM|06/05/2018 06:42:12 PM|5        |\n",
      "|2019-08-29   |2019-08-29 20:09:25|08/29/2019 08:11:54 PM|08/29/2019 08:12:24 PM|29       |\n",
      "|2018-06-14   |2018-06-14 20:37:56|06/14/2018 08:40:37 PM|06/14/2018 08:40:52 PM|14       |\n",
      "|2005-12-30   |2005-12-30 22:40:27|12/30/2005 10:46:33 PM|12/30/2005 11:37:23 PM|30       |\n",
      "+-------------+-------------------+----------------------+----------------------+---------+\n",
      "only showing top 4 rows\n",
      "\n"
     ]
    }
   ],
   "source": [
    "df5 = df2.withColumn(\"Alarm_Day\", F.dayofmonth(F.col(\"Alarm DtTm\")))\n",
    "df5.show(n=4, truncate=False)#Get year from ts"
   ]
  },
  {
   "cell_type": "markdown",
   "metadata": {},
   "source": [
    "## Get day name"
   ]
  },
  {
   "cell_type": "code",
   "execution_count": 38,
   "metadata": {},
   "outputs": [
    {
     "name": "stdout",
     "output_type": "stream",
     "text": [
      "+-------------+-------------------+----------------------+----------------------+--------------+\n",
      "|Incident Date|Alarm DtTm         |Arrival DtTm          |Close DtTm            |Alarm_Day_Name|\n",
      "+-------------+-------------------+----------------------+----------------------+--------------+\n",
      "|2018-06-05   |2018-06-05 18:38:01|06/05/2018 06:41:59 PM|06/05/2018 06:42:12 PM|Tue           |\n",
      "|2019-08-29   |2019-08-29 20:09:25|08/29/2019 08:11:54 PM|08/29/2019 08:12:24 PM|Thu           |\n",
      "|2018-06-14   |2018-06-14 20:37:56|06/14/2018 08:40:37 PM|06/14/2018 08:40:52 PM|Thu           |\n",
      "|2005-12-30   |2005-12-30 22:40:27|12/30/2005 10:46:33 PM|12/30/2005 11:37:23 PM|Fri           |\n",
      "+-------------+-------------------+----------------------+----------------------+--------------+\n",
      "only showing top 4 rows\n",
      "\n"
     ]
    }
   ],
   "source": [
    "df5 = df2.withColumn(\"Alarm_Day_Name\", F.date_format(F.col(\"Alarm DtTm\"), 'E'))\n",
    "df5.show(n=4, truncate=False)#Get year from ts"
   ]
  },
  {
   "cell_type": "code",
   "execution_count": 39,
   "metadata": {},
   "outputs": [],
   "source": [
    "spark.stop()"
   ]
  },
  {
   "cell_type": "code",
   "execution_count": null,
   "metadata": {},
   "outputs": [],
   "source": []
  }
 ],
 "metadata": {
  "kernelspec": {
   "display_name": "venvspark",
   "language": "python",
   "name": "venvspark"
  },
  "language_info": {
   "codemirror_mode": {
    "name": "ipython",
    "version": 3
   },
   "file_extension": ".py",
   "mimetype": "text/x-python",
   "name": "python",
   "nbconvert_exporter": "python",
   "pygments_lexer": "ipython3",
   "version": "3.6.8"
  }
 },
 "nbformat": 4,
 "nbformat_minor": 4
}
