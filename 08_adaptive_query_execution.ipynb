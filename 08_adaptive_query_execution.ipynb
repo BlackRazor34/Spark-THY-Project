{
 "cells": [
  {
   "cell_type": "code",
   "execution_count": 1,
   "metadata": {},
   "outputs": [],
   "source": [
    "import findspark\n",
    "findspark.init(\"/opt/manual/spark\")\n",
    "from pyspark.sql import SparkSession, functions as F"
   ]
  },
  {
   "cell_type": "code",
   "execution_count": 2,
   "metadata": {},
   "outputs": [],
   "source": [
    "spark = (\n",
    "    SparkSession.builder\n",
    "    .appName(\"Adaptive Query Execution\")\n",
    "    .master(\"yarn\")\n",
    "    .enableHiveSupport()\n",
    "    .getOrCreate())"
   ]
  },
  {
   "cell_type": "markdown",
   "metadata": {},
   "source": [
    "# Read Data"
   ]
  },
  {
   "cell_type": "code",
   "execution_count": 3,
   "metadata": {},
   "outputs": [],
   "source": [
    "market5 = spark.read.format(\"parquet\") \\\n",
    ".load(\"/user/train/datasets/market5mil_parquet\") \\\n",
    ".orderBy(F.rand())"
   ]
  },
  {
   "cell_type": "code",
   "execution_count": 4,
   "metadata": {},
   "outputs": [
    {
     "data": {
      "text/html": [
       "<div>\n",
       "<style scoped>\n",
       "    .dataframe tbody tr th:only-of-type {\n",
       "        vertical-align: middle;\n",
       "    }\n",
       "\n",
       "    .dataframe tbody tr th {\n",
       "        vertical-align: top;\n",
       "    }\n",
       "\n",
       "    .dataframe thead th {\n",
       "        text-align: right;\n",
       "    }\n",
       "</style>\n",
       "<table border=\"1\" class=\"dataframe\">\n",
       "  <thead>\n",
       "    <tr style=\"text-align: right;\">\n",
       "      <th></th>\n",
       "      <th>LOGICALREF</th>\n",
       "      <th>COUNT_</th>\n",
       "      <th>ITEMCODE</th>\n",
       "      <th>ITEMNAME</th>\n",
       "      <th>FICHENO</th>\n",
       "      <th>DATE_</th>\n",
       "      <th>AMOUNT</th>\n",
       "      <th>PRICE</th>\n",
       "      <th>LINENETTOTAL</th>\n",
       "      <th>LINENET</th>\n",
       "      <th>...</th>\n",
       "      <th>CLIENTNAME</th>\n",
       "      <th>BRANDCODE</th>\n",
       "      <th>BRAND</th>\n",
       "      <th>CATEGORY_NAME1</th>\n",
       "      <th>CATEGORY_NAME2</th>\n",
       "      <th>CATEGORY_NAME3</th>\n",
       "      <th>STARTDATE</th>\n",
       "      <th>ENDDATE</th>\n",
       "      <th>SPECODE</th>\n",
       "      <th>CAPIBLOCK_CREADEDDATE</th>\n",
       "    </tr>\n",
       "  </thead>\n",
       "  <tbody>\n",
       "    <tr>\n",
       "      <th>0</th>\n",
       "      <td>3292899</td>\n",
       "      <td>1</td>\n",
       "      <td>00000001803</td>\n",
       "      <td>CAFE CROWN KOPUKLU SUTLU KAHVE LATTE TEKLI</td>\n",
       "      <td>0000000000336963</td>\n",
       "      <td>2018-07-09</td>\n",
       "      <td>1.0</td>\n",
       "      <td>0.50</td>\n",
       "      <td>0.50</td>\n",
       "      <td>0.46</td>\n",
       "      <td>...</td>\n",
       "      <td>Ahmet COŞGEL</td>\n",
       "      <td>146</td>\n",
       "      <td>ÜLKER</td>\n",
       "      <td>İÇECEK</td>\n",
       "      <td>ÇAY KAHVE</td>\n",
       "      <td>KAHVE</td>\n",
       "      <td>2018-07-10 16:30:13</td>\n",
       "      <td>2018-07-10 16:30:26</td>\n",
       "      <td>E</td>\n",
       "      <td>2018-07-14 02:08:40</td>\n",
       "    </tr>\n",
       "    <tr>\n",
       "      <th>1</th>\n",
       "      <td>1812914</td>\n",
       "      <td>1</td>\n",
       "      <td>00000003094</td>\n",
       "      <td>PINAR HINDI SALAM KG</td>\n",
       "      <td>0000000000436896</td>\n",
       "      <td>2017-08-18</td>\n",
       "      <td>NaN</td>\n",
       "      <td>24.75</td>\n",
       "      <td>6.19</td>\n",
       "      <td>5.73</td>\n",
       "      <td>...</td>\n",
       "      <td>Elife YAMAN</td>\n",
       "      <td>118</td>\n",
       "      <td>PINAR</td>\n",
       "      <td>ET TAVUK</td>\n",
       "      <td>ET ŞARKÜTERİ</td>\n",
       "      <td>SALAM</td>\n",
       "      <td>2017-08-19 14:32:15</td>\n",
       "      <td>2017-08-19 14:33:03</td>\n",
       "      <td>K</td>\n",
       "      <td>2018-07-14 02:03:52</td>\n",
       "    </tr>\n",
       "    <tr>\n",
       "      <th>2</th>\n",
       "      <td>3997491</td>\n",
       "      <td>1</td>\n",
       "      <td>00000003863</td>\n",
       "      <td>ETI CANGA 50GR</td>\n",
       "      <td>0000000000263942</td>\n",
       "      <td>2018-05-31</td>\n",
       "      <td>1.0</td>\n",
       "      <td>0.75</td>\n",
       "      <td>0.75</td>\n",
       "      <td>0.70</td>\n",
       "      <td>...</td>\n",
       "      <td>Aras ERBEYİ</td>\n",
       "      <td>44</td>\n",
       "      <td>ETİ</td>\n",
       "      <td>GIDA</td>\n",
       "      <td>BÜSKİVİ ÇEREZ</td>\n",
       "      <td>BÜSKİVİ</td>\n",
       "      <td>2018-06-01 09:00:30</td>\n",
       "      <td>2018-06-01 09:00:33</td>\n",
       "      <td>E</td>\n",
       "      <td>2018-07-14 02:25:00</td>\n",
       "    </tr>\n",
       "  </tbody>\n",
       "</table>\n",
       "<p>3 rows × 28 columns</p>\n",
       "</div>"
      ],
      "text/plain": [
       "   LOGICALREF  COUNT_     ITEMCODE  \\\n",
       "0     3292899       1  00000001803   \n",
       "1     1812914       1  00000003094   \n",
       "2     3997491       1  00000003863   \n",
       "\n",
       "                                     ITEMNAME           FICHENO      DATE_  \\\n",
       "0  CAFE CROWN KOPUKLU SUTLU KAHVE LATTE TEKLI  0000000000336963 2018-07-09   \n",
       "1                        PINAR HINDI SALAM KG  0000000000436896 2017-08-18   \n",
       "2                              ETI CANGA 50GR  0000000000263942 2018-05-31   \n",
       "\n",
       "   AMOUNT  PRICE  LINENETTOTAL  LINENET  ...    CLIENTNAME BRANDCODE  BRAND  \\\n",
       "0     1.0   0.50          0.50     0.46  ...  Ahmet COŞGEL       146  ÜLKER   \n",
       "1     NaN  24.75          6.19     5.73  ...   Elife YAMAN       118  PINAR   \n",
       "2     1.0   0.75          0.75     0.70  ...   Aras ERBEYİ        44    ETİ   \n",
       "\n",
       "  CATEGORY_NAME1 CATEGORY_NAME2  CATEGORY_NAME3           STARTDATE  \\\n",
       "0         İÇECEK      ÇAY KAHVE           KAHVE 2018-07-10 16:30:13   \n",
       "1       ET TAVUK   ET ŞARKÜTERİ           SALAM 2017-08-19 14:32:15   \n",
       "2           GIDA  BÜSKİVİ ÇEREZ         BÜSKİVİ 2018-06-01 09:00:30   \n",
       "\n",
       "              ENDDATE SPECODE CAPIBLOCK_CREADEDDATE  \n",
       "0 2018-07-10 16:30:26       E   2018-07-14 02:08:40  \n",
       "1 2017-08-19 14:33:03       K   2018-07-14 02:03:52  \n",
       "2 2018-06-01 09:00:33       E   2018-07-14 02:25:00  \n",
       "\n",
       "[3 rows x 28 columns]"
      ]
     },
     "execution_count": 4,
     "metadata": {},
     "output_type": "execute_result"
    }
   ],
   "source": [
    "market5.limit(3).toPandas()"
   ]
  },
  {
   "cell_type": "markdown",
   "metadata": {},
   "source": [
    "# spark.sql.adaptive.enabled"
   ]
  },
  {
   "cell_type": "code",
   "execution_count": 5,
   "metadata": {},
   "outputs": [],
   "source": [
    "spark.conf.set(\"spark.sql.adaptive.enabled\", True)"
   ]
  },
  {
   "cell_type": "code",
   "execution_count": 6,
   "metadata": {},
   "outputs": [
    {
     "name": "stdout",
     "output_type": "stream",
     "text": [
      "--- 82.82320880889893 seconds ---\n"
     ]
    }
   ],
   "source": [
    "import time \n",
    "start_time = time.time()\n",
    "\n",
    "market5.groupBy(\"CITY\", \"BRANCH\").agg(F.sum(F.col(\"LINENETTOTAL\")).alias(\"Total\")) \\\n",
    ".orderBy(F.desc(\"Total\")) \\\n",
    ".limit(10) \\\n",
    ".toPandas()\n",
    "\n",
    "print(\"--- %s seconds ---\" %(time.time()- start_time))"
   ]
  },
  {
   "cell_type": "markdown",
   "metadata": {},
   "source": [
    "# without enabled"
   ]
  },
  {
   "cell_type": "code",
   "execution_count": 7,
   "metadata": {},
   "outputs": [
    {
     "data": {
      "text/plain": [
       "'false'"
      ]
     },
     "execution_count": 7,
     "metadata": {},
     "output_type": "execute_result"
    }
   ],
   "source": [
    "spark.conf.set(\"spark.sql.adaptive.enabled\", False)\n",
    "spark.conf.get(\"spark.sql.adaptive.enabled\")"
   ]
  },
  {
   "cell_type": "code",
   "execution_count": 8,
   "metadata": {},
   "outputs": [
    {
     "name": "stdout",
     "output_type": "stream",
     "text": [
      "--- 46.57761883735657 seconds ---\n"
     ]
    }
   ],
   "source": [
    "import time \n",
    "start_time = time.time()\n",
    "\n",
    "market5.groupBy(\"CITY\", \"BRANCH\").agg(F.sum(F.col(\"LINENETTOTAL\")).alias(\"Total\")) \\\n",
    ".orderBy(F.desc(\"Total\")) \\\n",
    ".limit(10) \\\n",
    ".toPandas()\n",
    "\n",
    "print(\"--- %s seconds ---\" %(time.time()- start_time))"
   ]
  },
  {
   "cell_type": "markdown",
   "metadata": {},
   "source": [
    "## Execute AQE with bucketing+partitioning and 8"
   ]
  },
  {
   "cell_type": "code",
   "execution_count": 9,
   "metadata": {},
   "outputs": [
    {
     "data": {
      "text/plain": [
       "'false'"
      ]
     },
     "execution_count": 9,
     "metadata": {},
     "output_type": "execute_result"
    }
   ],
   "source": [
    "spark.conf.set(\"spark.sql.adaptive.enabled\", False)\n",
    "spark.conf.get(\"spark.sql.adaptive.enabled\")"
   ]
  },
  {
   "cell_type": "code",
   "execution_count": 10,
   "metadata": {},
   "outputs": [
    {
     "data": {
      "text/plain": [
       "'8'"
      ]
     },
     "execution_count": 10,
     "metadata": {},
     "output_type": "execute_result"
    }
   ],
   "source": [
    "spark.conf.set(\"spark.sql.shuffle.partitions\", 8)\n",
    "spark.conf.get(\"spark.sql.shuffle.partitions\")"
   ]
  },
  {
   "cell_type": "code",
   "execution_count": 13,
   "metadata": {},
   "outputs": [],
   "source": [
    "market5mil_pby_region = spark.sql(\"select * from market5mil_pby_region\")"
   ]
  },
  {
   "cell_type": "code",
   "execution_count": 14,
   "metadata": {},
   "outputs": [
    {
     "data": {
      "text/html": [
       "<div>\n",
       "<style scoped>\n",
       "    .dataframe tbody tr th:only-of-type {\n",
       "        vertical-align: middle;\n",
       "    }\n",
       "\n",
       "    .dataframe tbody tr th {\n",
       "        vertical-align: top;\n",
       "    }\n",
       "\n",
       "    .dataframe thead th {\n",
       "        text-align: right;\n",
       "    }\n",
       "</style>\n",
       "<table border=\"1\" class=\"dataframe\">\n",
       "  <thead>\n",
       "    <tr style=\"text-align: right;\">\n",
       "      <th></th>\n",
       "      <th>LOGICALREF</th>\n",
       "      <th>COUNT_</th>\n",
       "      <th>ITEMCODE</th>\n",
       "      <th>ITEMNAME</th>\n",
       "      <th>FICHENO</th>\n",
       "      <th>DATE_</th>\n",
       "      <th>AMOUNT</th>\n",
       "      <th>PRICE</th>\n",
       "      <th>LINENETTOTAL</th>\n",
       "      <th>LINENET</th>\n",
       "      <th>...</th>\n",
       "      <th>BRANDCODE</th>\n",
       "      <th>BRAND</th>\n",
       "      <th>CATEGORY_NAME1</th>\n",
       "      <th>CATEGORY_NAME2</th>\n",
       "      <th>CATEGORY_NAME3</th>\n",
       "      <th>STARTDATE</th>\n",
       "      <th>ENDDATE</th>\n",
       "      <th>SPECODE</th>\n",
       "      <th>CAPIBLOCK_CREADEDDATE</th>\n",
       "      <th>REGION</th>\n",
       "    </tr>\n",
       "  </thead>\n",
       "  <tbody>\n",
       "    <tr>\n",
       "      <th>0</th>\n",
       "      <td>210147</td>\n",
       "      <td>1</td>\n",
       "      <td>00000002282</td>\n",
       "      <td>NESTLE PASTANEM KOSTEBEK  120</td>\n",
       "      <td>0000000000064854</td>\n",
       "      <td>2017-02-04</td>\n",
       "      <td>1.0</td>\n",
       "      <td>4.25</td>\n",
       "      <td>4.25</td>\n",
       "      <td>3.94</td>\n",
       "      <td>...</td>\n",
       "      <td>97</td>\n",
       "      <td>NESTLE</td>\n",
       "      <td>GIDA</td>\n",
       "      <td>ÇİKOLATA GOFRET</td>\n",
       "      <td>None</td>\n",
       "      <td>2017-02-05 15:24:41</td>\n",
       "      <td>2017-02-05 15:24:53</td>\n",
       "      <td>E</td>\n",
       "      <td>2018-07-14 01:45:19</td>\n",
       "      <td>Akdeniz</td>\n",
       "    </tr>\n",
       "    <tr>\n",
       "      <th>1</th>\n",
       "      <td>41370</td>\n",
       "      <td>1</td>\n",
       "      <td>00000005694</td>\n",
       "      <td>DOMATES</td>\n",
       "      <td>0000000000025356</td>\n",
       "      <td>2017-01-11</td>\n",
       "      <td>NaN</td>\n",
       "      <td>2.50</td>\n",
       "      <td>2.76</td>\n",
       "      <td>2.56</td>\n",
       "      <td>...</td>\n",
       "      <td>A25</td>\n",
       "      <td>HAL</td>\n",
       "      <td>MEYVE SEBZE</td>\n",
       "      <td>SEBZE</td>\n",
       "      <td>None</td>\n",
       "      <td>2017-01-12 18:24:05</td>\n",
       "      <td>2017-01-12 18:25:16</td>\n",
       "      <td>E</td>\n",
       "      <td>2018-07-14 01:58:04</td>\n",
       "      <td>Akdeniz</td>\n",
       "    </tr>\n",
       "    <tr>\n",
       "      <th>2</th>\n",
       "      <td>192242</td>\n",
       "      <td>1</td>\n",
       "      <td>00000000011</td>\n",
       "      <td>TRABZON&amp;KOY EKMEGI</td>\n",
       "      <td>0000000000060978</td>\n",
       "      <td>2017-02-02</td>\n",
       "      <td>1.0</td>\n",
       "      <td>3.00</td>\n",
       "      <td>3.00</td>\n",
       "      <td>2.97</td>\n",
       "      <td>...</td>\n",
       "      <td>None</td>\n",
       "      <td>None</td>\n",
       "      <td>GIDA</td>\n",
       "      <td>UNLU MAMÜLLER</td>\n",
       "      <td>EKMEK</td>\n",
       "      <td>2017-02-03 10:57:12</td>\n",
       "      <td>2017-02-03 10:58:17</td>\n",
       "      <td>K</td>\n",
       "      <td>2018-07-14 02:19:40</td>\n",
       "      <td>Akdeniz</td>\n",
       "    </tr>\n",
       "  </tbody>\n",
       "</table>\n",
       "<p>3 rows × 28 columns</p>\n",
       "</div>"
      ],
      "text/plain": [
       "   LOGICALREF  COUNT_     ITEMCODE                       ITEMNAME  \\\n",
       "0      210147       1  00000002282  NESTLE PASTANEM KOSTEBEK  120   \n",
       "1       41370       1  00000005694                        DOMATES   \n",
       "2      192242       1  00000000011             TRABZON&KOY EKMEGI   \n",
       "\n",
       "            FICHENO      DATE_  AMOUNT  PRICE  LINENETTOTAL  LINENET  ...  \\\n",
       "0  0000000000064854 2017-02-04     1.0   4.25          4.25     3.94  ...   \n",
       "1  0000000000025356 2017-01-11     NaN   2.50          2.76     2.56  ...   \n",
       "2  0000000000060978 2017-02-02     1.0   3.00          3.00     2.97  ...   \n",
       "\n",
       "  BRANDCODE   BRAND CATEGORY_NAME1   CATEGORY_NAME2  CATEGORY_NAME3  \\\n",
       "0        97  NESTLE           GIDA  ÇİKOLATA GOFRET            None   \n",
       "1       A25     HAL    MEYVE SEBZE            SEBZE            None   \n",
       "2      None    None           GIDA    UNLU MAMÜLLER           EKMEK   \n",
       "\n",
       "            STARTDATE             ENDDATE SPECODE CAPIBLOCK_CREADEDDATE  \\\n",
       "0 2017-02-05 15:24:41 2017-02-05 15:24:53       E   2018-07-14 01:45:19   \n",
       "1 2017-01-12 18:24:05 2017-01-12 18:25:16       E   2018-07-14 01:58:04   \n",
       "2 2017-02-03 10:57:12 2017-02-03 10:58:17       K   2018-07-14 02:19:40   \n",
       "\n",
       "    REGION  \n",
       "0  Akdeniz  \n",
       "1  Akdeniz  \n",
       "2  Akdeniz  \n",
       "\n",
       "[3 rows x 28 columns]"
      ]
     },
     "execution_count": 14,
     "metadata": {},
     "output_type": "execute_result"
    }
   ],
   "source": [
    "market5mil_pby_region.limit(3).toPandas()"
   ]
  },
  {
   "cell_type": "code",
   "execution_count": 16,
   "metadata": {},
   "outputs": [
    {
     "name": "stdout",
     "output_type": "stream",
     "text": [
      "--- 4.664134979248047 seconds ---\n"
     ]
    }
   ],
   "source": [
    "import time \n",
    "start_time = time.time()\n",
    "\n",
    "market5mil_pby_region.groupBy(\"CITY\", \"BRANCH\").agg(F.sum(F.col(\"LINENETTOTAL\")).alias(\"Total\")) \\\n",
    ".orderBy(F.desc(\"Total\")) \\\n",
    ".limit(20) \\\n",
    ".toPandas()\n",
    "\n",
    "print(\"--- %s seconds ---\" %(time.time()- start_time))"
   ]
  },
  {
   "cell_type": "code",
   "execution_count": 17,
   "metadata": {},
   "outputs": [],
   "source": [
    "spark.stop()"
   ]
  },
  {
   "cell_type": "code",
   "execution_count": null,
   "metadata": {},
   "outputs": [],
   "source": []
  }
 ],
 "metadata": {
  "kernelspec": {
   "display_name": "venvspark",
   "language": "python",
   "name": "venvspark"
  },
  "language_info": {
   "codemirror_mode": {
    "name": "ipython",
    "version": 3
   },
   "file_extension": ".py",
   "mimetype": "text/x-python",
   "name": "python",
   "nbconvert_exporter": "python",
   "pygments_lexer": "ipython3",
   "version": "3.6.8"
  }
 },
 "nbformat": 4,
 "nbformat_minor": 4
}
