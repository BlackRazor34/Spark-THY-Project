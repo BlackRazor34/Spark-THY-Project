{
 "cells": [
  {
   "cell_type": "code",
   "execution_count": 1,
   "metadata": {},
   "outputs": [],
   "source": [
    "import findspark\n",
    "findspark.init(\"/opt/manual/spark\")\n",
    "from pyspark.sql import SparkSession, functions as F"
   ]
  },
  {
   "cell_type": "code",
   "execution_count": 2,
   "metadata": {},
   "outputs": [],
   "source": [
    "spark = (\n",
    "    SparkSession.builder\n",
    "    .appName(\"Spark Partitioning\")\n",
    "    .master(\"yarn\")\n",
    "    .enableHiveSupport()\n",
    "    .getOrCreate())"
   ]
  },
  {
   "cell_type": "code",
   "execution_count": 3,
   "metadata": {},
   "outputs": [],
   "source": [
    "market5mil = spark.read.format(\"parquet\") \\\n",
    ".load(\"/user/train/datasets/market5mil_parquet\") \\\n",
    ".orderBy(F.rand())"
   ]
  },
  {
   "cell_type": "code",
   "execution_count": 4,
   "metadata": {},
   "outputs": [
    {
     "data": {
      "text/html": [
       "<div>\n",
       "<style scoped>\n",
       "    .dataframe tbody tr th:only-of-type {\n",
       "        vertical-align: middle;\n",
       "    }\n",
       "\n",
       "    .dataframe tbody tr th {\n",
       "        vertical-align: top;\n",
       "    }\n",
       "\n",
       "    .dataframe thead th {\n",
       "        text-align: right;\n",
       "    }\n",
       "</style>\n",
       "<table border=\"1\" class=\"dataframe\">\n",
       "  <thead>\n",
       "    <tr style=\"text-align: right;\">\n",
       "      <th></th>\n",
       "      <th>LOGICALREF</th>\n",
       "      <th>COUNT_</th>\n",
       "      <th>ITEMCODE</th>\n",
       "      <th>ITEMNAME</th>\n",
       "      <th>FICHENO</th>\n",
       "      <th>DATE_</th>\n",
       "      <th>AMOUNT</th>\n",
       "      <th>PRICE</th>\n",
       "      <th>LINENETTOTAL</th>\n",
       "      <th>LINENET</th>\n",
       "      <th>...</th>\n",
       "      <th>CLIENTNAME</th>\n",
       "      <th>BRANDCODE</th>\n",
       "      <th>BRAND</th>\n",
       "      <th>CATEGORY_NAME1</th>\n",
       "      <th>CATEGORY_NAME2</th>\n",
       "      <th>CATEGORY_NAME3</th>\n",
       "      <th>STARTDATE</th>\n",
       "      <th>ENDDATE</th>\n",
       "      <th>SPECODE</th>\n",
       "      <th>CAPIBLOCK_CREADEDDATE</th>\n",
       "    </tr>\n",
       "  </thead>\n",
       "  <tbody>\n",
       "    <tr>\n",
       "      <th>0</th>\n",
       "      <td>3239031</td>\n",
       "      <td>1</td>\n",
       "      <td>00000011742</td>\n",
       "      <td>ULKER GRANINI 330 ML KARISIK</td>\n",
       "      <td>0000000000230439</td>\n",
       "      <td>2018-05-12</td>\n",
       "      <td>1</td>\n",
       "      <td>1.25</td>\n",
       "      <td>1.25</td>\n",
       "      <td>1.16</td>\n",
       "      <td>...</td>\n",
       "      <td>Şaziye FERSİZ</td>\n",
       "      <td>146</td>\n",
       "      <td>ÜLKER</td>\n",
       "      <td>İÇECEK</td>\n",
       "      <td>GAZSIZ İÇECEK</td>\n",
       "      <td>MEYVE SUYU</td>\n",
       "      <td>2018-05-13 12:12:40</td>\n",
       "      <td>2018-05-13 12:12:44</td>\n",
       "      <td>K</td>\n",
       "      <td>2018-07-14 02:09:02</td>\n",
       "    </tr>\n",
       "    <tr>\n",
       "      <th>1</th>\n",
       "      <td>3208362</td>\n",
       "      <td>1</td>\n",
       "      <td>00000008664</td>\n",
       "      <td>BINGO SIVI DET.4 LT.RENKLI</td>\n",
       "      <td>0000000000226316</td>\n",
       "      <td>2018-05-10</td>\n",
       "      <td>1</td>\n",
       "      <td>14.25</td>\n",
       "      <td>14.25</td>\n",
       "      <td>12.08</td>\n",
       "      <td>...</td>\n",
       "      <td>Hamdi REİSOGLU</td>\n",
       "      <td>224</td>\n",
       "      <td>BİNGO</td>\n",
       "      <td>DETERJAN TEMİZLİK</td>\n",
       "      <td>ÇAMAŞIR YIKAMA</td>\n",
       "      <td>SIVI JEL DETERJAN</td>\n",
       "      <td>2018-05-11 14:30:46</td>\n",
       "      <td>2018-05-11 14:33:46</td>\n",
       "      <td>E</td>\n",
       "      <td>2018-07-14 02:17:04</td>\n",
       "    </tr>\n",
       "  </tbody>\n",
       "</table>\n",
       "<p>2 rows × 28 columns</p>\n",
       "</div>"
      ],
      "text/plain": [
       "   LOGICALREF  COUNT_     ITEMCODE                       ITEMNAME  \\\n",
       "0     3239031       1  00000011742  ULKER GRANINI 330 ML KARISIK    \n",
       "1     3208362       1  00000008664     BINGO SIVI DET.4 LT.RENKLI   \n",
       "\n",
       "            FICHENO      DATE_  AMOUNT  PRICE  LINENETTOTAL  LINENET  ...  \\\n",
       "0  0000000000230439 2018-05-12       1   1.25          1.25     1.16  ...   \n",
       "1  0000000000226316 2018-05-10       1  14.25         14.25    12.08  ...   \n",
       "\n",
       "       CLIENTNAME BRANDCODE  BRAND     CATEGORY_NAME1  CATEGORY_NAME2  \\\n",
       "0   Şaziye FERSİZ       146  ÜLKER             İÇECEK   GAZSIZ İÇECEK   \n",
       "1  Hamdi REİSOGLU       224  BİNGO  DETERJAN TEMİZLİK  ÇAMAŞIR YIKAMA   \n",
       "\n",
       "      CATEGORY_NAME3           STARTDATE             ENDDATE SPECODE  \\\n",
       "0         MEYVE SUYU 2018-05-13 12:12:40 2018-05-13 12:12:44       K   \n",
       "1  SIVI JEL DETERJAN 2018-05-11 14:30:46 2018-05-11 14:33:46       E   \n",
       "\n",
       "  CAPIBLOCK_CREADEDDATE  \n",
       "0   2018-07-14 02:09:02  \n",
       "1   2018-07-14 02:17:04  \n",
       "\n",
       "[2 rows x 28 columns]"
      ]
     },
     "execution_count": 4,
     "metadata": {},
     "output_type": "execute_result"
    }
   ],
   "source": [
    "market5mil.limit(2).toPandas()"
   ]
  },
  {
   "cell_type": "code",
   "execution_count": 5,
   "metadata": {},
   "outputs": [
    {
     "name": "stdout",
     "output_type": "stream",
     "text": [
      "root\n",
      " |-- LOGICALREF: integer (nullable = true)\n",
      " |-- COUNT_: integer (nullable = true)\n",
      " |-- ITEMCODE: string (nullable = true)\n",
      " |-- ITEMNAME: string (nullable = true)\n",
      " |-- FICHENO: string (nullable = true)\n",
      " |-- DATE_: timestamp (nullable = true)\n",
      " |-- AMOUNT: integer (nullable = true)\n",
      " |-- PRICE: float (nullable = true)\n",
      " |-- LINENETTOTAL: float (nullable = true)\n",
      " |-- LINENET: float (nullable = true)\n",
      " |-- BRANCHNR: string (nullable = true)\n",
      " |-- BRANCH: string (nullable = true)\n",
      " |-- SALESMAN: string (nullable = true)\n",
      " |-- CITY: string (nullable = true)\n",
      " |-- REGION: string (nullable = true)\n",
      " |-- LATITUDE: float (nullable = true)\n",
      " |-- LONGITUDE: float (nullable = true)\n",
      " |-- CLIENTCODE: string (nullable = true)\n",
      " |-- CLIENTNAME: string (nullable = true)\n",
      " |-- BRANDCODE: string (nullable = true)\n",
      " |-- BRAND: string (nullable = true)\n",
      " |-- CATEGORY_NAME1: string (nullable = true)\n",
      " |-- CATEGORY_NAME2: string (nullable = true)\n",
      " |-- CATEGORY_NAME3: string (nullable = true)\n",
      " |-- STARTDATE: timestamp (nullable = true)\n",
      " |-- ENDDATE: timestamp (nullable = true)\n",
      " |-- SPECODE: string (nullable = true)\n",
      " |-- CAPIBLOCK_CREADEDDATE: timestamp (nullable = true)\n",
      "\n"
     ]
    }
   ],
   "source": [
    "market5mil.printSchema()"
   ]
  },
  {
   "cell_type": "code",
   "execution_count": 6,
   "metadata": {},
   "outputs": [
    {
     "name": "stdout",
     "output_type": "stream",
     "text": [
      "--- 38.93350434303284 seconds ---\n"
     ]
    }
   ],
   "source": [
    "import time \n",
    "start_time = time.time()\n",
    "\n",
    "market5mil.groupBy(\"CITY\", \"BRANCH\").agg(F.sum(F.col(\"LINENETTOTAL\")).alias(\"Total\")) \\\n",
    ".orderBy(F.desc(\"Total\")) \\\n",
    ".limit(10) \\\n",
    ".toPandas()\n",
    "\n",
    "print(\"--- %s seconds ---\" %(time.time()- start_time))"
   ]
  },
  {
   "cell_type": "markdown",
   "metadata": {},
   "source": [
    "# Write to hive"
   ]
  },
  {
   "cell_type": "code",
   "execution_count": 8,
   "metadata": {},
   "outputs": [
    {
     "name": "stdout",
     "output_type": "stream",
     "text": [
      "----- 183.67112684249878 -----\n"
     ]
    }
   ],
   "source": [
    "start_time = time.time()\n",
    "\n",
    "market5mil.orderBy(\"CITY\") \\\n",
    ".write.format(\"parquet\") \\\n",
    ".partitionBy(\"REGION\") \\\n",
    ".bucketBy(8, \"CITY\") \\\n",
    ".mode(\"overwrite\") \\\n",
    ".saveAsTable(\"market5mil_pby_region\")\n",
    "\n",
    "\n",
    "print(\"----- %s -----\" %(time.time() - start_time))"
   ]
  },
  {
   "cell_type": "code",
   "execution_count": 9,
   "metadata": {},
   "outputs": [],
   "source": [
    "market5mil_pby_region = spark.sql(\"select * from market5mil_pby_region\")"
   ]
  },
  {
   "cell_type": "code",
   "execution_count": 10,
   "metadata": {},
   "outputs": [
    {
     "data": {
      "text/html": [
       "<div>\n",
       "<style scoped>\n",
       "    .dataframe tbody tr th:only-of-type {\n",
       "        vertical-align: middle;\n",
       "    }\n",
       "\n",
       "    .dataframe tbody tr th {\n",
       "        vertical-align: top;\n",
       "    }\n",
       "\n",
       "    .dataframe thead th {\n",
       "        text-align: right;\n",
       "    }\n",
       "</style>\n",
       "<table border=\"1\" class=\"dataframe\">\n",
       "  <thead>\n",
       "    <tr style=\"text-align: right;\">\n",
       "      <th></th>\n",
       "      <th>LOGICALREF</th>\n",
       "      <th>COUNT_</th>\n",
       "      <th>ITEMCODE</th>\n",
       "      <th>ITEMNAME</th>\n",
       "      <th>FICHENO</th>\n",
       "      <th>DATE_</th>\n",
       "      <th>AMOUNT</th>\n",
       "      <th>PRICE</th>\n",
       "      <th>LINENETTOTAL</th>\n",
       "      <th>LINENET</th>\n",
       "      <th>...</th>\n",
       "      <th>BRANDCODE</th>\n",
       "      <th>BRAND</th>\n",
       "      <th>CATEGORY_NAME1</th>\n",
       "      <th>CATEGORY_NAME2</th>\n",
       "      <th>CATEGORY_NAME3</th>\n",
       "      <th>STARTDATE</th>\n",
       "      <th>ENDDATE</th>\n",
       "      <th>SPECODE</th>\n",
       "      <th>CAPIBLOCK_CREADEDDATE</th>\n",
       "      <th>REGION</th>\n",
       "    </tr>\n",
       "  </thead>\n",
       "  <tbody>\n",
       "    <tr>\n",
       "      <th>0</th>\n",
       "      <td>210147</td>\n",
       "      <td>1</td>\n",
       "      <td>00000002282</td>\n",
       "      <td>NESTLE PASTANEM KOSTEBEK  120</td>\n",
       "      <td>0000000000064854</td>\n",
       "      <td>2017-02-04</td>\n",
       "      <td>1.0</td>\n",
       "      <td>4.25</td>\n",
       "      <td>4.25</td>\n",
       "      <td>3.94</td>\n",
       "      <td>...</td>\n",
       "      <td>97</td>\n",
       "      <td>NESTLE</td>\n",
       "      <td>GIDA</td>\n",
       "      <td>ÇİKOLATA GOFRET</td>\n",
       "      <td>None</td>\n",
       "      <td>2017-02-05 15:24:41</td>\n",
       "      <td>2017-02-05 15:24:53</td>\n",
       "      <td>E</td>\n",
       "      <td>2018-07-14 01:45:19</td>\n",
       "      <td>Akdeniz</td>\n",
       "    </tr>\n",
       "    <tr>\n",
       "      <th>1</th>\n",
       "      <td>41370</td>\n",
       "      <td>1</td>\n",
       "      <td>00000005694</td>\n",
       "      <td>DOMATES</td>\n",
       "      <td>0000000000025356</td>\n",
       "      <td>2017-01-11</td>\n",
       "      <td>NaN</td>\n",
       "      <td>2.50</td>\n",
       "      <td>2.76</td>\n",
       "      <td>2.56</td>\n",
       "      <td>...</td>\n",
       "      <td>A25</td>\n",
       "      <td>HAL</td>\n",
       "      <td>MEYVE SEBZE</td>\n",
       "      <td>SEBZE</td>\n",
       "      <td>None</td>\n",
       "      <td>2017-01-12 18:24:05</td>\n",
       "      <td>2017-01-12 18:25:16</td>\n",
       "      <td>E</td>\n",
       "      <td>2018-07-14 01:58:04</td>\n",
       "      <td>Akdeniz</td>\n",
       "    </tr>\n",
       "    <tr>\n",
       "      <th>2</th>\n",
       "      <td>192242</td>\n",
       "      <td>1</td>\n",
       "      <td>00000000011</td>\n",
       "      <td>TRABZON&amp;KOY EKMEGI</td>\n",
       "      <td>0000000000060978</td>\n",
       "      <td>2017-02-02</td>\n",
       "      <td>1.0</td>\n",
       "      <td>3.00</td>\n",
       "      <td>3.00</td>\n",
       "      <td>2.97</td>\n",
       "      <td>...</td>\n",
       "      <td>None</td>\n",
       "      <td>None</td>\n",
       "      <td>GIDA</td>\n",
       "      <td>UNLU MAMÜLLER</td>\n",
       "      <td>EKMEK</td>\n",
       "      <td>2017-02-03 10:57:12</td>\n",
       "      <td>2017-02-03 10:58:17</td>\n",
       "      <td>K</td>\n",
       "      <td>2018-07-14 02:19:40</td>\n",
       "      <td>Akdeniz</td>\n",
       "    </tr>\n",
       "  </tbody>\n",
       "</table>\n",
       "<p>3 rows × 28 columns</p>\n",
       "</div>"
      ],
      "text/plain": [
       "   LOGICALREF  COUNT_     ITEMCODE                       ITEMNAME  \\\n",
       "0      210147       1  00000002282  NESTLE PASTANEM KOSTEBEK  120   \n",
       "1       41370       1  00000005694                        DOMATES   \n",
       "2      192242       1  00000000011             TRABZON&KOY EKMEGI   \n",
       "\n",
       "            FICHENO      DATE_  AMOUNT  PRICE  LINENETTOTAL  LINENET  ...  \\\n",
       "0  0000000000064854 2017-02-04     1.0   4.25          4.25     3.94  ...   \n",
       "1  0000000000025356 2017-01-11     NaN   2.50          2.76     2.56  ...   \n",
       "2  0000000000060978 2017-02-02     1.0   3.00          3.00     2.97  ...   \n",
       "\n",
       "  BRANDCODE   BRAND CATEGORY_NAME1   CATEGORY_NAME2  CATEGORY_NAME3  \\\n",
       "0        97  NESTLE           GIDA  ÇİKOLATA GOFRET            None   \n",
       "1       A25     HAL    MEYVE SEBZE            SEBZE            None   \n",
       "2      None    None           GIDA    UNLU MAMÜLLER           EKMEK   \n",
       "\n",
       "            STARTDATE             ENDDATE SPECODE CAPIBLOCK_CREADEDDATE  \\\n",
       "0 2017-02-05 15:24:41 2017-02-05 15:24:53       E   2018-07-14 01:45:19   \n",
       "1 2017-01-12 18:24:05 2017-01-12 18:25:16       E   2018-07-14 01:58:04   \n",
       "2 2017-02-03 10:57:12 2017-02-03 10:58:17       K   2018-07-14 02:19:40   \n",
       "\n",
       "    REGION  \n",
       "0  Akdeniz  \n",
       "1  Akdeniz  \n",
       "2  Akdeniz  \n",
       "\n",
       "[3 rows x 28 columns]"
      ]
     },
     "execution_count": 10,
     "metadata": {},
     "output_type": "execute_result"
    }
   ],
   "source": [
    "market5mil_pby_region.limit(3).toPandas()"
   ]
  },
  {
   "cell_type": "code",
   "execution_count": 11,
   "metadata": {},
   "outputs": [
    {
     "name": "stdout",
     "output_type": "stream",
     "text": [
      "--- 34.97564673423767 seconds ---\n"
     ]
    }
   ],
   "source": [
    "import time \n",
    "start_time = time.time()\n",
    "\n",
    "market5mil.groupBy(\"CITY\", \"BRANCH\").agg(F.sum(F.col(\"LINENETTOTAL\")).alias(\"Total\")) \\\n",
    ".orderBy(F.desc(\"Total\")) \\\n",
    ".limit(10) \\\n",
    ".toPandas()\n",
    "\n",
    "print(\"--- %s seconds ---\" %(time.time()- start_time))"
   ]
  },
  {
   "cell_type": "code",
   "execution_count": 12,
   "metadata": {},
   "outputs": [
    {
     "name": "stdout",
     "output_type": "stream",
     "text": [
      "--- 5.712671518325806 seconds ---\n"
     ]
    }
   ],
   "source": [
    "import time \n",
    "start_time = time.time()\n",
    "\n",
    "market5mil_pby_region.groupBy(\"CITY\", \"BRANCH\").agg(F.sum(F.col(\"LINENETTOTAL\")).alias(\"Total\")) \\\n",
    ".orderBy(F.desc(\"Total\")) \\\n",
    ".limit(20) \\\n",
    ".toPandas()\n",
    "\n",
    "print(\"--- %s seconds ---\" %(time.time()- start_time))"
   ]
  },
  {
   "cell_type": "code",
   "execution_count": 13,
   "metadata": {},
   "outputs": [
    {
     "name": "stdout",
     "output_type": "stream",
     "text": [
      "Found 8 items\r\n",
      "drwxr-xr-x   - train hive          0 2025-06-14 13:10 /user/hive/warehouse/market5mil_pby_region/REGION=Akdeniz\r\n",
      "drwxr-xr-x   - train hive          0 2025-06-14 13:10 /user/hive/warehouse/market5mil_pby_region/REGION=Doğu Anadolu\r\n",
      "drwxr-xr-x   - train hive          0 2025-06-14 13:10 /user/hive/warehouse/market5mil_pby_region/REGION=Ege\r\n",
      "drwxr-xr-x   - train hive          0 2025-06-14 13:10 /user/hive/warehouse/market5mil_pby_region/REGION=Güneydoğu Anadolu\r\n",
      "drwxr-xr-x   - train hive          0 2025-06-14 13:10 /user/hive/warehouse/market5mil_pby_region/REGION=Karadeniz\r\n",
      "drwxr-xr-x   - train hive          0 2025-06-14 13:10 /user/hive/warehouse/market5mil_pby_region/REGION=Marmara\r\n",
      "drwxr-xr-x   - train hive          0 2025-06-14 13:10 /user/hive/warehouse/market5mil_pby_region/REGION=İç Anadolu\r\n",
      "-rw-r--r--   1 train hive          0 2025-06-14 13:10 /user/hive/warehouse/market5mil_pby_region/_SUCCESS\r\n"
     ]
    }
   ],
   "source": [
    "! hdfs dfs -ls /user/hive/warehouse/market5mil_pby_region"
   ]
  },
  {
   "cell_type": "code",
   "execution_count": 14,
   "metadata": {},
   "outputs": [],
   "source": [
    "spark.stop()"
   ]
  },
  {
   "cell_type": "code",
   "execution_count": null,
   "metadata": {},
   "outputs": [],
   "source": []
  }
 ],
 "metadata": {
  "kernelspec": {
   "display_name": "venvspark",
   "language": "python",
   "name": "venvspark"
  },
  "language_info": {
   "codemirror_mode": {
    "name": "ipython",
    "version": 3
   },
   "file_extension": ".py",
   "mimetype": "text/x-python",
   "name": "python",
   "nbconvert_exporter": "python",
   "pygments_lexer": "ipython3",
   "version": "3.6.8"
  }
 },
 "nbformat": 4,
 "nbformat_minor": 4
}
