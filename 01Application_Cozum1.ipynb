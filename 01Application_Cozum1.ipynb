{
 "cells": [
  {
   "cell_type": "code",
   "execution_count": 1,
   "metadata": {},
   "outputs": [
    {
     "name": "stdout",
     "output_type": "stream",
     "text": [
      "--2025-06-14 17:25:08--  https://github.com/erkansirin78/datasets/raw/master/dirty_store_transactions.csv\n",
      "Resolving github.com (github.com)... 140.82.121.4\n",
      "Connecting to github.com (github.com)|140.82.121.4|:443... connected.\n",
      "HTTP request sent, awaiting response... 302 Found\n",
      "Location: https://raw.githubusercontent.com/erkansirin78/datasets/master/dirty_store_transactions.csv [following]\n",
      "--2025-06-14 17:25:09--  https://raw.githubusercontent.com/erkansirin78/datasets/master/dirty_store_transactions.csv\n",
      "Resolving raw.githubusercontent.com (raw.githubusercontent.com)... 185.199.110.133, 185.199.109.133, 185.199.111.133, ...\n",
      "Connecting to raw.githubusercontent.com (raw.githubusercontent.com)|185.199.110.133|:443... connected.\n",
      "HTTP request sent, awaiting response... 200 OK\n",
      "Length: 2609524 (2.5M) [text/plain]\n",
      "Saving to: ‘dirty_store_transactions.csv.2’\n",
      "\n",
      "100%[======================================>] 2,609,524   2.56MB/s   in 1.0s   \n",
      "\n",
      "2025-06-14 17:25:10 (2.56 MB/s) - ‘dirty_store_transactions.csv.2’ saved [2609524/2609524]\n",
      "\n"
     ]
    }
   ],
   "source": [
    "!wget https://github.com/erkansirin78/datasets/raw/master/dirty_store_transactions.csv"
   ]
  },
  {
   "cell_type": "code",
   "execution_count": 1,
   "metadata": {},
   "outputs": [],
   "source": [
    "import findspark"
   ]
  },
  {
   "cell_type": "code",
   "execution_count": 2,
   "metadata": {},
   "outputs": [],
   "source": [
    "findspark.init(\"/opt/manual/spark\")"
   ]
  },
  {
   "cell_type": "code",
   "execution_count": 3,
   "metadata": {},
   "outputs": [],
   "source": [
    "from pyspark.sql import SparkSession, functions as F\n",
    "from pyspark.sql.types import *\n",
    "\n",
    "spark = SparkSession.builder \\\n",
    " .appName(\"Spark App Data Cleaning\") \\\n",
    " .master(\"yarn\") \\\n",
    " .enableHiveSupport() \\\n",
    ".getOrCreate()"
   ]
  },
  {
   "cell_type": "code",
   "execution_count": 6,
   "metadata": {},
   "outputs": [],
   "source": [
    "df = spark.read \\\n",
    "    .option(\"header\",True) \\\n",
    "    .option(\"sep\", \",\") \\\n",
    "    .option(\"inferSchema\", True) \\\n",
    "    .csv(\"file:///home/train/Calisma_Alanim/dirty_store_transactions.csv.2\")"
   ]
  },
  {
   "cell_type": "code",
   "execution_count": 7,
   "metadata": {},
   "outputs": [
    {
     "data": {
      "text/html": [
       "<div>\n",
       "<style scoped>\n",
       "    .dataframe tbody tr th:only-of-type {\n",
       "        vertical-align: middle;\n",
       "    }\n",
       "\n",
       "    .dataframe tbody tr th {\n",
       "        vertical-align: top;\n",
       "    }\n",
       "\n",
       "    .dataframe thead th {\n",
       "        text-align: right;\n",
       "    }\n",
       "</style>\n",
       "<table border=\"1\" class=\"dataframe\">\n",
       "  <thead>\n",
       "    <tr style=\"text-align: right;\">\n",
       "      <th></th>\n",
       "      <th>STORE_ID</th>\n",
       "      <th>STORE_LOCATION</th>\n",
       "      <th>PRODUCT_CATEGORY</th>\n",
       "      <th>PRODUCT_ID</th>\n",
       "      <th>MRP</th>\n",
       "      <th>CP</th>\n",
       "      <th>DISCOUNT</th>\n",
       "      <th>SP</th>\n",
       "      <th>Date</th>\n",
       "    </tr>\n",
       "  </thead>\n",
       "  <tbody>\n",
       "    <tr>\n",
       "      <th>0</th>\n",
       "      <td>YR7220</td>\n",
       "      <td>New York(</td>\n",
       "      <td>Electronics</td>\n",
       "      <td>12254943</td>\n",
       "      <td>$31</td>\n",
       "      <td>$20.77</td>\n",
       "      <td>$1.86</td>\n",
       "      <td>$29.14</td>\n",
       "      <td>2019-11-26</td>\n",
       "    </tr>\n",
       "    <tr>\n",
       "      <th>1</th>\n",
       "      <td>YR7220</td>\n",
       "      <td>New York+</td>\n",
       "      <td>Furniture</td>\n",
       "      <td>72619323C</td>\n",
       "      <td>$15</td>\n",
       "      <td>$9.75</td>\n",
       "      <td>$1.5</td>\n",
       "      <td>$13.5</td>\n",
       "      <td>2019-11-26</td>\n",
       "    </tr>\n",
       "    <tr>\n",
       "      <th>2</th>\n",
       "      <td>YR7220</td>\n",
       "      <td>New York</td>\n",
       "      <td>Electronics</td>\n",
       "      <td>34161682B</td>\n",
       "      <td>$88</td>\n",
       "      <td>$62.48</td>\n",
       "      <td>$4.4</td>\n",
       "      <td>$83.6</td>\n",
       "      <td>2019-11-26</td>\n",
       "    </tr>\n",
       "    <tr>\n",
       "      <th>3</th>\n",
       "      <td>YR7220</td>\n",
       "      <td>New York!</td>\n",
       "      <td>Kitchen</td>\n",
       "      <td>79411621</td>\n",
       "      <td>$91</td>\n",
       "      <td>$58.24</td>\n",
       "      <td>$3.64</td>\n",
       "      <td>$87.36</td>\n",
       "      <td>2019-11-26</td>\n",
       "    </tr>\n",
       "    <tr>\n",
       "      <th>4</th>\n",
       "      <td>YR7220</td>\n",
       "      <td>New York</td>\n",
       "      <td>Fashion</td>\n",
       "      <td>39520263T</td>\n",
       "      <td>$85</td>\n",
       "      <td>$51</td>\n",
       "      <td>$2.55</td>\n",
       "      <td>$82.45</td>\n",
       "      <td>2019-11-26</td>\n",
       "    </tr>\n",
       "  </tbody>\n",
       "</table>\n",
       "</div>"
      ],
      "text/plain": [
       "  STORE_ID STORE_LOCATION PRODUCT_CATEGORY PRODUCT_ID  MRP      CP DISCOUNT  \\\n",
       "0   YR7220      New York(      Electronics   12254943  $31  $20.77    $1.86   \n",
       "1   YR7220      New York+        Furniture  72619323C  $15   $9.75     $1.5   \n",
       "2   YR7220      New York       Electronics  34161682B  $88  $62.48     $4.4   \n",
       "3   YR7220      New York!          Kitchen   79411621  $91  $58.24    $3.64   \n",
       "4   YR7220       New York          Fashion  39520263T  $85     $51    $2.55   \n",
       "\n",
       "       SP        Date  \n",
       "0  $29.14  2019-11-26  \n",
       "1   $13.5  2019-11-26  \n",
       "2   $83.6  2019-11-26  \n",
       "3  $87.36  2019-11-26  \n",
       "4  $82.45  2019-11-26  "
      ]
     },
     "execution_count": 7,
     "metadata": {},
     "output_type": "execute_result"
    }
   ],
   "source": [
    "df.limit(5).toPandas()"
   ]
  },
  {
   "cell_type": "markdown",
   "metadata": {},
   "source": [
    "## Görev1: \n",
    "\n",
    "dirty_store_transactions.csv verisetini kullanarak aşağıdaki işleri yapan bir spark uygulaması yazıp, spark-submit ile çalıştırınız.\n",
    "\n",
    "### Adım1: Veriyi temizleyiniz ve yapısal hale getiriniz."
   ]
  },
  {
   "cell_type": "code",
   "execution_count": 8,
   "metadata": {},
   "outputs": [
    {
     "data": {
      "text/html": [
       "<div>\n",
       "<style scoped>\n",
       "    .dataframe tbody tr th:only-of-type {\n",
       "        vertical-align: middle;\n",
       "    }\n",
       "\n",
       "    .dataframe tbody tr th {\n",
       "        vertical-align: top;\n",
       "    }\n",
       "\n",
       "    .dataframe thead th {\n",
       "        text-align: right;\n",
       "    }\n",
       "</style>\n",
       "<table border=\"1\" class=\"dataframe\">\n",
       "  <thead>\n",
       "    <tr style=\"text-align: right;\">\n",
       "      <th></th>\n",
       "      <th>STORE_ID</th>\n",
       "      <th>STORE_LOCATION</th>\n",
       "      <th>PRODUCT_CATEGORY</th>\n",
       "      <th>PRODUCT_ID</th>\n",
       "      <th>MRP</th>\n",
       "      <th>CP</th>\n",
       "      <th>DISCOUNT</th>\n",
       "      <th>SP</th>\n",
       "      <th>Date</th>\n",
       "    </tr>\n",
       "  </thead>\n",
       "  <tbody>\n",
       "    <tr>\n",
       "      <th>0</th>\n",
       "      <td>YR7220</td>\n",
       "      <td>NewYork</td>\n",
       "      <td>Electronics</td>\n",
       "      <td>12254943</td>\n",
       "      <td>$31</td>\n",
       "      <td>$20.77</td>\n",
       "      <td>$1.86</td>\n",
       "      <td>$29.14</td>\n",
       "      <td>2019-11-26</td>\n",
       "    </tr>\n",
       "    <tr>\n",
       "      <th>1</th>\n",
       "      <td>YR7220</td>\n",
       "      <td>NewYork</td>\n",
       "      <td>Furniture</td>\n",
       "      <td>72619323C</td>\n",
       "      <td>$15</td>\n",
       "      <td>$9.75</td>\n",
       "      <td>$1.5</td>\n",
       "      <td>$13.5</td>\n",
       "      <td>2019-11-26</td>\n",
       "    </tr>\n",
       "    <tr>\n",
       "      <th>2</th>\n",
       "      <td>YR7220</td>\n",
       "      <td>NewYork</td>\n",
       "      <td>Electronics</td>\n",
       "      <td>34161682B</td>\n",
       "      <td>$88</td>\n",
       "      <td>$62.48</td>\n",
       "      <td>$4.4</td>\n",
       "      <td>$83.6</td>\n",
       "      <td>2019-11-26</td>\n",
       "    </tr>\n",
       "  </tbody>\n",
       "</table>\n",
       "</div>"
      ],
      "text/plain": [
       "  STORE_ID STORE_LOCATION PRODUCT_CATEGORY PRODUCT_ID  MRP      CP DISCOUNT  \\\n",
       "0   YR7220        NewYork      Electronics   12254943  $31  $20.77    $1.86   \n",
       "1   YR7220        NewYork        Furniture  72619323C  $15   $9.75     $1.5   \n",
       "2   YR7220        NewYork      Electronics  34161682B  $88  $62.48     $4.4   \n",
       "\n",
       "       SP        Date  \n",
       "0  $29.14  2019-11-26  \n",
       "1   $13.5  2019-11-26  \n",
       "2   $83.6  2019-11-26  "
      ]
     },
     "execution_count": 8,
     "metadata": {},
     "output_type": "execute_result"
    }
   ],
   "source": [
    "df1 = df.withColumn(\"STORE_LOCATION\", F.regexp_replace(F.col(\"STORE_LOCATION\"),\"[^A-Za-z0-9]\", \"\")) \\\n",
    "        .withColumn(\"PRODUCT_ID\", F.regexp_replace(F.col(\"PRODUCT_ID\"), \"[^A-Za-z0-9]\", \"\"))\n",
    "\n",
    "df1.limit(3).toPandas()"
   ]
  },
  {
   "cell_type": "code",
   "execution_count": 9,
   "metadata": {},
   "outputs": [
    {
     "name": "stdout",
     "output_type": "stream",
     "text": [
      "root\n",
      " |-- STORE_ID: string (nullable = true)\n",
      " |-- STORE_LOCATION: string (nullable = true)\n",
      " |-- PRODUCT_CATEGORY: string (nullable = true)\n",
      " |-- PRODUCT_ID: string (nullable = true)\n",
      " |-- MRP: float (nullable = true)\n",
      " |-- CP: float (nullable = true)\n",
      " |-- DISCOUNT: float (nullable = true)\n",
      " |-- SP: float (nullable = true)\n",
      " |-- Date_Casted: date (nullable = true)\n",
      "\n"
     ]
    }
   ],
   "source": [
    "df2 = df1.withColumn(\"MRP\", F.regexp_replace(F.col(\"MRP\"), \"\\$\", \"\").cast(FloatType())) \\\n",
    "         .withColumn(\"CP\", F.regexp_replace(F.col(\"CP\"), \"\\$\", \"\").cast(FloatType())) \\\n",
    "         .withColumn(\"SP\", F.regexp_replace(F.col(\"SP\"), \"\\$\", \"\").cast(FloatType())) \\\n",
    "         .withColumn(\"DISCOUNT\", F.regexp_replace(F.col(\"DISCOUNT\"), \"\\$\", \"\").cast(FloatType())) \\\n",
    "         .withColumn(\"Date_Casted\", F.col(\"Date\").cast(DateType())).drop(\"Date\")\n",
    "\n",
    "df2.printSchema()"
   ]
  },
  {
   "cell_type": "code",
   "execution_count": 10,
   "metadata": {},
   "outputs": [
    {
     "data": {
      "text/html": [
       "<div>\n",
       "<style scoped>\n",
       "    .dataframe tbody tr th:only-of-type {\n",
       "        vertical-align: middle;\n",
       "    }\n",
       "\n",
       "    .dataframe tbody tr th {\n",
       "        vertical-align: top;\n",
       "    }\n",
       "\n",
       "    .dataframe thead th {\n",
       "        text-align: right;\n",
       "    }\n",
       "</style>\n",
       "<table border=\"1\" class=\"dataframe\">\n",
       "  <thead>\n",
       "    <tr style=\"text-align: right;\">\n",
       "      <th></th>\n",
       "      <th>STORE_ID</th>\n",
       "      <th>STORE_LOCATION</th>\n",
       "      <th>PRODUCT_CATEGORY</th>\n",
       "      <th>PRODUCT_ID</th>\n",
       "      <th>MRP</th>\n",
       "      <th>CP</th>\n",
       "      <th>DISCOUNT</th>\n",
       "      <th>SP</th>\n",
       "      <th>Date_Casted</th>\n",
       "    </tr>\n",
       "  </thead>\n",
       "  <tbody>\n",
       "    <tr>\n",
       "      <th>0</th>\n",
       "      <td>YR7220</td>\n",
       "      <td>NewYork</td>\n",
       "      <td>Electronics</td>\n",
       "      <td>12254943</td>\n",
       "      <td>31.0</td>\n",
       "      <td>20.77</td>\n",
       "      <td>1.86</td>\n",
       "      <td>29.139999</td>\n",
       "      <td>2019-11-26</td>\n",
       "    </tr>\n",
       "    <tr>\n",
       "      <th>1</th>\n",
       "      <td>YR7220</td>\n",
       "      <td>NewYork</td>\n",
       "      <td>Furniture</td>\n",
       "      <td>72619323C</td>\n",
       "      <td>15.0</td>\n",
       "      <td>9.75</td>\n",
       "      <td>1.50</td>\n",
       "      <td>13.500000</td>\n",
       "      <td>2019-11-26</td>\n",
       "    </tr>\n",
       "    <tr>\n",
       "      <th>2</th>\n",
       "      <td>YR7220</td>\n",
       "      <td>NewYork</td>\n",
       "      <td>Electronics</td>\n",
       "      <td>34161682B</td>\n",
       "      <td>88.0</td>\n",
       "      <td>62.48</td>\n",
       "      <td>4.40</td>\n",
       "      <td>83.599998</td>\n",
       "      <td>2019-11-26</td>\n",
       "    </tr>\n",
       "  </tbody>\n",
       "</table>\n",
       "</div>"
      ],
      "text/plain": [
       "  STORE_ID STORE_LOCATION PRODUCT_CATEGORY PRODUCT_ID   MRP     CP  DISCOUNT  \\\n",
       "0   YR7220        NewYork      Electronics   12254943  31.0  20.77      1.86   \n",
       "1   YR7220        NewYork        Furniture  72619323C  15.0   9.75      1.50   \n",
       "2   YR7220        NewYork      Electronics  34161682B  88.0  62.48      4.40   \n",
       "\n",
       "          SP Date_Casted  \n",
       "0  29.139999  2019-11-26  \n",
       "1  13.500000  2019-11-26  \n",
       "2  83.599998  2019-11-26  "
      ]
     },
     "execution_count": 10,
     "metadata": {},
     "output_type": "execute_result"
    }
   ],
   "source": [
    "df2.limit(3).toPandas()"
   ]
  },
  {
   "cell_type": "markdown",
   "metadata": {},
   "source": [
    "### Adım2:Temiz veriyi hive'a test1.clean_transactions adıyla orc tablosu olarak yazınız."
   ]
  },
  {
   "cell_type": "code",
   "execution_count": 11,
   "metadata": {},
   "outputs": [
    {
     "name": "stdout",
     "output_type": "stream",
     "text": [
      "+---------+\n",
      "|namespace|\n",
      "+---------+\n",
      "|bookstore|\n",
      "|  default|\n",
      "+---------+\n",
      "\n"
     ]
    }
   ],
   "source": [
    "spark.sql(\"show databases;\").show()"
   ]
  },
  {
   "cell_type": "code",
   "execution_count": 12,
   "metadata": {},
   "outputs": [
    {
     "name": "stdout",
     "output_type": "stream",
     "text": [
      "+--------+--------------------+-----------+\n",
      "|database|           tableName|isTemporary|\n",
      "+--------+--------------------+-----------+\n",
      "| default|         advertising|      false|\n",
      "| default|      market1mil_tbl|      false|\n",
      "| default|market5mil_pby_re...|      false|\n",
      "| default|      market5mil_tbl|      false|\n",
      "| default|     order_items_tbl|      false|\n",
      "| default|          orders_tbl|      false|\n",
      "+--------+--------------------+-----------+\n",
      "\n"
     ]
    }
   ],
   "source": [
    "spark.sql(\"show tables;\").show()"
   ]
  },
  {
   "cell_type": "code",
   "execution_count": 13,
   "metadata": {},
   "outputs": [
    {
     "data": {
      "text/plain": [
       "DataFrame[]"
      ]
     },
     "execution_count": 13,
     "metadata": {},
     "output_type": "execute_result"
    }
   ],
   "source": [
    "spark.sql(\"create database if not exists test1\")"
   ]
  },
  {
   "cell_type": "code",
   "execution_count": 14,
   "metadata": {},
   "outputs": [
    {
     "data": {
      "text/plain": [
       "DataFrame[]"
      ]
     },
     "execution_count": 14,
     "metadata": {},
     "output_type": "execute_result"
    }
   ],
   "source": [
    "spark.sql(\"use test1;\")"
   ]
  },
  {
   "cell_type": "code",
   "execution_count": 15,
   "metadata": {},
   "outputs": [
    {
     "name": "stdout",
     "output_type": "stream",
     "text": [
      "4.209304332733154 secs = \n"
     ]
    }
   ],
   "source": [
    "# Hive'a yazdırma\n",
    "import time\n",
    "\n",
    "start_time = time.time()\n",
    "\n",
    "df2.write \\\n",
    ".format(\"orc\") \\\n",
    ".mode(\"overwrite\") \\\n",
    ".saveAsTable(\"test1.clean_transactions\")\n",
    "\n",
    "print(\"%s secs = \"% (time.time() - start_time))"
   ]
  },
  {
   "cell_type": "code",
   "execution_count": 16,
   "metadata": {},
   "outputs": [
    {
     "data": {
      "text/html": [
       "<div>\n",
       "<style scoped>\n",
       "    .dataframe tbody tr th:only-of-type {\n",
       "        vertical-align: middle;\n",
       "    }\n",
       "\n",
       "    .dataframe tbody tr th {\n",
       "        vertical-align: top;\n",
       "    }\n",
       "\n",
       "    .dataframe thead th {\n",
       "        text-align: right;\n",
       "    }\n",
       "</style>\n",
       "<table border=\"1\" class=\"dataframe\">\n",
       "  <thead>\n",
       "    <tr style=\"text-align: right;\">\n",
       "      <th></th>\n",
       "      <th>STORE_ID</th>\n",
       "      <th>STORE_LOCATION</th>\n",
       "      <th>PRODUCT_CATEGORY</th>\n",
       "      <th>PRODUCT_ID</th>\n",
       "      <th>MRP</th>\n",
       "      <th>CP</th>\n",
       "      <th>DISCOUNT</th>\n",
       "      <th>SP</th>\n",
       "      <th>Date_Casted</th>\n",
       "    </tr>\n",
       "  </thead>\n",
       "  <tbody>\n",
       "    <tr>\n",
       "      <th>0</th>\n",
       "      <td>YR7220</td>\n",
       "      <td>NewYork</td>\n",
       "      <td>Electronics</td>\n",
       "      <td>12254943</td>\n",
       "      <td>31.0</td>\n",
       "      <td>20.770000</td>\n",
       "      <td>1.86</td>\n",
       "      <td>29.139999</td>\n",
       "      <td>2019-11-26</td>\n",
       "    </tr>\n",
       "    <tr>\n",
       "      <th>1</th>\n",
       "      <td>YR7220</td>\n",
       "      <td>NewYork</td>\n",
       "      <td>Furniture</td>\n",
       "      <td>72619323C</td>\n",
       "      <td>15.0</td>\n",
       "      <td>9.750000</td>\n",
       "      <td>1.50</td>\n",
       "      <td>13.500000</td>\n",
       "      <td>2019-11-26</td>\n",
       "    </tr>\n",
       "    <tr>\n",
       "      <th>2</th>\n",
       "      <td>YR7220</td>\n",
       "      <td>NewYork</td>\n",
       "      <td>Electronics</td>\n",
       "      <td>34161682B</td>\n",
       "      <td>88.0</td>\n",
       "      <td>62.480000</td>\n",
       "      <td>4.40</td>\n",
       "      <td>83.599998</td>\n",
       "      <td>2019-11-26</td>\n",
       "    </tr>\n",
       "    <tr>\n",
       "      <th>3</th>\n",
       "      <td>YR7220</td>\n",
       "      <td>NewYork</td>\n",
       "      <td>Kitchen</td>\n",
       "      <td>79411621</td>\n",
       "      <td>91.0</td>\n",
       "      <td>58.240002</td>\n",
       "      <td>3.64</td>\n",
       "      <td>87.360001</td>\n",
       "      <td>2019-11-26</td>\n",
       "    </tr>\n",
       "    <tr>\n",
       "      <th>4</th>\n",
       "      <td>YR7220</td>\n",
       "      <td>NewYork</td>\n",
       "      <td>Fashion</td>\n",
       "      <td>39520263T</td>\n",
       "      <td>85.0</td>\n",
       "      <td>51.000000</td>\n",
       "      <td>2.55</td>\n",
       "      <td>82.449997</td>\n",
       "      <td>2019-11-26</td>\n",
       "    </tr>\n",
       "    <tr>\n",
       "      <th>5</th>\n",
       "      <td>YR7220</td>\n",
       "      <td>NewYork</td>\n",
       "      <td>Kitchen</td>\n",
       "      <td>93809204</td>\n",
       "      <td>37.0</td>\n",
       "      <td>24.049999</td>\n",
       "      <td>0.74</td>\n",
       "      <td>36.259998</td>\n",
       "      <td>2019-11-26</td>\n",
       "    </tr>\n",
       "    <tr>\n",
       "      <th>6</th>\n",
       "      <td>YR7220</td>\n",
       "      <td>NewYork</td>\n",
       "      <td>Cosmetics</td>\n",
       "      <td>86610412D</td>\n",
       "      <td>80.0</td>\n",
       "      <td>48.799999</td>\n",
       "      <td>6.40</td>\n",
       "      <td>73.599998</td>\n",
       "      <td>2019-11-26</td>\n",
       "    </tr>\n",
       "    <tr>\n",
       "      <th>7</th>\n",
       "      <td>YR7220</td>\n",
       "      <td>NewYork</td>\n",
       "      <td>Kitchen</td>\n",
       "      <td>52503356</td>\n",
       "      <td>71.0</td>\n",
       "      <td>42.599998</td>\n",
       "      <td>5.68</td>\n",
       "      <td>65.320000</td>\n",
       "      <td>2019-11-26</td>\n",
       "    </tr>\n",
       "    <tr>\n",
       "      <th>8</th>\n",
       "      <td>YR7220</td>\n",
       "      <td>NewYork</td>\n",
       "      <td>Kitchen</td>\n",
       "      <td>77516479</td>\n",
       "      <td>92.0</td>\n",
       "      <td>56.119999</td>\n",
       "      <td>3.68</td>\n",
       "      <td>88.320000</td>\n",
       "      <td>2019-11-26</td>\n",
       "    </tr>\n",
       "    <tr>\n",
       "      <th>9</th>\n",
       "      <td>YR7220</td>\n",
       "      <td>NewYork</td>\n",
       "      <td>Cosmetics</td>\n",
       "      <td>47334289</td>\n",
       "      <td>16.0</td>\n",
       "      <td>10.720000</td>\n",
       "      <td>0.96</td>\n",
       "      <td>15.040000</td>\n",
       "      <td>2019-11-26</td>\n",
       "    </tr>\n",
       "  </tbody>\n",
       "</table>\n",
       "</div>"
      ],
      "text/plain": [
       "  STORE_ID STORE_LOCATION PRODUCT_CATEGORY PRODUCT_ID   MRP         CP  \\\n",
       "0   YR7220        NewYork      Electronics   12254943  31.0  20.770000   \n",
       "1   YR7220        NewYork        Furniture  72619323C  15.0   9.750000   \n",
       "2   YR7220        NewYork      Electronics  34161682B  88.0  62.480000   \n",
       "3   YR7220        NewYork          Kitchen   79411621  91.0  58.240002   \n",
       "4   YR7220        NewYork          Fashion  39520263T  85.0  51.000000   \n",
       "5   YR7220        NewYork          Kitchen   93809204  37.0  24.049999   \n",
       "6   YR7220        NewYork        Cosmetics  86610412D  80.0  48.799999   \n",
       "7   YR7220        NewYork          Kitchen   52503356  71.0  42.599998   \n",
       "8   YR7220        NewYork          Kitchen   77516479  92.0  56.119999   \n",
       "9   YR7220        NewYork        Cosmetics   47334289  16.0  10.720000   \n",
       "\n",
       "   DISCOUNT         SP Date_Casted  \n",
       "0      1.86  29.139999  2019-11-26  \n",
       "1      1.50  13.500000  2019-11-26  \n",
       "2      4.40  83.599998  2019-11-26  \n",
       "3      3.64  87.360001  2019-11-26  \n",
       "4      2.55  82.449997  2019-11-26  \n",
       "5      0.74  36.259998  2019-11-26  \n",
       "6      6.40  73.599998  2019-11-26  \n",
       "7      5.68  65.320000  2019-11-26  \n",
       "8      3.68  88.320000  2019-11-26  \n",
       "9      0.96  15.040000  2019-11-26  "
      ]
     },
     "execution_count": 16,
     "metadata": {},
     "output_type": "execute_result"
    }
   ],
   "source": [
    "spark.sql(\" select * from test1.clean_transactions\").limit(10).toPandas()"
   ]
  },
  {
   "cell_type": "markdown",
   "metadata": {},
   "source": [
    "### Adım3:Temiz veriyi Postgresql'e traindb.public.clean_transactions tablosuna yazınız."
   ]
  },
  {
   "cell_type": "code",
   "execution_count": 17,
   "metadata": {},
   "outputs": [],
   "source": [
    "jdbcUrl = \"jdbc:postgresql://localhost/traindb?user=train&password=Ankara06\""
   ]
  },
  {
   "cell_type": "code",
   "execution_count": 20,
   "metadata": {},
   "outputs": [],
   "source": [
    "df2.write \\\n",
    ".jdbc(url=jdbcUrl, table=\"clean_transactions\", mode=\"overwrite\", properties={\"driver\":\"org.postgresql.Driver\"})"
   ]
  },
  {
   "cell_type": "code",
   "execution_count": 21,
   "metadata": {},
   "outputs": [
    {
     "data": {
      "text/html": [
       "<div>\n",
       "<style scoped>\n",
       "    .dataframe tbody tr th:only-of-type {\n",
       "        vertical-align: middle;\n",
       "    }\n",
       "\n",
       "    .dataframe tbody tr th {\n",
       "        vertical-align: top;\n",
       "    }\n",
       "\n",
       "    .dataframe thead th {\n",
       "        text-align: right;\n",
       "    }\n",
       "</style>\n",
       "<table border=\"1\" class=\"dataframe\">\n",
       "  <thead>\n",
       "    <tr style=\"text-align: right;\">\n",
       "      <th></th>\n",
       "      <th>STORE_ID</th>\n",
       "      <th>STORE_LOCATION</th>\n",
       "      <th>PRODUCT_CATEGORY</th>\n",
       "      <th>PRODUCT_ID</th>\n",
       "      <th>MRP</th>\n",
       "      <th>CP</th>\n",
       "      <th>DISCOUNT</th>\n",
       "      <th>SP</th>\n",
       "      <th>Date_Casted</th>\n",
       "    </tr>\n",
       "  </thead>\n",
       "  <tbody>\n",
       "    <tr>\n",
       "      <th>0</th>\n",
       "      <td>YR7220</td>\n",
       "      <td>NewYork</td>\n",
       "      <td>Electronics</td>\n",
       "      <td>12254943</td>\n",
       "      <td>31.0</td>\n",
       "      <td>20.770000</td>\n",
       "      <td>1.86</td>\n",
       "      <td>29.139999</td>\n",
       "      <td>2019-11-26</td>\n",
       "    </tr>\n",
       "    <tr>\n",
       "      <th>1</th>\n",
       "      <td>YR7220</td>\n",
       "      <td>NewYork</td>\n",
       "      <td>Furniture</td>\n",
       "      <td>72619323C</td>\n",
       "      <td>15.0</td>\n",
       "      <td>9.750000</td>\n",
       "      <td>1.50</td>\n",
       "      <td>13.500000</td>\n",
       "      <td>2019-11-26</td>\n",
       "    </tr>\n",
       "    <tr>\n",
       "      <th>2</th>\n",
       "      <td>YR7220</td>\n",
       "      <td>NewYork</td>\n",
       "      <td>Electronics</td>\n",
       "      <td>34161682B</td>\n",
       "      <td>88.0</td>\n",
       "      <td>62.480000</td>\n",
       "      <td>4.40</td>\n",
       "      <td>83.599998</td>\n",
       "      <td>2019-11-26</td>\n",
       "    </tr>\n",
       "    <tr>\n",
       "      <th>3</th>\n",
       "      <td>YR7220</td>\n",
       "      <td>NewYork</td>\n",
       "      <td>Kitchen</td>\n",
       "      <td>79411621</td>\n",
       "      <td>91.0</td>\n",
       "      <td>58.240002</td>\n",
       "      <td>3.64</td>\n",
       "      <td>87.360001</td>\n",
       "      <td>2019-11-26</td>\n",
       "    </tr>\n",
       "    <tr>\n",
       "      <th>4</th>\n",
       "      <td>YR7220</td>\n",
       "      <td>NewYork</td>\n",
       "      <td>Fashion</td>\n",
       "      <td>39520263T</td>\n",
       "      <td>85.0</td>\n",
       "      <td>51.000000</td>\n",
       "      <td>2.55</td>\n",
       "      <td>82.449997</td>\n",
       "      <td>2019-11-26</td>\n",
       "    </tr>\n",
       "  </tbody>\n",
       "</table>\n",
       "</div>"
      ],
      "text/plain": [
       "  STORE_ID STORE_LOCATION PRODUCT_CATEGORY PRODUCT_ID   MRP         CP  \\\n",
       "0   YR7220        NewYork      Electronics   12254943  31.0  20.770000   \n",
       "1   YR7220        NewYork        Furniture  72619323C  15.0   9.750000   \n",
       "2   YR7220        NewYork      Electronics  34161682B  88.0  62.480000   \n",
       "3   YR7220        NewYork          Kitchen   79411621  91.0  58.240002   \n",
       "4   YR7220        NewYork          Fashion  39520263T  85.0  51.000000   \n",
       "\n",
       "   DISCOUNT         SP Date_Casted  \n",
       "0      1.86  29.139999  2019-11-26  \n",
       "1      1.50  13.500000  2019-11-26  \n",
       "2      4.40  83.599998  2019-11-26  \n",
       "3      3.64  87.360001  2019-11-26  \n",
       "4      2.55  82.449997  2019-11-26  "
      ]
     },
     "execution_count": 21,
     "metadata": {},
     "output_type": "execute_result"
    }
   ],
   "source": [
    "spark.read.format(\"jdbc\") \\\n",
    "    .option(\"url\", jdbcUrl) \\\n",
    "    .option(\"query\", \"SELECT * FROM clean_transactions\") \\\n",
    "    .option(\"driver\", \"org.postgresql.Driver\") \\\n",
    "    .load().limit(5).toPandas()"
   ]
  },
  {
   "cell_type": "markdown",
   "metadata": {},
   "source": [
    "### Adım4:Temiz veriyi hdfs/user/train/spark_odev_transaction dizinine parquet formatta snappy sıkıştırma ile yazınız."
   ]
  },
  {
   "cell_type": "code",
   "execution_count": 22,
   "metadata": {},
   "outputs": [
    {
     "name": "stdout",
     "output_type": "stream",
     "text": [
      "2.36483097076416 secs = \n"
     ]
    }
   ],
   "source": [
    "start_time = time.time()\n",
    "\n",
    "df2.write.format(\"parquet\") \\\n",
    ".mode(\"overwrite\") \\\n",
    ".option(\"compression\", \"snappy\") \\\n",
    ".save(\"hdfs://localhost:9000/user/train/spark_odev_transaction\")\n",
    "\n",
    "print(\"%s secs = \"% (time.time() - start_time))"
   ]
  },
  {
   "cell_type": "code",
   "execution_count": 23,
   "metadata": {},
   "outputs": [
    {
     "name": "stdout",
     "output_type": "stream",
     "text": [
      "Found 2 items\r\n",
      "-rw-r--r--   1 train supergroup          0 2025-06-14 20:53 /user/train/spark_odev_transaction/_SUCCESS\r\n",
      "-rw-r--r--   1 train supergroup     244350 2025-06-14 20:53 /user/train/spark_odev_transaction/part-00000-5221d60c-7c2c-4bfa-8774-9b990acb3e86-c000.snappy.parquet\r\n"
     ]
    }
   ],
   "source": [
    "! hdfs dfs -ls /user/train/spark_odev_transaction"
   ]
  },
  {
   "cell_type": "code",
   "execution_count": 24,
   "metadata": {},
   "outputs": [
    {
     "data": {
      "text/plain": [
       "'3.0.0'"
      ]
     },
     "execution_count": 24,
     "metadata": {},
     "output_type": "execute_result"
    }
   ],
   "source": [
    "spark.version"
   ]
  },
  {
   "cell_type": "code",
   "execution_count": 26,
   "metadata": {},
   "outputs": [],
   "source": [
    "spark.stop()"
   ]
  },
  {
   "cell_type": "code",
   "execution_count": null,
   "metadata": {},
   "outputs": [],
   "source": []
  }
 ],
 "metadata": {
  "kernelspec": {
   "display_name": "venvspark",
   "language": "python",
   "name": "venvspark"
  },
  "language_info": {
   "codemirror_mode": {
    "name": "ipython",
    "version": 3
   },
   "file_extension": ".py",
   "mimetype": "text/x-python",
   "name": "python",
   "nbconvert_exporter": "python",
   "pygments_lexer": "ipython3",
   "version": "3.6.8"
  }
 },
 "nbformat": 4,
 "nbformat_minor": 4
}
