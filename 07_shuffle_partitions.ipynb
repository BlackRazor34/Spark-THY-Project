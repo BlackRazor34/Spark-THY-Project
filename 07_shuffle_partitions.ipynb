{
 "cells": [
  {
   "cell_type": "code",
   "execution_count": 1,
   "metadata": {},
   "outputs": [],
   "source": [
    "import findspark\n",
    "findspark.init(\"/opt/manual/spark\")\n",
    "from pyspark.sql import SparkSession, functions as F"
   ]
  },
  {
   "cell_type": "code",
   "execution_count": 2,
   "metadata": {},
   "outputs": [],
   "source": [
    "spark = (\n",
    "    SparkSession.builder\n",
    "    .appName(\"Shuffle Partitions\")\n",
    "    .master(\"yarn\")\n",
    "    .enableHiveSupport()\n",
    "    .getOrCreate())"
   ]
  },
  {
   "cell_type": "markdown",
   "metadata": {},
   "source": [
    "# Read Data"
   ]
  },
  {
   "cell_type": "code",
   "execution_count": 3,
   "metadata": {},
   "outputs": [],
   "source": [
    "market5 = spark.read.format(\"parquet\") \\\n",
    ".load(\"/user/train/datasets/market5mil_parquet\") \\\n",
    ".orderBy(F.rand())"
   ]
  },
  {
   "cell_type": "code",
   "execution_count": 4,
   "metadata": {},
   "outputs": [
    {
     "data": {
      "text/html": [
       "<div>\n",
       "<style scoped>\n",
       "    .dataframe tbody tr th:only-of-type {\n",
       "        vertical-align: middle;\n",
       "    }\n",
       "\n",
       "    .dataframe tbody tr th {\n",
       "        vertical-align: top;\n",
       "    }\n",
       "\n",
       "    .dataframe thead th {\n",
       "        text-align: right;\n",
       "    }\n",
       "</style>\n",
       "<table border=\"1\" class=\"dataframe\">\n",
       "  <thead>\n",
       "    <tr style=\"text-align: right;\">\n",
       "      <th></th>\n",
       "      <th>LOGICALREF</th>\n",
       "      <th>COUNT_</th>\n",
       "      <th>ITEMCODE</th>\n",
       "      <th>ITEMNAME</th>\n",
       "      <th>FICHENO</th>\n",
       "      <th>DATE_</th>\n",
       "      <th>AMOUNT</th>\n",
       "      <th>PRICE</th>\n",
       "      <th>LINENETTOTAL</th>\n",
       "      <th>LINENET</th>\n",
       "      <th>...</th>\n",
       "      <th>CLIENTNAME</th>\n",
       "      <th>BRANDCODE</th>\n",
       "      <th>BRAND</th>\n",
       "      <th>CATEGORY_NAME1</th>\n",
       "      <th>CATEGORY_NAME2</th>\n",
       "      <th>CATEGORY_NAME3</th>\n",
       "      <th>STARTDATE</th>\n",
       "      <th>ENDDATE</th>\n",
       "      <th>SPECODE</th>\n",
       "      <th>CAPIBLOCK_CREADEDDATE</th>\n",
       "    </tr>\n",
       "  </thead>\n",
       "  <tbody>\n",
       "    <tr>\n",
       "      <th>0</th>\n",
       "      <td>1975263</td>\n",
       "      <td>1</td>\n",
       "      <td>00000013899</td>\n",
       "      <td>NESTLE NESGUIK SUT 6 AL 5 ODE</td>\n",
       "      <td>0000000000475654</td>\n",
       "      <td>2017-09-01</td>\n",
       "      <td>1</td>\n",
       "      <td>6.45</td>\n",
       "      <td>6.45</td>\n",
       "      <td>5.97</td>\n",
       "      <td>...</td>\n",
       "      <td>Öznur TÜZÜNER</td>\n",
       "      <td>97</td>\n",
       "      <td>NESTLE</td>\n",
       "      <td>SÜT KAHVALTILIK</td>\n",
       "      <td>SÜT</td>\n",
       "      <td>MEYVELİ SÜT</td>\n",
       "      <td>2017-09-02 18:36:20</td>\n",
       "      <td>2017-09-02 18:37:06</td>\n",
       "      <td>K</td>\n",
       "      <td>2018-07-14 01:56:36</td>\n",
       "    </tr>\n",
       "    <tr>\n",
       "      <th>1</th>\n",
       "      <td>1847914</td>\n",
       "      <td>1</td>\n",
       "      <td>00000022628</td>\n",
       "      <td>ULKER HANIMELLER 110 GR.118-</td>\n",
       "      <td>0000000000445169</td>\n",
       "      <td>2017-08-21</td>\n",
       "      <td>1</td>\n",
       "      <td>1.00</td>\n",
       "      <td>1.00</td>\n",
       "      <td>0.93</td>\n",
       "      <td>...</td>\n",
       "      <td>Ömer Faruk ÖZÇALIK</td>\n",
       "      <td>146</td>\n",
       "      <td>ÜLKER</td>\n",
       "      <td>GIDA</td>\n",
       "      <td>BÜSKİVİ ÇEREZ</td>\n",
       "      <td>BÜSKİVİ</td>\n",
       "      <td>2017-08-22 14:20:35</td>\n",
       "      <td>2017-08-22 14:20:46</td>\n",
       "      <td>E</td>\n",
       "      <td>2018-07-14 02:06:57</td>\n",
       "    </tr>\n",
       "    <tr>\n",
       "      <th>2</th>\n",
       "      <td>723856</td>\n",
       "      <td>1</td>\n",
       "      <td>00000010520</td>\n",
       "      <td>LIPTON EARL GREY TEA 48 AD 163 GR</td>\n",
       "      <td>0000000000184584</td>\n",
       "      <td>2017-04-16</td>\n",
       "      <td>1</td>\n",
       "      <td>5.50</td>\n",
       "      <td>5.50</td>\n",
       "      <td>5.09</td>\n",
       "      <td>...</td>\n",
       "      <td>Satı ALTINOK</td>\n",
       "      <td>88</td>\n",
       "      <td>LİPTON</td>\n",
       "      <td>İÇECEK</td>\n",
       "      <td>ÇAY KAHVE</td>\n",
       "      <td>ÇAY</td>\n",
       "      <td>2017-04-17 17:00:00</td>\n",
       "      <td>2017-04-17 17:00:40</td>\n",
       "      <td>K</td>\n",
       "      <td>2018-07-14 02:01:01</td>\n",
       "    </tr>\n",
       "  </tbody>\n",
       "</table>\n",
       "<p>3 rows × 28 columns</p>\n",
       "</div>"
      ],
      "text/plain": [
       "   LOGICALREF  COUNT_     ITEMCODE                           ITEMNAME  \\\n",
       "0     1975263       1  00000013899      NESTLE NESGUIK SUT 6 AL 5 ODE   \n",
       "1     1847914       1  00000022628       ULKER HANIMELLER 110 GR.118-   \n",
       "2      723856       1  00000010520  LIPTON EARL GREY TEA 48 AD 163 GR   \n",
       "\n",
       "            FICHENO      DATE_  AMOUNT  PRICE  LINENETTOTAL  LINENET  ...  \\\n",
       "0  0000000000475654 2017-09-01       1   6.45          6.45     5.97  ...   \n",
       "1  0000000000445169 2017-08-21       1   1.00          1.00     0.93  ...   \n",
       "2  0000000000184584 2017-04-16       1   5.50          5.50     5.09  ...   \n",
       "\n",
       "           CLIENTNAME BRANDCODE   BRAND   CATEGORY_NAME1 CATEGORY_NAME2  \\\n",
       "0       Öznur TÜZÜNER        97  NESTLE  SÜT KAHVALTILIK            SÜT   \n",
       "1  Ömer Faruk ÖZÇALIK       146   ÜLKER             GIDA  BÜSKİVİ ÇEREZ   \n",
       "2        Satı ALTINOK        88  LİPTON           İÇECEK      ÇAY KAHVE   \n",
       "\n",
       "   CATEGORY_NAME3           STARTDATE             ENDDATE SPECODE  \\\n",
       "0     MEYVELİ SÜT 2017-09-02 18:36:20 2017-09-02 18:37:06       K   \n",
       "1         BÜSKİVİ 2017-08-22 14:20:35 2017-08-22 14:20:46       E   \n",
       "2             ÇAY 2017-04-17 17:00:00 2017-04-17 17:00:40       K   \n",
       "\n",
       "  CAPIBLOCK_CREADEDDATE  \n",
       "0   2018-07-14 01:56:36  \n",
       "1   2018-07-14 02:06:57  \n",
       "2   2018-07-14 02:01:01  \n",
       "\n",
       "[3 rows x 28 columns]"
      ]
     },
     "execution_count": 4,
     "metadata": {},
     "output_type": "execute_result"
    }
   ],
   "source": [
    "market5.limit(3).toPandas()"
   ]
  },
  {
   "cell_type": "code",
   "execution_count": 5,
   "metadata": {},
   "outputs": [
    {
     "data": {
      "text/plain": [
       "'200'"
      ]
     },
     "execution_count": 5,
     "metadata": {},
     "output_type": "execute_result"
    }
   ],
   "source": [
    "spark.conf.get(\"spark.sql.shuffle.partitions\")"
   ]
  },
  {
   "cell_type": "markdown",
   "metadata": {},
   "source": [
    "# Execute with 200"
   ]
  },
  {
   "cell_type": "code",
   "execution_count": 6,
   "metadata": {},
   "outputs": [
    {
     "name": "stdout",
     "output_type": "stream",
     "text": [
      "--- 76.83514618873596 seconds ---\n"
     ]
    }
   ],
   "source": [
    "import time \n",
    "start_time = time.time()\n",
    "\n",
    "market5.groupBy(\"CITY\", \"BRANCH\").agg(F.sum(F.col(\"LINENETTOTAL\")).alias(\"Total\")) \\\n",
    ".orderBy(F.desc(\"Total\")) \\\n",
    ".limit(20) \\\n",
    ".toPandas()\n",
    "\n",
    "print(\"--- %s seconds ---\" %(time.time()- start_time))"
   ]
  },
  {
   "cell_type": "markdown",
   "metadata": {},
   "source": [
    "# Execute with 8"
   ]
  },
  {
   "cell_type": "code",
   "execution_count": 8,
   "metadata": {},
   "outputs": [
    {
     "data": {
      "text/plain": [
       "'8'"
      ]
     },
     "execution_count": 8,
     "metadata": {},
     "output_type": "execute_result"
    }
   ],
   "source": [
    "spark.conf.set(\"spark.sql.shuffle.partitions\", 8)\n",
    "spark.conf.get(\"spark.sql.shuffle.partitions\")"
   ]
  },
  {
   "cell_type": "code",
   "execution_count": 9,
   "metadata": {},
   "outputs": [
    {
     "name": "stdout",
     "output_type": "stream",
     "text": [
      "--- 12.055027961730957 seconds ---\n"
     ]
    }
   ],
   "source": [
    "import time \n",
    "start_time = time.time()\n",
    "\n",
    "market5.groupBy(\"CITY\", \"BRANCH\").agg(F.sum(F.col(\"LINENETTOTAL\")).alias(\"Total\")) \\\n",
    ".orderBy(F.desc(\"Total\")) \\\n",
    ".limit(20) \\\n",
    ".toPandas()\n",
    "\n",
    "print(\"--- %s seconds ---\" %(time.time()- start_time))"
   ]
  },
  {
   "cell_type": "code",
   "execution_count": 10,
   "metadata": {},
   "outputs": [],
   "source": [
    "spark.stop()"
   ]
  },
  {
   "cell_type": "code",
   "execution_count": null,
   "metadata": {},
   "outputs": [],
   "source": []
  }
 ],
 "metadata": {
  "kernelspec": {
   "display_name": "venvspark",
   "language": "python",
   "name": "venvspark"
  },
  "language_info": {
   "codemirror_mode": {
    "name": "ipython",
    "version": 3
   },
   "file_extension": ".py",
   "mimetype": "text/x-python",
   "name": "python",
   "nbconvert_exporter": "python",
   "pygments_lexer": "ipython3",
   "version": "3.6.8"
  }
 },
 "nbformat": 4,
 "nbformat_minor": 4
}
