{
 "cells": [
  {
   "cell_type": "code",
   "execution_count": 1,
   "metadata": {},
   "outputs": [],
   "source": [
    "import findspark"
   ]
  },
  {
   "cell_type": "code",
   "execution_count": 2,
   "metadata": {},
   "outputs": [],
   "source": [
    "findspark.init(\"/opt/manual/spark\")\n",
    "from pyspark.sql import SparkSession\n",
    "from pyspark.sql.types import *\n",
    "from pyspark.sql import functions as F"
   ]
  },
  {
   "cell_type": "code",
   "execution_count": 3,
   "metadata": {},
   "outputs": [],
   "source": [
    "spark = SparkSession \\\n",
    ".builder \\\n",
    ".master(\"local[2]\") \\\n",
    ".appName(\"PySpark Dataframe Homework\") \\\n",
    ".config(\"spark.executer.memory\", \"2g\") \\\n",
    ".config(\"spark.driver.memory\", \"1g\") \\\n",
    ".getOrCreate()"
   ]
  },
  {
   "cell_type": "code",
   "execution_count": 4,
   "metadata": {},
   "outputs": [],
   "source": [
    "data_path = \"file:///home/train/datasets/retail_db\"\n",
    "output_path = \"file:///home/train/pyspark_output_data\""
   ]
  },
  {
   "cell_type": "code",
   "execution_count": 5,
   "metadata": {},
   "outputs": [
    {
     "name": "stdout",
     "output_type": "stream",
     "text": [
      "total 9328\r\n",
      "-rw-rw-r--. 1 train train    1074 Jul 23  2020 categories.csv\r\n",
      "-rw-rw-r--. 1 train train  953847 Jul 23  2020 customers.csv\r\n",
      "-rw-rw-r--. 1 train train      88 Jul 23  2020 departments.csv\r\n",
      "-rw-rw-r--. 1 train train 5408988 Jul 23  2020 order_items.csv\r\n",
      "-rw-rw-r--. 1 train train 2999990 Jul 23  2020 orders.csv\r\n",
      "-rw-rw-r--. 1 train train  174240 Jul 23  2020 products.csv\r\n"
     ]
    }
   ],
   "source": [
    "! ls -l /home/train/datasets/retail_db"
   ]
  },
  {
   "cell_type": "code",
   "execution_count": 6,
   "metadata": {},
   "outputs": [
    {
     "name": "stdout",
     "output_type": "stream",
     "text": [
      "+----------+--------------------+-------------------+\n",
      "|categoryId|categoryDepartmentId|       categoryName|\n",
      "+----------+--------------------+-------------------+\n",
      "|         1|                   2|           Football|\n",
      "|         2|                   2|             Soccer|\n",
      "|         3|                   2|Baseball & Softball|\n",
      "+----------+--------------------+-------------------+\n",
      "only showing top 3 rows\n",
      "\n"
     ]
    }
   ],
   "source": [
    "categories = spark.read.option(\"inferSchema\", True).csv(data_path+\"/categories.csv\", header=True)\n",
    "categories.show(3)"
   ]
  },
  {
   "cell_type": "code",
   "execution_count": 7,
   "metadata": {},
   "outputs": [
    {
     "name": "stdout",
     "output_type": "stream",
     "text": [
      "root\n",
      " |-- categoryId: integer (nullable = true)\n",
      " |-- categoryDepartmentId: integer (nullable = true)\n",
      " |-- categoryName: string (nullable = true)\n",
      "\n"
     ]
    }
   ],
   "source": [
    "categories.printSchema()"
   ]
  },
  {
   "cell_type": "code",
   "execution_count": 9,
   "metadata": {},
   "outputs": [
    {
     "name": "stdout",
     "output_type": "stream",
     "text": [
      "+-------+--------------------+---------------+---------------+\n",
      "|orderId|           orderDate|orderCustomerId|    orderStatus|\n",
      "+-------+--------------------+---------------+---------------+\n",
      "|      1|2013-07-25 00:00:...|          11599|         CLOSED|\n",
      "|      2|2013-07-25 00:00:...|            256|PENDING_PAYMENT|\n",
      "|      3|2013-07-25 00:00:...|          12111|       COMPLETE|\n",
      "+-------+--------------------+---------------+---------------+\n",
      "only showing top 3 rows\n",
      "\n"
     ]
    }
   ],
   "source": [
    "orders = categories = spark.read.option(\"inferSchema\",True).csv(data_path+\"/ordes.csv\", header=True)\n",
    "categories.show(3)"
   ]
  },
  {
   "cell_type": "code",
   "execution_count": 10,
   "metadata": {},
   "outputs": [
    {
     "data": {
      "text/plain": [
       "68883"
      ]
     },
     "execution_count": 10,
     "metadata": {},
     "output_type": "execute_result"
    }
   ],
   "source": [
    "orders.count()"
   ]
  },
  {
   "cell_type": "code",
   "execution_count": 12,
   "metadata": {},
   "outputs": [
    {
     "name": "stdout",
     "output_type": "stream",
     "text": [
      "+-------------+----------------+------------------+-----------------+-----------------+---------------------+\n",
      "|orderItemName|orderItemOrderId|orderItemProductId|orderItemQuantity|orderItemSubTotal|orderItemProductPrice|\n",
      "+-------------+----------------+------------------+-----------------+-----------------+---------------------+\n",
      "|            1|               1|               957|                1|           299.98|               299.98|\n",
      "|            2|               2|              1073|                1|           199.99|               199.99|\n",
      "|            3|               2|               502|                5|            250.0|                 50.0|\n",
      "+-------------+----------------+------------------+-----------------+-----------------+---------------------+\n",
      "only showing top 3 rows\n",
      "\n"
     ]
    }
   ],
   "source": [
    "order_items= spark.read.option(\"inferSchema\",True).csv(data_path+\"/order_items.csv\", header=True)\n",
    "order_items.show(3)"
   ]
  },
  {
   "cell_type": "code",
   "execution_count": 13,
   "metadata": {},
   "outputs": [
    {
     "data": {
      "text/plain": [
       "172198"
      ]
     },
     "execution_count": 13,
     "metadata": {},
     "output_type": "execute_result"
    }
   ],
   "source": [
    "order_items.count()"
   ]
  },
  {
   "cell_type": "code",
   "execution_count": 15,
   "metadata": {},
   "outputs": [
    {
     "name": "stdout",
     "output_type": "stream",
     "text": [
      "root\n",
      " |-- orderItemName: integer (nullable = true)\n",
      " |-- orderItemOrderId: integer (nullable = true)\n",
      " |-- orderItemProductId: integer (nullable = true)\n",
      " |-- orderItemQuantity: integer (nullable = true)\n",
      " |-- orderItemSubTotal: double (nullable = true)\n",
      " |-- orderItemProductPrice: double (nullable = true)\n",
      "\n"
     ]
    }
   ],
   "source": [
    "order_items.printSchema()"
   ]
  },
  {
   "cell_type": "code",
   "execution_count": 14,
   "metadata": {},
   "outputs": [
    {
     "name": "stdout",
     "output_type": "stream",
     "text": [
      "+---------+-----------------+--------------------+------------------+------------+--------------------+\n",
      "|productId|productCategoryId|         productName|productDescription|productPrice|        productImage|\n",
      "+---------+-----------------+--------------------+------------------+------------+--------------------+\n",
      "|        1|                2|Quest Q64 10 FT. ...|              null|       59.98|http://images.acm...|\n",
      "|        2|                2|Under Armour Men'...|              null|      129.99|http://images.acm...|\n",
      "|        3|                2|Under Armour Men'...|              null|       89.99|http://images.acm...|\n",
      "+---------+-----------------+--------------------+------------------+------------+--------------------+\n",
      "only showing top 3 rows\n",
      "\n"
     ]
    }
   ],
   "source": [
    "products = spark.read.option(\"inferSchema\",True).csv(data_path+\"/products.csv\", header=True)\n",
    "products.show(3)"
   ]
  },
  {
   "cell_type": "code",
   "execution_count": 17,
   "metadata": {},
   "outputs": [
    {
     "data": {
      "text/plain": [
       "1345"
      ]
     },
     "execution_count": 17,
     "metadata": {},
     "output_type": "execute_result"
    }
   ],
   "source": [
    "products.count()"
   ]
  },
  {
   "cell_type": "markdown",
   "metadata": {},
   "source": [
    "# Adım3: order_items tablosunda kaç tane tekil orderItemOrderId vardır sayısını bulunuz"
   ]
  },
  {
   "cell_type": "code",
   "execution_count": 18,
   "metadata": {},
   "outputs": [
    {
     "data": {
      "text/plain": [
       "57431"
      ]
     },
     "execution_count": 18,
     "metadata": {},
     "output_type": "execute_result"
    }
   ],
   "source": [
    "order_items.select(\"orderItemOrderId\").distinct().count()"
   ]
  },
  {
   "cell_type": "markdown",
   "metadata": {},
   "source": [
    "# Adım 4:orders ve order_items tablolarında kaç satır vardır bulunuz."
   ]
  },
  {
   "cell_type": "code",
   "execution_count": 19,
   "metadata": {},
   "outputs": [
    {
     "data": {
      "text/plain": [
       "68883"
      ]
     },
     "execution_count": 19,
     "metadata": {},
     "output_type": "execute_result"
    }
   ],
   "source": [
    "orders.count()"
   ]
  },
  {
   "cell_type": "code",
   "execution_count": 21,
   "metadata": {},
   "outputs": [
    {
     "data": {
      "text/plain": [
       "172198"
      ]
     },
     "execution_count": 21,
     "metadata": {},
     "output_type": "execute_result"
    }
   ],
   "source": [
    "order_items.count()"
   ]
  },
  {
   "cell_type": "markdown",
   "metadata": {},
   "source": [
    "# Adım 5: Toplam satış tutarı bakımından en çok iptal edilen (azalan sıra) ürünleri lokal diske parquet formatında yazınız"
   ]
  },
  {
   "cell_type": "code",
   "execution_count": 22,
   "metadata": {},
   "outputs": [],
   "source": [
    "cat_products = products.join(categories, products['productCategoryId'] == categories['categoryId']) \\\n",
    ".select(\"productId\",\"productName\", \"categoryName\")"
   ]
  },
  {
   "cell_type": "code",
   "execution_count": 23,
   "metadata": {},
   "outputs": [
    {
     "data": {
      "text/html": [
       "<div>\n",
       "<style scoped>\n",
       "    .dataframe tbody tr th:only-of-type {\n",
       "        vertical-align: middle;\n",
       "    }\n",
       "\n",
       "    .dataframe tbody tr th {\n",
       "        vertical-align: top;\n",
       "    }\n",
       "\n",
       "    .dataframe thead th {\n",
       "        text-align: right;\n",
       "    }\n",
       "</style>\n",
       "<table border=\"1\" class=\"dataframe\">\n",
       "  <thead>\n",
       "    <tr style=\"text-align: right;\">\n",
       "      <th></th>\n",
       "      <th>productId</th>\n",
       "      <th>productName</th>\n",
       "      <th>categoryName</th>\n",
       "    </tr>\n",
       "  </thead>\n",
       "  <tbody>\n",
       "    <tr>\n",
       "      <th>0</th>\n",
       "      <td>1</td>\n",
       "      <td>Quest Q64 10 FT. x 10 FT. Slant Leg Instant U</td>\n",
       "      <td>Soccer</td>\n",
       "    </tr>\n",
       "    <tr>\n",
       "      <th>1</th>\n",
       "      <td>2</td>\n",
       "      <td>Under Armour Men's Highlight MC Football Clea</td>\n",
       "      <td>Soccer</td>\n",
       "    </tr>\n",
       "    <tr>\n",
       "      <th>2</th>\n",
       "      <td>3</td>\n",
       "      <td>Under Armour Men's Renegade D Mid Football Cl</td>\n",
       "      <td>Soccer</td>\n",
       "    </tr>\n",
       "    <tr>\n",
       "      <th>3</th>\n",
       "      <td>4</td>\n",
       "      <td>Under Armour Men's Renegade D Mid Football Cl</td>\n",
       "      <td>Soccer</td>\n",
       "    </tr>\n",
       "    <tr>\n",
       "      <th>4</th>\n",
       "      <td>5</td>\n",
       "      <td>Riddell Youth Revolution Speed Custom Footbal</td>\n",
       "      <td>Soccer</td>\n",
       "    </tr>\n",
       "  </tbody>\n",
       "</table>\n",
       "</div>"
      ],
      "text/plain": [
       "   productId                                    productName categoryName\n",
       "0          1  Quest Q64 10 FT. x 10 FT. Slant Leg Instant U       Soccer\n",
       "1          2  Under Armour Men's Highlight MC Football Clea       Soccer\n",
       "2          3  Under Armour Men's Renegade D Mid Football Cl       Soccer\n",
       "3          4  Under Armour Men's Renegade D Mid Football Cl       Soccer\n",
       "4          5  Riddell Youth Revolution Speed Custom Footbal       Soccer"
      ]
     },
     "execution_count": 23,
     "metadata": {},
     "output_type": "execute_result"
    }
   ],
   "source": [
    "cat_products.limit(5).toPandas()"
   ]
  },
  {
   "cell_type": "code",
   "execution_count": 24,
   "metadata": {},
   "outputs": [
    {
     "data": {
      "text/html": [
       "<div>\n",
       "<style scoped>\n",
       "    .dataframe tbody tr th:only-of-type {\n",
       "        vertical-align: middle;\n",
       "    }\n",
       "\n",
       "    .dataframe tbody tr th {\n",
       "        vertical-align: top;\n",
       "    }\n",
       "\n",
       "    .dataframe thead th {\n",
       "        text-align: right;\n",
       "    }\n",
       "</style>\n",
       "<table border=\"1\" class=\"dataframe\">\n",
       "  <thead>\n",
       "    <tr style=\"text-align: right;\">\n",
       "      <th></th>\n",
       "      <th>orderId</th>\n",
       "      <th>orderItemProductId</th>\n",
       "      <th>orderItemSubTotal</th>\n",
       "      <th>orderStatus</th>\n",
       "    </tr>\n",
       "  </thead>\n",
       "  <tbody>\n",
       "    <tr>\n",
       "      <th>0</th>\n",
       "      <td>1</td>\n",
       "      <td>957</td>\n",
       "      <td>299.98</td>\n",
       "      <td>CLOSED</td>\n",
       "    </tr>\n",
       "    <tr>\n",
       "      <th>1</th>\n",
       "      <td>2</td>\n",
       "      <td>1073</td>\n",
       "      <td>199.99</td>\n",
       "      <td>PENDING_PAYMENT</td>\n",
       "    </tr>\n",
       "    <tr>\n",
       "      <th>2</th>\n",
       "      <td>2</td>\n",
       "      <td>502</td>\n",
       "      <td>250.00</td>\n",
       "      <td>PENDING_PAYMENT</td>\n",
       "    </tr>\n",
       "    <tr>\n",
       "      <th>3</th>\n",
       "      <td>2</td>\n",
       "      <td>403</td>\n",
       "      <td>129.99</td>\n",
       "      <td>PENDING_PAYMENT</td>\n",
       "    </tr>\n",
       "    <tr>\n",
       "      <th>4</th>\n",
       "      <td>4</td>\n",
       "      <td>897</td>\n",
       "      <td>49.98</td>\n",
       "      <td>CLOSED</td>\n",
       "    </tr>\n",
       "  </tbody>\n",
       "</table>\n",
       "</div>"
      ],
      "text/plain": [
       "   orderId  orderItemProductId  orderItemSubTotal      orderStatus\n",
       "0        1                 957             299.98           CLOSED\n",
       "1        2                1073             199.99  PENDING_PAYMENT\n",
       "2        2                 502             250.00  PENDING_PAYMENT\n",
       "3        2                 403             129.99  PENDING_PAYMENT\n",
       "4        4                 897              49.98           CLOSED"
      ]
     },
     "execution_count": 24,
     "metadata": {},
     "output_type": "execute_result"
    }
   ],
   "source": [
    "# orders ve order_items birleştirme\n",
    "orders_and_items = order_items.join(orders, order_items['orderItemOrderId'] == orders['orderId']) \\\n",
    ".select(\"orderId\",\"orderItemProductId\",\"orderItemSubTotal\",\"orderStatus\")\n",
    "orders_and_items.limit(5).toPandas().head()"
   ]
  },
  {
   "cell_type": "code",
   "execution_count": 25,
   "metadata": {},
   "outputs": [
    {
     "data": {
      "text/html": [
       "<div>\n",
       "<style scoped>\n",
       "    .dataframe tbody tr th:only-of-type {\n",
       "        vertical-align: middle;\n",
       "    }\n",
       "\n",
       "    .dataframe tbody tr th {\n",
       "        vertical-align: top;\n",
       "    }\n",
       "\n",
       "    .dataframe thead th {\n",
       "        text-align: right;\n",
       "    }\n",
       "</style>\n",
       "<table border=\"1\" class=\"dataframe\">\n",
       "  <thead>\n",
       "    <tr style=\"text-align: right;\">\n",
       "      <th></th>\n",
       "      <th>orderId</th>\n",
       "      <th>orderItemProductId</th>\n",
       "      <th>orderItemSubTotal</th>\n",
       "      <th>orderStatus</th>\n",
       "      <th>productId</th>\n",
       "      <th>productName</th>\n",
       "      <th>categoryName</th>\n",
       "    </tr>\n",
       "  </thead>\n",
       "  <tbody>\n",
       "    <tr>\n",
       "      <th>0</th>\n",
       "      <td>57760</td>\n",
       "      <td>858</td>\n",
       "      <td>199.99</td>\n",
       "      <td>PENDING_PAYMENT</td>\n",
       "      <td>858</td>\n",
       "      <td>GolfBuddy VT3 GPS Watch</td>\n",
       "      <td>Kids' Golf Clubs</td>\n",
       "    </tr>\n",
       "    <tr>\n",
       "      <th>1</th>\n",
       "      <td>57847</td>\n",
       "      <td>858</td>\n",
       "      <td>199.99</td>\n",
       "      <td>COMPLETE</td>\n",
       "      <td>858</td>\n",
       "      <td>GolfBuddy VT3 GPS Watch</td>\n",
       "      <td>Kids' Golf Clubs</td>\n",
       "    </tr>\n",
       "    <tr>\n",
       "      <th>2</th>\n",
       "      <td>58071</td>\n",
       "      <td>858</td>\n",
       "      <td>199.99</td>\n",
       "      <td>PENDING</td>\n",
       "      <td>858</td>\n",
       "      <td>GolfBuddy VT3 GPS Watch</td>\n",
       "      <td>Kids' Golf Clubs</td>\n",
       "    </tr>\n",
       "    <tr>\n",
       "      <th>3</th>\n",
       "      <td>58170</td>\n",
       "      <td>858</td>\n",
       "      <td>199.99</td>\n",
       "      <td>PENDING</td>\n",
       "      <td>858</td>\n",
       "      <td>GolfBuddy VT3 GPS Watch</td>\n",
       "      <td>Kids' Golf Clubs</td>\n",
       "    </tr>\n",
       "    <tr>\n",
       "      <th>4</th>\n",
       "      <td>58585</td>\n",
       "      <td>858</td>\n",
       "      <td>199.99</td>\n",
       "      <td>CANCELED</td>\n",
       "      <td>858</td>\n",
       "      <td>GolfBuddy VT3 GPS Watch</td>\n",
       "      <td>Kids' Golf Clubs</td>\n",
       "    </tr>\n",
       "  </tbody>\n",
       "</table>\n",
       "</div>"
      ],
      "text/plain": [
       "   orderId  orderItemProductId  orderItemSubTotal      orderStatus  productId  \\\n",
       "0    57760                 858             199.99  PENDING_PAYMENT        858   \n",
       "1    57847                 858             199.99         COMPLETE        858   \n",
       "2    58071                 858             199.99          PENDING        858   \n",
       "3    58170                 858             199.99          PENDING        858   \n",
       "4    58585                 858             199.99         CANCELED        858   \n",
       "\n",
       "               productName      categoryName  \n",
       "0  GolfBuddy VT3 GPS Watch  Kids' Golf Clubs  \n",
       "1  GolfBuddy VT3 GPS Watch  Kids' Golf Clubs  \n",
       "2  GolfBuddy VT3 GPS Watch  Kids' Golf Clubs  \n",
       "3  GolfBuddy VT3 GPS Watch  Kids' Golf Clubs  \n",
       "4  GolfBuddy VT3 GPS Watch  Kids' Golf Clubs  "
      ]
     },
     "execution_count": 25,
     "metadata": {},
     "output_type": "execute_result"
    }
   ],
   "source": [
    "# Ceategory-Products birleşimini iptal edilmiş siparişlerle ürün id üzerinden birleştirelim\n",
    "final_table = orders_and_items.join(cat_products, orders_and_items['orderItemProductId'] == cat_products['productId'])\n",
    "final_table.limit(5).toPandas()"
   ]
  },
  {
   "cell_type": "code",
   "execution_count": 26,
   "metadata": {},
   "outputs": [
    {
     "data": {
      "text/html": [
       "<div>\n",
       "<style scoped>\n",
       "    .dataframe tbody tr th:only-of-type {\n",
       "        vertical-align: middle;\n",
       "    }\n",
       "\n",
       "    .dataframe tbody tr th {\n",
       "        vertical-align: top;\n",
       "    }\n",
       "\n",
       "    .dataframe thead th {\n",
       "        text-align: right;\n",
       "    }\n",
       "</style>\n",
       "<table border=\"1\" class=\"dataframe\">\n",
       "  <thead>\n",
       "    <tr style=\"text-align: right;\">\n",
       "      <th></th>\n",
       "      <th>productName</th>\n",
       "      <th>Totalprice</th>\n",
       "    </tr>\n",
       "  </thead>\n",
       "  <tbody>\n",
       "    <tr>\n",
       "      <th>0</th>\n",
       "      <td>Field &amp; Stream Sportsman 16 Gun Fire Safe</td>\n",
       "      <td>134393.28</td>\n",
       "    </tr>\n",
       "    <tr>\n",
       "      <th>1</th>\n",
       "      <td>Perfect Fitness Perfect Rip Deck</td>\n",
       "      <td>85785.70</td>\n",
       "    </tr>\n",
       "    <tr>\n",
       "      <th>2</th>\n",
       "      <td>Nike Men's Free 5.0+ Running Shoe</td>\n",
       "      <td>80691.93</td>\n",
       "    </tr>\n",
       "    <tr>\n",
       "      <th>3</th>\n",
       "      <td>Diamondback Women's Serene Classic Comfort Bi</td>\n",
       "      <td>80094.66</td>\n",
       "    </tr>\n",
       "    <tr>\n",
       "      <th>4</th>\n",
       "      <td>Pelican Sunstream 100 Kayak</td>\n",
       "      <td>66196.69</td>\n",
       "    </tr>\n",
       "    <tr>\n",
       "      <th>5</th>\n",
       "      <td>Nike Men's Dri-FIT Victory Golf Polo</td>\n",
       "      <td>65750.00</td>\n",
       "    </tr>\n",
       "    <tr>\n",
       "      <th>6</th>\n",
       "      <td>Nike Men's CJ Elite 2 TD Football Cleat</td>\n",
       "      <td>60705.33</td>\n",
       "    </tr>\n",
       "    <tr>\n",
       "      <th>7</th>\n",
       "      <td>O'Brien Men's Neoprene Life Vest</td>\n",
       "      <td>58126.74</td>\n",
       "    </tr>\n",
       "    <tr>\n",
       "      <th>8</th>\n",
       "      <td>Under Armour Girls' Toddler Spine Surge Runni</td>\n",
       "      <td>26153.46</td>\n",
       "    </tr>\n",
       "    <tr>\n",
       "      <th>9</th>\n",
       "      <td>LIJA Women's Eyelet Sleeveless Golf Polo</td>\n",
       "      <td>2145.00</td>\n",
       "    </tr>\n",
       "  </tbody>\n",
       "</table>\n",
       "</div>"
      ],
      "text/plain": [
       "                                     productName  Totalprice\n",
       "0      Field & Stream Sportsman 16 Gun Fire Safe   134393.28\n",
       "1               Perfect Fitness Perfect Rip Deck    85785.70\n",
       "2              Nike Men's Free 5.0+ Running Shoe    80691.93\n",
       "3  Diamondback Women's Serene Classic Comfort Bi    80094.66\n",
       "4                    Pelican Sunstream 100 Kayak    66196.69\n",
       "5           Nike Men's Dri-FIT Victory Golf Polo    65750.00\n",
       "6        Nike Men's CJ Elite 2 TD Football Cleat    60705.33\n",
       "7               O'Brien Men's Neoprene Life Vest    58126.74\n",
       "8  Under Armour Girls' Toddler Spine Surge Runni    26153.46\n",
       "9       LIJA Women's Eyelet Sleeveless Golf Polo     2145.00"
      ]
     },
     "execution_count": 26,
     "metadata": {},
     "output_type": "execute_result"
    }
   ],
   "source": [
    "most_cancelled_products = final_table.filter(\"orderStatus == 'CANCELED'\") \\\n",
    ".groupBy(\"productName\").agg(F.sum(\"orderItemSubTotal\").alias(\"Totalprice\")) \\\n",
    ".orderBy(F.desc(\"TotalPrice\"))\n",
    "most_cancelled_products.limit(10).toPandas()"
   ]
  },
  {
   "cell_type": "code",
   "execution_count": 27,
   "metadata": {},
   "outputs": [],
   "source": [
    "# coalesce parçaları birleştirir tek dosya oluşturur.\n",
    "most_cancelled_products.coalesce(1) \\\n",
    ".write.mode(\"overwrite\").parquet(output_path+\"/most_cancelled_products_parquet\")"
   ]
  },
  {
   "cell_type": "code",
   "execution_count": 28,
   "metadata": {},
   "outputs": [
    {
     "data": {
      "text/html": [
       "<div>\n",
       "<style scoped>\n",
       "    .dataframe tbody tr th:only-of-type {\n",
       "        vertical-align: middle;\n",
       "    }\n",
       "\n",
       "    .dataframe tbody tr th {\n",
       "        vertical-align: top;\n",
       "    }\n",
       "\n",
       "    .dataframe thead th {\n",
       "        text-align: right;\n",
       "    }\n",
       "</style>\n",
       "<table border=\"1\" class=\"dataframe\">\n",
       "  <thead>\n",
       "    <tr style=\"text-align: right;\">\n",
       "      <th></th>\n",
       "      <th>productName</th>\n",
       "      <th>Totalprice</th>\n",
       "    </tr>\n",
       "  </thead>\n",
       "  <tbody>\n",
       "    <tr>\n",
       "      <th>0</th>\n",
       "      <td>Field &amp; Stream Sportsman 16 Gun Fire Safe</td>\n",
       "      <td>134393.28</td>\n",
       "    </tr>\n",
       "    <tr>\n",
       "      <th>1</th>\n",
       "      <td>Perfect Fitness Perfect Rip Deck</td>\n",
       "      <td>85785.70</td>\n",
       "    </tr>\n",
       "    <tr>\n",
       "      <th>2</th>\n",
       "      <td>Nike Men's Free 5.0+ Running Shoe</td>\n",
       "      <td>80691.93</td>\n",
       "    </tr>\n",
       "    <tr>\n",
       "      <th>3</th>\n",
       "      <td>Diamondback Women's Serene Classic Comfort Bi</td>\n",
       "      <td>80094.66</td>\n",
       "    </tr>\n",
       "    <tr>\n",
       "      <th>4</th>\n",
       "      <td>Pelican Sunstream 100 Kayak</td>\n",
       "      <td>66196.69</td>\n",
       "    </tr>\n",
       "  </tbody>\n",
       "</table>\n",
       "</div>"
      ],
      "text/plain": [
       "                                     productName  Totalprice\n",
       "0      Field & Stream Sportsman 16 Gun Fire Safe   134393.28\n",
       "1               Perfect Fitness Perfect Rip Deck    85785.70\n",
       "2              Nike Men's Free 5.0+ Running Shoe    80691.93\n",
       "3  Diamondback Women's Serene Classic Comfort Bi    80094.66\n",
       "4                    Pelican Sunstream 100 Kayak    66196.69"
      ]
     },
     "execution_count": 28,
     "metadata": {},
     "output_type": "execute_result"
    }
   ],
   "source": [
    "most_cancelled_products.limit(5).toPandas()"
   ]
  },
  {
   "cell_type": "markdown",
   "metadata": {},
   "source": [
    "# Adım 6: En yüksek toplam satış hangi yılın hangi ayında olmuştur?"
   ]
  },
  {
   "cell_type": "code",
   "execution_count": 29,
   "metadata": {},
   "outputs": [
    {
     "data": {
      "text/html": [
       "<div>\n",
       "<style scoped>\n",
       "    .dataframe tbody tr th:only-of-type {\n",
       "        vertical-align: middle;\n",
       "    }\n",
       "\n",
       "    .dataframe tbody tr th {\n",
       "        vertical-align: top;\n",
       "    }\n",
       "\n",
       "    .dataframe thead th {\n",
       "        text-align: right;\n",
       "    }\n",
       "</style>\n",
       "<table border=\"1\" class=\"dataframe\">\n",
       "  <thead>\n",
       "    <tr style=\"text-align: right;\">\n",
       "      <th></th>\n",
       "      <th>orderId</th>\n",
       "      <th>orderItemProductId</th>\n",
       "      <th>orderItemSubTotal</th>\n",
       "      <th>orderStatus</th>\n",
       "      <th>orderDate</th>\n",
       "    </tr>\n",
       "  </thead>\n",
       "  <tbody>\n",
       "    <tr>\n",
       "      <th>0</th>\n",
       "      <td>1</td>\n",
       "      <td>957</td>\n",
       "      <td>299.98</td>\n",
       "      <td>CLOSED</td>\n",
       "      <td>2013-07-25 00:00:00.0</td>\n",
       "    </tr>\n",
       "    <tr>\n",
       "      <th>1</th>\n",
       "      <td>2</td>\n",
       "      <td>1073</td>\n",
       "      <td>199.99</td>\n",
       "      <td>PENDING_PAYMENT</td>\n",
       "      <td>2013-07-25 00:00:00.0</td>\n",
       "    </tr>\n",
       "    <tr>\n",
       "      <th>2</th>\n",
       "      <td>2</td>\n",
       "      <td>502</td>\n",
       "      <td>250.00</td>\n",
       "      <td>PENDING_PAYMENT</td>\n",
       "      <td>2013-07-25 00:00:00.0</td>\n",
       "    </tr>\n",
       "    <tr>\n",
       "      <th>3</th>\n",
       "      <td>2</td>\n",
       "      <td>403</td>\n",
       "      <td>129.99</td>\n",
       "      <td>PENDING_PAYMENT</td>\n",
       "      <td>2013-07-25 00:00:00.0</td>\n",
       "    </tr>\n",
       "    <tr>\n",
       "      <th>4</th>\n",
       "      <td>4</td>\n",
       "      <td>897</td>\n",
       "      <td>49.98</td>\n",
       "      <td>CLOSED</td>\n",
       "      <td>2013-07-25 00:00:00.0</td>\n",
       "    </tr>\n",
       "  </tbody>\n",
       "</table>\n",
       "</div>"
      ],
      "text/plain": [
       "   orderId  orderItemProductId  orderItemSubTotal      orderStatus  \\\n",
       "0        1                 957             299.98           CLOSED   \n",
       "1        2                1073             199.99  PENDING_PAYMENT   \n",
       "2        2                 502             250.00  PENDING_PAYMENT   \n",
       "3        2                 403             129.99  PENDING_PAYMENT   \n",
       "4        4                 897              49.98           CLOSED   \n",
       "\n",
       "               orderDate  \n",
       "0  2013-07-25 00:00:00.0  \n",
       "1  2013-07-25 00:00:00.0  \n",
       "2  2013-07-25 00:00:00.0  \n",
       "3  2013-07-25 00:00:00.0  \n",
       "4  2013-07-25 00:00:00.0  "
      ]
     },
     "execution_count": 29,
     "metadata": {},
     "output_type": "execute_result"
    }
   ],
   "source": [
    "orders_and_items_date = order_items.join(orders, order_items['orderItemOrderId'] == orders['orderId']) \\\n",
    ".select(\"orderId\",\"orderItemProductId\",\"orderItemSubTotal\",\"orderStatus\",\"orderDate\")\n",
    "orders_and_items_date.limit(5).toPandas().head()"
   ]
  },
  {
   "cell_type": "code",
   "execution_count": 30,
   "metadata": {},
   "outputs": [
    {
     "name": "stdout",
     "output_type": "stream",
     "text": [
      "root\n",
      " |-- orderId: integer (nullable = true)\n",
      " |-- orderItemProductId: integer (nullable = true)\n",
      " |-- orderItemSubTotal: double (nullable = true)\n",
      " |-- orderStatus: string (nullable = true)\n",
      " |-- orderDate: string (nullable = true)\n",
      "\n"
     ]
    }
   ],
   "source": [
    "orders_and_items_date.printSchema()"
   ]
  },
  {
   "cell_type": "code",
   "execution_count": 31,
   "metadata": {},
   "outputs": [],
   "source": [
    "df_year_and_month = orders_and_items_date.withColumn(\"orderDate\", \n",
    "                                F.to_timestamp(F.col(\"orderDate\"), \"yyyy-MM-dd HH:mm:ss.S\")) \\\n",
    ".withColumn(\"Year\", F.year(F.col(\"orderDate\"))) \\\n",
    ".withColumn(\"Month\", F.month(F.col(\"orderDate\")))\n"
   ]
  },
  {
   "cell_type": "code",
   "execution_count": 32,
   "metadata": {},
   "outputs": [
    {
     "data": {
      "text/html": [
       "<div>\n",
       "<style scoped>\n",
       "    .dataframe tbody tr th:only-of-type {\n",
       "        vertical-align: middle;\n",
       "    }\n",
       "\n",
       "    .dataframe tbody tr th {\n",
       "        vertical-align: top;\n",
       "    }\n",
       "\n",
       "    .dataframe thead th {\n",
       "        text-align: right;\n",
       "    }\n",
       "</style>\n",
       "<table border=\"1\" class=\"dataframe\">\n",
       "  <thead>\n",
       "    <tr style=\"text-align: right;\">\n",
       "      <th></th>\n",
       "      <th>orderId</th>\n",
       "      <th>orderItemProductId</th>\n",
       "      <th>orderItemSubTotal</th>\n",
       "      <th>orderStatus</th>\n",
       "      <th>orderDate</th>\n",
       "      <th>Year</th>\n",
       "      <th>Month</th>\n",
       "    </tr>\n",
       "  </thead>\n",
       "  <tbody>\n",
       "    <tr>\n",
       "      <th>0</th>\n",
       "      <td>1</td>\n",
       "      <td>957</td>\n",
       "      <td>299.98</td>\n",
       "      <td>CLOSED</td>\n",
       "      <td>2013-07-25</td>\n",
       "      <td>2013</td>\n",
       "      <td>7</td>\n",
       "    </tr>\n",
       "    <tr>\n",
       "      <th>1</th>\n",
       "      <td>2</td>\n",
       "      <td>1073</td>\n",
       "      <td>199.99</td>\n",
       "      <td>PENDING_PAYMENT</td>\n",
       "      <td>2013-07-25</td>\n",
       "      <td>2013</td>\n",
       "      <td>7</td>\n",
       "    </tr>\n",
       "    <tr>\n",
       "      <th>2</th>\n",
       "      <td>2</td>\n",
       "      <td>502</td>\n",
       "      <td>250.00</td>\n",
       "      <td>PENDING_PAYMENT</td>\n",
       "      <td>2013-07-25</td>\n",
       "      <td>2013</td>\n",
       "      <td>7</td>\n",
       "    </tr>\n",
       "    <tr>\n",
       "      <th>3</th>\n",
       "      <td>2</td>\n",
       "      <td>403</td>\n",
       "      <td>129.99</td>\n",
       "      <td>PENDING_PAYMENT</td>\n",
       "      <td>2013-07-25</td>\n",
       "      <td>2013</td>\n",
       "      <td>7</td>\n",
       "    </tr>\n",
       "    <tr>\n",
       "      <th>4</th>\n",
       "      <td>4</td>\n",
       "      <td>897</td>\n",
       "      <td>49.98</td>\n",
       "      <td>CLOSED</td>\n",
       "      <td>2013-07-25</td>\n",
       "      <td>2013</td>\n",
       "      <td>7</td>\n",
       "    </tr>\n",
       "  </tbody>\n",
       "</table>\n",
       "</div>"
      ],
      "text/plain": [
       "   orderId  orderItemProductId  orderItemSubTotal      orderStatus  orderDate  \\\n",
       "0        1                 957             299.98           CLOSED 2013-07-25   \n",
       "1        2                1073             199.99  PENDING_PAYMENT 2013-07-25   \n",
       "2        2                 502             250.00  PENDING_PAYMENT 2013-07-25   \n",
       "3        2                 403             129.99  PENDING_PAYMENT 2013-07-25   \n",
       "4        4                 897              49.98           CLOSED 2013-07-25   \n",
       "\n",
       "   Year  Month  \n",
       "0  2013      7  \n",
       "1  2013      7  \n",
       "2  2013      7  \n",
       "3  2013      7  \n",
       "4  2013      7  "
      ]
     },
     "execution_count": 32,
     "metadata": {},
     "output_type": "execute_result"
    }
   ],
   "source": [
    "df_year_and_month.limit(5).toPandas()"
   ]
  },
  {
   "cell_type": "code",
   "execution_count": 33,
   "metadata": {},
   "outputs": [
    {
     "name": "stdout",
     "output_type": "stream",
     "text": [
      "root\n",
      " |-- orderId: integer (nullable = true)\n",
      " |-- orderItemProductId: integer (nullable = true)\n",
      " |-- orderItemSubTotal: double (nullable = true)\n",
      " |-- orderStatus: string (nullable = true)\n",
      " |-- orderDate: timestamp (nullable = true)\n",
      " |-- Year: integer (nullable = true)\n",
      " |-- Month: integer (nullable = true)\n",
      "\n"
     ]
    }
   ],
   "source": [
    "df_year_and_month.printSchema()"
   ]
  },
  {
   "cell_type": "code",
   "execution_count": 34,
   "metadata": {},
   "outputs": [
    {
     "data": {
      "text/html": [
       "<div>\n",
       "<style scoped>\n",
       "    .dataframe tbody tr th:only-of-type {\n",
       "        vertical-align: middle;\n",
       "    }\n",
       "\n",
       "    .dataframe tbody tr th {\n",
       "        vertical-align: top;\n",
       "    }\n",
       "\n",
       "    .dataframe thead th {\n",
       "        text-align: right;\n",
       "    }\n",
       "</style>\n",
       "<table border=\"1\" class=\"dataframe\">\n",
       "  <thead>\n",
       "    <tr style=\"text-align: right;\">\n",
       "      <th></th>\n",
       "      <th>Year</th>\n",
       "      <th>Month</th>\n",
       "      <th>Sum_SubTotal</th>\n",
       "    </tr>\n",
       "  </thead>\n",
       "  <tbody>\n",
       "    <tr>\n",
       "      <th>0</th>\n",
       "      <td>2013</td>\n",
       "      <td>11</td>\n",
       "      <td>3105843.27</td>\n",
       "    </tr>\n",
       "    <tr>\n",
       "      <th>1</th>\n",
       "      <td>2014</td>\n",
       "      <td>1</td>\n",
       "      <td>2870834.18</td>\n",
       "    </tr>\n",
       "    <tr>\n",
       "      <th>2</th>\n",
       "      <td>2013</td>\n",
       "      <td>12</td>\n",
       "      <td>2869997.88</td>\n",
       "    </tr>\n",
       "    <tr>\n",
       "      <th>3</th>\n",
       "      <td>2013</td>\n",
       "      <td>9</td>\n",
       "      <td>2866553.33</td>\n",
       "    </tr>\n",
       "    <tr>\n",
       "      <th>4</th>\n",
       "      <td>2014</td>\n",
       "      <td>3</td>\n",
       "      <td>2805006.32</td>\n",
       "    </tr>\n",
       "    <tr>\n",
       "      <th>5</th>\n",
       "      <td>2013</td>\n",
       "      <td>8</td>\n",
       "      <td>2769236.03</td>\n",
       "    </tr>\n",
       "    <tr>\n",
       "      <th>6</th>\n",
       "      <td>2014</td>\n",
       "      <td>4</td>\n",
       "      <td>2758912.47</td>\n",
       "    </tr>\n",
       "    <tr>\n",
       "      <th>7</th>\n",
       "      <td>2014</td>\n",
       "      <td>2</td>\n",
       "      <td>2712838.58</td>\n",
       "    </tr>\n",
       "    <tr>\n",
       "      <th>8</th>\n",
       "      <td>2014</td>\n",
       "      <td>5</td>\n",
       "      <td>2695699.48</td>\n",
       "    </tr>\n",
       "    <tr>\n",
       "      <th>9</th>\n",
       "      <td>2014</td>\n",
       "      <td>6</td>\n",
       "      <td>2657013.04</td>\n",
       "    </tr>\n",
       "  </tbody>\n",
       "</table>\n",
       "</div>"
      ],
      "text/plain": [
       "   Year  Month  Sum_SubTotal\n",
       "0  2013     11    3105843.27\n",
       "1  2014      1    2870834.18\n",
       "2  2013     12    2869997.88\n",
       "3  2013      9    2866553.33\n",
       "4  2014      3    2805006.32\n",
       "5  2013      8    2769236.03\n",
       "6  2014      4    2758912.47\n",
       "7  2014      2    2712838.58\n",
       "8  2014      5    2695699.48\n",
       "9  2014      6    2657013.04"
      ]
     },
     "execution_count": 34,
     "metadata": {},
     "output_type": "execute_result"
    }
   ],
   "source": [
    "df_year_and_month.filter(\"orderStatus not in ('CANCELED')\") \\\n",
    ".groupBy('Year','Month').agg(F.sum(\"orderItemSubTotal\").alias(\"Sum_SubTotal\")) \\\n",
    ".orderBy(F.desc(\"Sum_SubTotal\")) \\\n",
    ".limit(10).toPandas()"
   ]
  },
  {
   "cell_type": "code",
   "execution_count": 35,
   "metadata": {},
   "outputs": [],
   "source": [
    "spark.stop()"
   ]
  },
  {
   "cell_type": "code",
   "execution_count": null,
   "metadata": {},
   "outputs": [],
   "source": []
  }
 ],
 "metadata": {
  "kernelspec": {
   "display_name": "venvspark",
   "language": "python",
   "name": "venvspark"
  },
  "language_info": {
   "codemirror_mode": {
    "name": "ipython",
    "version": 3
   },
   "file_extension": ".py",
   "mimetype": "text/x-python",
   "name": "python",
   "nbconvert_exporter": "python",
   "pygments_lexer": "ipython3",
   "version": "3.6.8"
  }
 },
 "nbformat": 4,
 "nbformat_minor": 4
}
