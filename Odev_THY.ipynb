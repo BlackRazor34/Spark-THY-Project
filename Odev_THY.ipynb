{
 "cells": [
  {
   "cell_type": "markdown",
   "metadata": {},
   "source": [
    "## THY 1.THY_DATA.txt veri setini kullanarak aşağıdaki görevleri yapınız."
   ]
  },
  {
   "cell_type": "markdown",
   "metadata": {},
   "source": [
    "# GÖREV 1: Veriyi Hazırlama\n",
    "\n",
    "### Adım 1: Başlangıç\n",
    "\n",
    "- Veriyi HDFS üzerinde datasets klasörü altına taşıyınız.\n",
    "- Gerekli Kütüphaneleri yükleyiniz.\n",
    "- Spark session oluşturunuz. Apache Spark'ı YARN modunda kullanınız.\n",
    "\n",
    "**Not:** Veriyi `inferSchema` **True** olacak sekilde okutunuz, ilgili csv dosyasına göre `delimiter` seçiniz."
   ]
  },
  {
   "cell_type": "markdown",
   "metadata": {},
   "source": [
    "## 1-) Veri setini Hadoop HDFS'e yükleyiniz."
   ]
  },
  {
   "cell_type": "code",
   "execution_count": 1,
   "metadata": {},
   "outputs": [],
   "source": [
    "import findspark\n",
    "findspark.init(\"/opt/manual/spark\")\n",
    "from pyspark.sql import SparkSession\n",
    "from pyspark.sql.types import *\n",
    "from pyspark.sql import functions as F"
   ]
  },
  {
   "cell_type": "code",
   "execution_count": 6,
   "metadata": {},
   "outputs": [],
   "source": [
    "spark = (\n",
    "    SparkSession.builder \n",
    "    .appName(\"THY Analizi\") \n",
    "    .master(\"yarn\") \n",
    "    .enableHiveSupport() \n",
    "    .getOrCreate()\n",
    ")"
   ]
  },
  {
   "cell_type": "code",
   "execution_count": 7,
   "metadata": {},
   "outputs": [],
   "source": [
    "df = spark.read.format(\"csv\") \\\n",
    ".option(\"header\", True) \\\n",
    ".option(\"inferSchema\", True) \\\n",
    ".option(\"sep\", \",\") \\\n",
    ".load(\"/user/train/datasets/thy_data.txt\")"
   ]
  },
  {
   "cell_type": "code",
   "execution_count": 8,
   "metadata": {},
   "outputs": [
    {
     "data": {
      "text/html": [
       "<div>\n",
       "<style scoped>\n",
       "    .dataframe tbody tr th:only-of-type {\n",
       "        vertical-align: middle;\n",
       "    }\n",
       "\n",
       "    .dataframe tbody tr th {\n",
       "        vertical-align: top;\n",
       "    }\n",
       "\n",
       "    .dataframe thead th {\n",
       "        text-align: right;\n",
       "    }\n",
       "</style>\n",
       "<table border=\"1\" class=\"dataframe\">\n",
       "  <thead>\n",
       "    <tr style=\"text-align: right;\">\n",
       "      <th></th>\n",
       "      <th>SEASON</th>\n",
       "      <th>ORIGIN</th>\n",
       "      <th>DESTINATION</th>\n",
       "      <th>PSGR_COUNT</th>\n",
       "    </tr>\n",
       "  </thead>\n",
       "  <tbody>\n",
       "    <tr>\n",
       "      <th>0</th>\n",
       "      <td>SUMMER</td>\n",
       "      <td>227</td>\n",
       "      <td>YYZ</td>\n",
       "      <td>6</td>\n",
       "    </tr>\n",
       "    <tr>\n",
       "      <th>1</th>\n",
       "      <td>SUMMER</td>\n",
       "      <td>224</td>\n",
       "      <td>222</td>\n",
       "      <td>3</td>\n",
       "    </tr>\n",
       "    <tr>\n",
       "      <th>2</th>\n",
       "      <td>SUMMER</td>\n",
       "      <td>226</td>\n",
       "      <td>JF8</td>\n",
       "      <td>1</td>\n",
       "    </tr>\n",
       "    <tr>\n",
       "      <th>3</th>\n",
       "      <td>SUMMER</td>\n",
       "      <td>227</td>\n",
       "      <td>3RG</td>\n",
       "      <td>11</td>\n",
       "    </tr>\n",
       "    <tr>\n",
       "      <th>4</th>\n",
       "      <td>SUMMER</td>\n",
       "      <td>227</td>\n",
       "      <td>6RV</td>\n",
       "      <td>245</td>\n",
       "    </tr>\n",
       "  </tbody>\n",
       "</table>\n",
       "</div>"
      ],
      "text/plain": [
       "   SEASON ORIGIN DESTINATION  PSGR_COUNT\n",
       "0  SUMMER    227         YYZ           6\n",
       "1  SUMMER    224         222           3\n",
       "2  SUMMER    226         JF8           1\n",
       "3  SUMMER    227         3RG          11\n",
       "4  SUMMER    227         6RV         245"
      ]
     },
     "execution_count": 8,
     "metadata": {},
     "output_type": "execute_result"
    }
   ],
   "source": [
    "df.limit(5).toPandas()"
   ]
  },
  {
   "cell_type": "code",
   "execution_count": 14,
   "metadata": {},
   "outputs": [
    {
     "data": {
      "text/plain": [
       "1719202"
      ]
     },
     "execution_count": 14,
     "metadata": {},
     "output_type": "execute_result"
    }
   ],
   "source": [
    "# toplam gözlem sayısı\n",
    "\n",
    "df.count()"
   ]
  },
  {
   "cell_type": "code",
   "execution_count": 16,
   "metadata": {},
   "outputs": [
    {
     "data": {
      "text/plain": [
       "4"
      ]
     },
     "execution_count": 16,
     "metadata": {},
     "output_type": "execute_result"
    }
   ],
   "source": [
    "#toplam değişken sayısı\n",
    "\n",
    "len(df.columns)"
   ]
  },
  {
   "cell_type": "code",
   "execution_count": 18,
   "metadata": {},
   "outputs": [
    {
     "name": "stdout",
     "output_type": "stream",
     "text": [
      "root\n",
      " |-- SEASON: string (nullable = true)\n",
      " |-- ORIGIN: string (nullable = true)\n",
      " |-- DESTINATION: string (nullable = true)\n",
      " |-- PSGR_COUNT: integer (nullable = true)\n",
      "\n"
     ]
    }
   ],
   "source": [
    "# Değişken tiplerini inceleyiniz.\n",
    "\n",
    "df.printSchema()"
   ]
  },
  {
   "cell_type": "markdown",
   "metadata": {},
   "source": [
    "# GÖREV 3: Veri Analizi\n",
    "- Unique Değişken Kontrolü\n",
    "- Tanımlayıcı İstatistikler \n",
    "- Kalkış noktasına göre yolcu sayısı\n",
    "- Yolcu Sayısının Mevsimlere Göre İncelenmesi"
   ]
  },
  {
   "cell_type": "markdown",
   "metadata": {},
   "source": [
    " ### Adım1: Origin değişkenindeki eşsiz sınıf sayısını bulunuz"
   ]
  },
  {
   "cell_type": "code",
   "execution_count": 22,
   "metadata": {},
   "outputs": [
    {
     "data": {
      "text/plain": [
       "4210"
      ]
     },
     "execution_count": 22,
     "metadata": {},
     "output_type": "execute_result"
    }
   ],
   "source": [
    "df.select(\"ORIGIN\").distinct().count()"
   ]
  },
  {
   "cell_type": "markdown",
   "metadata": {},
   "source": [
    "### Adım2: Mevsimlere göre istatistiklerini inceleyiniz. (sum, avg, count)"
   ]
  },
  {
   "cell_type": "code",
   "execution_count": 23,
   "metadata": {},
   "outputs": [],
   "source": [
    "from pyspark.sql.functions import sum, avg, count\n",
    "\n",
    "mevsim_istatistikleri_df = df.groupBy(\"SEASON\").agg(\n",
    "    sum(\"PSGR_COUNT\").alias(\"toplam_yolcu\"),\n",
    "    avg(\"PSGR_COUNT\").alias(\"ortalama_yolcu\"),\n",
    "    count(\"*\").alias(\"toplam_ucus_sayisi\")\n",
    ")"
   ]
  },
  {
   "cell_type": "code",
   "execution_count": 24,
   "metadata": {},
   "outputs": [
    {
     "name": "stdout",
     "output_type": "stream",
     "text": [
      "+------+------------+-----------------+------------------+\n",
      "|SEASON|toplam_yolcu|   ortalama_yolcu|toplam_ucus_sayisi|\n",
      "+------+------------+-----------------+------------------+\n",
      "|SUMMER|   521002675|567.8806552066541|            917451|\n",
      "|WINTER|   336882094|420.1829420855103|            801751|\n",
      "+------+------------+-----------------+------------------+\n",
      "\n"
     ]
    }
   ],
   "source": [
    "mevsim_istatistikleri_df.orderBy(\"SEASON\").show()"
   ]
  },
  {
   "cell_type": "markdown",
   "metadata": {},
   "source": [
    "### Adım 3: Yaz sezonunda en çok yolcunun taşındığı ilk 5 kalkış noktasını gözlemleyiniz."
   ]
  },
  {
   "cell_type": "code",
   "execution_count": 25,
   "metadata": {},
   "outputs": [],
   "source": [
    "from pyspark.sql.functions import col, sum\n",
    "\n",
    "summer_flights_df = df.filter(col(\"SEASON\") == \"SUMMER\") # summer sezonunu filtreliyoruz\n",
    "\n",
    "top_5_summer_origins = (summer_flights_df\n",
    "                        .groupBy(\"ORIGIN\")\n",
    "                        .agg(sum(\"PSGR_COUNT\").alias(\"toplam_yolcu\"))\n",
    "                        .orderBy(col(\"toplam_yolcu\").desc())\n",
    "                        .limit(5)\n",
    "                       )"
   ]
  },
  {
   "cell_type": "code",
   "execution_count": 26,
   "metadata": {},
   "outputs": [
    {
     "name": "stdout",
     "output_type": "stream",
     "text": [
      "Yaz Sezonunda En Çok Yolcu Taşınan İlk 5 Kalkış Noktası:\n",
      "+------+------------+\n",
      "|ORIGIN|toplam_yolcu|\n",
      "+------+------------+\n",
      "|   IC7|    11177363|\n",
      "|   LHR|     9696224|\n",
      "|   H8G|     8432456|\n",
      "|   DEL|     7705173|\n",
      "|   CDG|     7244943|\n",
      "+------+------------+\n",
      "\n"
     ]
    }
   ],
   "source": [
    "print(\"Yaz Sezonunda En Çok Yolcu Taşınan İlk 5 Kalkış Noktası:\")\n",
    "top_5_summer_origins.show()"
   ]
  },
  {
   "cell_type": "markdown",
   "metadata": {},
   "source": [
    "### Adım 4: Veri setini okuyarak mevsim ve kalkış noktasına göre yolcu sayısını azalan olarak sıralayınız"
   ]
  },
  {
   "cell_type": "code",
   "execution_count": 27,
   "metadata": {},
   "outputs": [],
   "source": [
    "grouped_and_sorted_df = (df\n",
    "                         .groupBy(\"SEASON\", \"ORIGIN\")\n",
    "                         .agg(sum(\"PSGR_COUNT\").alias(\"toplam_yolcu\"))\n",
    "                         .orderBy(col(\"toplam_yolcu\").desc())\n",
    "                        )"
   ]
  },
  {
   "cell_type": "code",
   "execution_count": 28,
   "metadata": {},
   "outputs": [
    {
     "name": "stdout",
     "output_type": "stream",
     "text": [
      "Mevsim ve Kalkış Noktasına Göre Toplam Yolcu Sayıları (Azalan Sırada):\n",
      "+------+------+------------+\n",
      "|SEASON|ORIGIN|toplam_yolcu|\n",
      "+------+------+------------+\n",
      "|SUMMER|   IC7|    11177363|\n",
      "|SUMMER|   LHR|     9696224|\n",
      "|SUMMER|   H8G|     8432456|\n",
      "|WINTER|   IC7|     7803139|\n",
      "|SUMMER|   DEL|     7705173|\n",
      "|SUMMER|   CDG|     7244943|\n",
      "|SUMMER|   488|     7216564|\n",
      "|SUMMER|   JF8|     6304421|\n",
      "|WINTER|   H8G|     6044541|\n",
      "|WINTER|   LHR|     5954850|\n",
      "|WINTER|   488|     5904370|\n",
      "|SUMMER|   4OM|     5852877|\n",
      "|SUMMER|   6PE|     5797686|\n",
      "|SUMMER|   L2X|     5696390|\n",
      "|SUMMER|   DX4|     5682622|\n",
      "|SUMMER|   PVG|     5569012|\n",
      "|WINTER|   DEL|     5504620|\n",
      "|SUMMER|   M2D|     5076337|\n",
      "|SUMMER|   2M3|     5072853|\n",
      "|SUMMER|   3I7|     4984993|\n",
      "+------+------+------------+\n",
      "only showing top 20 rows\n",
      "\n"
     ]
    }
   ],
   "source": [
    "print(\"Mevsim ve Kalkış Noktasına Göre Toplam Yolcu Sayıları (Azalan Sırada):\")\n",
    "grouped_and_sorted_df.show()"
   ]
  },
  {
   "cell_type": "markdown",
   "metadata": {},
   "source": [
    "# GÖREV 4: Veri Kaynaklarına Yazdırma\n",
    "\n",
    "#### Hive\n",
    "- Elde ettiğiniz veri setini hive veri tabanına orc formatında yazınız.\n",
    "\n",
    "#### Veri Okuma\n",
    "\n",
    "- Hive'a gönderdiğiniz veri setini okuyunuz.\n",
    "\n",
    "#### Postgresql\n",
    "- Elde ettiğiniz veri setini Postgresql'e traindb.public.ordered_df_thy tablosuna yazsın.\n",
    "\n",
    "#### Veri Okuma\n",
    "\n",
    "- Shell üzerinden Postgresql'e gönderdiğiniz veriyi okuyunuz."
   ]
  },
  {
   "cell_type": "markdown",
   "metadata": {},
   "source": [
    "### Adım1: Elde ettiğiniz veri setini Hive üzerinde test1 veri tabanına ORC formatında yazınız"
   ]
  },
  {
   "cell_type": "code",
   "execution_count": 37,
   "metadata": {},
   "outputs": [],
   "source": [
    "grouped_and_sorted_df.write.format(\"orc\").mode(\"overwrite\").saveAsTable(\"test1.thy_market_grpby_season_org\")"
   ]
  },
  {
   "cell_type": "markdown",
   "metadata": {},
   "source": [
    "### Adım2: Hive’a gönderdiğiniz veri setini okuyunuz ve ilk 5 gözlemi inceleyiniz."
   ]
  },
  {
   "cell_type": "code",
   "execution_count": 38,
   "metadata": {},
   "outputs": [
    {
     "data": {
      "text/html": [
       "<div>\n",
       "<style scoped>\n",
       "    .dataframe tbody tr th:only-of-type {\n",
       "        vertical-align: middle;\n",
       "    }\n",
       "\n",
       "    .dataframe tbody tr th {\n",
       "        vertical-align: top;\n",
       "    }\n",
       "\n",
       "    .dataframe thead th {\n",
       "        text-align: right;\n",
       "    }\n",
       "</style>\n",
       "<table border=\"1\" class=\"dataframe\">\n",
       "  <thead>\n",
       "    <tr style=\"text-align: right;\">\n",
       "      <th></th>\n",
       "      <th>SEASON</th>\n",
       "      <th>ORIGIN</th>\n",
       "      <th>toplam_yolcu</th>\n",
       "    </tr>\n",
       "  </thead>\n",
       "  <tbody>\n",
       "    <tr>\n",
       "      <th>0</th>\n",
       "      <td>WINTER</td>\n",
       "      <td>YLP</td>\n",
       "      <td>1</td>\n",
       "    </tr>\n",
       "    <tr>\n",
       "      <th>1</th>\n",
       "      <td>WINTER</td>\n",
       "      <td>3VI</td>\n",
       "      <td>1</td>\n",
       "    </tr>\n",
       "    <tr>\n",
       "      <th>2</th>\n",
       "      <td>WINTER</td>\n",
       "      <td>4YD</td>\n",
       "      <td>1</td>\n",
       "    </tr>\n",
       "    <tr>\n",
       "      <th>3</th>\n",
       "      <td>WINTER</td>\n",
       "      <td>34R</td>\n",
       "      <td>1</td>\n",
       "    </tr>\n",
       "    <tr>\n",
       "      <th>4</th>\n",
       "      <td>SUMMER</td>\n",
       "      <td>47W</td>\n",
       "      <td>1</td>\n",
       "    </tr>\n",
       "  </tbody>\n",
       "</table>\n",
       "</div>"
      ],
      "text/plain": [
       "   SEASON ORIGIN  toplam_yolcu\n",
       "0  WINTER    YLP             1\n",
       "1  WINTER    3VI             1\n",
       "2  WINTER    4YD             1\n",
       "3  WINTER    34R             1\n",
       "4  SUMMER    47W             1"
      ]
     },
     "execution_count": 38,
     "metadata": {},
     "output_type": "execute_result"
    }
   ],
   "source": [
    "spark.sql(\"select * from test1.thy_market_grpby_season_org;\").limit(5).toPandas()"
   ]
  },
  {
   "cell_type": "markdown",
   "metadata": {},
   "source": [
    "### Adım3: Elde ettiğiniz veri setini Postgresql üzerinde traindb veri tabanı içerisinde public.ordered_df_thy tablosuna yazınız"
   ]
  },
  {
   "cell_type": "code",
   "execution_count": 39,
   "metadata": {},
   "outputs": [],
   "source": [
    "jdbcUrl = \"jdbc:postgresql://localhost/traindb?user=train&password=Ankara06\""
   ]
  },
  {
   "cell_type": "code",
   "execution_count": 41,
   "metadata": {},
   "outputs": [],
   "source": [
    "grouped_and_sorted_df.write \\\n",
    ".jdbc(url=jdbcUrl,\n",
    "              table=\"grouped_and_sorted_df\", \n",
    "              mode=\"overwrite\", \n",
    "              properties={\"driver\": 'org.postgresql.Driver'})"
   ]
  },
  {
   "cell_type": "markdown",
   "metadata": {},
   "source": [
    "### Adım 4: Shell üzerinden Postgresqle gönderdiğiniz veriyi okuyunuz."
   ]
  },
  {
   "cell_type": "code",
   "execution_count": 43,
   "metadata": {},
   "outputs": [
    {
     "data": {
      "text/html": [
       "<div>\n",
       "<style scoped>\n",
       "    .dataframe tbody tr th:only-of-type {\n",
       "        vertical-align: middle;\n",
       "    }\n",
       "\n",
       "    .dataframe tbody tr th {\n",
       "        vertical-align: top;\n",
       "    }\n",
       "\n",
       "    .dataframe thead th {\n",
       "        text-align: right;\n",
       "    }\n",
       "</style>\n",
       "<table border=\"1\" class=\"dataframe\">\n",
       "  <thead>\n",
       "    <tr style=\"text-align: right;\">\n",
       "      <th></th>\n",
       "      <th>SEASON</th>\n",
       "      <th>ORIGIN</th>\n",
       "      <th>toplam_yolcu</th>\n",
       "    </tr>\n",
       "  </thead>\n",
       "  <tbody>\n",
       "    <tr>\n",
       "      <th>0</th>\n",
       "      <td>SUMMER</td>\n",
       "      <td>4C7</td>\n",
       "      <td>3578345</td>\n",
       "    </tr>\n",
       "    <tr>\n",
       "      <th>1</th>\n",
       "      <td>SUMMER</td>\n",
       "      <td>IC7</td>\n",
       "      <td>11177363</td>\n",
       "    </tr>\n",
       "    <tr>\n",
       "      <th>2</th>\n",
       "      <td>SUMMER</td>\n",
       "      <td>JED</td>\n",
       "      <td>3571994</td>\n",
       "    </tr>\n",
       "    <tr>\n",
       "      <th>3</th>\n",
       "      <td>SUMMER</td>\n",
       "      <td>LHR</td>\n",
       "      <td>9696224</td>\n",
       "    </tr>\n",
       "    <tr>\n",
       "      <th>4</th>\n",
       "      <td>WINTER</td>\n",
       "      <td>L2X</td>\n",
       "      <td>3347347</td>\n",
       "    </tr>\n",
       "  </tbody>\n",
       "</table>\n",
       "</div>"
      ],
      "text/plain": [
       "   SEASON ORIGIN  toplam_yolcu\n",
       "0  SUMMER    4C7       3578345\n",
       "1  SUMMER    IC7      11177363\n",
       "2  SUMMER    JED       3571994\n",
       "3  SUMMER    LHR       9696224\n",
       "4  WINTER    L2X       3347347"
      ]
     },
     "execution_count": 43,
     "metadata": {},
     "output_type": "execute_result"
    }
   ],
   "source": [
    "spark.read.jdbc(url=jdbcUrl,\n",
    "              table=\"grouped_and_sorted_df\",  \n",
    "              properties={\"driver\": 'org.postgresql.Driver'}).limit(5).toPandas()"
   ]
  },
  {
   "cell_type": "code",
   "execution_count": null,
   "metadata": {},
   "outputs": [],
   "source": []
  },
  {
   "cell_type": "code",
   "execution_count": null,
   "metadata": {},
   "outputs": [],
   "source": []
  }
 ],
 "metadata": {
  "kernelspec": {
   "display_name": "venvspark",
   "language": "python",
   "name": "venvspark"
  },
  "language_info": {
   "codemirror_mode": {
    "name": "ipython",
    "version": 3
   },
   "file_extension": ".py",
   "mimetype": "text/x-python",
   "name": "python",
   "nbconvert_exporter": "python",
   "pygments_lexer": "ipython3",
   "version": "3.6.8"
  }
 },
 "nbformat": 4,
 "nbformat_minor": 4
}
