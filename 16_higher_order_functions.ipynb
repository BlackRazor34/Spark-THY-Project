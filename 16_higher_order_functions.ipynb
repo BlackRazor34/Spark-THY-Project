{
 "cells": [
  {
   "cell_type": "code",
   "execution_count": 1,
   "metadata": {},
   "outputs": [],
   "source": [
    "import findspark\n",
    "\n",
    "findspark.init(\"/opt/manual/spark\")"
   ]
  },
  {
   "cell_type": "code",
   "execution_count": 2,
   "metadata": {},
   "outputs": [],
   "source": [
    "from pyspark.sql import SparkSession, functions as F\n",
    "from pyspark.sql.types import *\n",
    "\n",
    "spark = (\n",
    "    SparkSession.builder\n",
    "    .appName(\"Spark YARN Mode\")\n",
    "    .master(\"yarn\")\n",
    "    .enableHiveSupport()         \n",
    ".getOrCreate())"
   ]
  },
  {
   "cell_type": "code",
   "execution_count": 3,
   "metadata": {},
   "outputs": [],
   "source": [
    "df = spark.createDataFrame(\n",
    "[\n",
    "(\"Erkan\", ['erkan@example.com', 'erkan@gmail.com']), # her satır tuple\n",
    "(\"Zeynep\", ['zeynep@example.com', 'zeynep@gmail.com', 'zeynep@yaho.com'])\n",
    "],\n",
    "    ['name', 'Emails']\n",
    ")"
   ]
  },
  {
   "cell_type": "code",
   "execution_count": 4,
   "metadata": {},
   "outputs": [
    {
     "name": "stdout",
     "output_type": "stream",
     "text": [
      "+------+-------------------------------------------------------+\n",
      "|name  |Emails                                                 |\n",
      "+------+-------------------------------------------------------+\n",
      "|Erkan |[erkan@example.com, erkan@gmail.com]                   |\n",
      "|Zeynep|[zeynep@example.com, zeynep@gmail.com, zeynep@yaho.com]|\n",
      "+------+-------------------------------------------------------+\n",
      "\n"
     ]
    }
   ],
   "source": [
    "df.show(truncate=False)"
   ]
  },
  {
   "cell_type": "code",
   "execution_count": 5,
   "metadata": {},
   "outputs": [
    {
     "name": "stdout",
     "output_type": "stream",
     "text": [
      "+------------------+\n",
      "|         Emails[0]|\n",
      "+------------------+\n",
      "| erkan@example.com|\n",
      "|zeynep@example.com|\n",
      "+------------------+\n",
      "\n"
     ]
    }
   ],
   "source": [
    "df.select(F.col(\"Emails\").getItem(0)).show()"
   ]
  },
  {
   "cell_type": "code",
   "execution_count": 6,
   "metadata": {},
   "outputs": [
    {
     "name": "stdout",
     "output_type": "stream",
     "text": [
      "+-----+------------------------------------+\n",
      "|name |Emails                              |\n",
      "+-----+------------------------------------+\n",
      "|Erkan|[erkan@example.com, erkan@gmail.com]|\n",
      "+-----+------------------------------------+\n",
      "\n"
     ]
    }
   ],
   "source": [
    "df.filter(F.array_contains(F.col(\"Emails\"), \"erkan@example.com\")).show(truncate=False)"
   ]
  },
  {
   "cell_type": "code",
   "execution_count": 11,
   "metadata": {},
   "outputs": [],
   "source": [
    "df2 = df.withColumn(\"Email\", F.explode(\"Emails\"))"
   ]
  },
  {
   "cell_type": "code",
   "execution_count": 13,
   "metadata": {},
   "outputs": [
    {
     "name": "stdout",
     "output_type": "stream",
     "text": [
      "+------+-------------------------------------------------------+------------------+\n",
      "|name  |Emails                                                 |Email             |\n",
      "+------+-------------------------------------------------------+------------------+\n",
      "|Erkan |[erkan@example.com, erkan@gmail.com]                   |erkan@example.com |\n",
      "|Erkan |[erkan@example.com, erkan@gmail.com]                   |erkan@gmail.com   |\n",
      "|Zeynep|[zeynep@example.com, zeynep@gmail.com, zeynep@yaho.com]|zeynep@example.com|\n",
      "|Zeynep|[zeynep@example.com, zeynep@gmail.com, zeynep@yaho.com]|zeynep@gmail.com  |\n",
      "|Zeynep|[zeynep@example.com, zeynep@gmail.com, zeynep@yaho.com]|zeynep@yaho.com   |\n",
      "+------+-------------------------------------------------------+------------------+\n",
      "\n"
     ]
    }
   ],
   "source": [
    "df2.show(truncate=False)"
   ]
  },
  {
   "cell_type": "code",
   "execution_count": 14,
   "metadata": {},
   "outputs": [
    {
     "name": "stdout",
     "output_type": "stream",
     "text": [
      "+------+------------------+\n",
      "|Name  |Email             |\n",
      "+------+------------------+\n",
      "|Erkan |erkan@example.com |\n",
      "|Erkan |erkan@gmail.com   |\n",
      "|Zeynep|zeynep@example.com|\n",
      "|Zeynep|zeynep@gmail.com  |\n",
      "|Zeynep|zeynep@yaho.com   |\n",
      "+------+------------------+\n",
      "\n"
     ]
    }
   ],
   "source": [
    "df2.select(\"Name\", \"Email\").show(truncate=False)"
   ]
  },
  {
   "cell_type": "code",
   "execution_count": 15,
   "metadata": {},
   "outputs": [],
   "source": [
    "spark.stop()"
   ]
  },
  {
   "cell_type": "code",
   "execution_count": null,
   "metadata": {},
   "outputs": [],
   "source": []
  }
 ],
 "metadata": {
  "kernelspec": {
   "display_name": "venvspark",
   "language": "python",
   "name": "venvspark"
  },
  "language_info": {
   "codemirror_mode": {
    "name": "ipython",
    "version": 3
   },
   "file_extension": ".py",
   "mimetype": "text/x-python",
   "name": "python",
   "nbconvert_exporter": "python",
   "pygments_lexer": "ipython3",
   "version": "3.6.8"
  }
 },
 "nbformat": 4,
 "nbformat_minor": 4
}
