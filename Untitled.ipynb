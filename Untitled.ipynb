{
 "cells": [
  {
   "cell_type": "code",
   "execution_count": 1,
   "metadata": {},
   "outputs": [],
   "source": [
    "import pandas as pd\n",
    "import findspark\n",
    "findspark.init(\"/opt/manual/spark\")\n",
    "\n",
    "from pyspark.sql import SparkSession, functions as F"
   ]
  },
  {
   "cell_type": "code",
   "execution_count": 2,
   "metadata": {},
   "outputs": [],
   "source": [
    "spark = (SparkSession.builder\n",
    "         .appName(\"Delta Lake\")\n",
    "         .master(\"yarn\")\n",
    "         .config(\"spark.jars.packages\", \"io.delta:delta-core_2.12:0.7.0\")\n",
    "         .config(\"spark.sql.extensions\", \"io.delta.sql.DeltaSparkSessionExtension\")\n",
    "         .config(\"spark.sql.catalog.spark_catalog\", \"org.apache.spark.sql.delta.catalog.DeltaCatalog\")\n",
    "         .getOrCreate())"
   ]
  },
  {
   "cell_type": "code",
   "execution_count": 3,
   "metadata": {},
   "outputs": [],
   "source": [
    "from delta.tables import *"
   ]
  },
  {
   "cell_type": "code",
   "execution_count": 4,
   "metadata": {},
   "outputs": [],
   "source": [
    "deltaPath = \"hdfs://localhost:9000/user/train/delta-ik\""
   ]
  },
  {
   "cell_type": "code",
   "execution_count": 6,
   "metadata": {},
   "outputs": [],
   "source": [
    "customers = spark.createDataFrame([(10001417, \"Tuncay Kavcı\", \"BI Developer\"),\n",
    "                                       (10001418, \"Tülay İçtiyar\", \"Data Scientist\"),\n",
    "                                       (10004055, \"Arzu Taksici\", \"Data Engineer\"),\n",
    "                                       (10001505, \"Tuncay Çadırcı\", \"Data Analist\"),\n",
    "                                      (10001526, \"Sultan Balcı\", \"Jr. Developer\")],\n",
    "                                       [\"Id\", \"Name\", \"Branch\"])"
   ]
  },
  {
   "cell_type": "code",
   "execution_count": 7,
   "metadata": {},
   "outputs": [
    {
     "name": "stdout",
     "output_type": "stream",
     "text": [
      "+--------+--------------+--------------+\n",
      "|      Id|          Name|        Branch|\n",
      "+--------+--------------+--------------+\n",
      "|10001417|  Tuncay Kavcı|  BI Developer|\n",
      "|10001418| Tülay İçtiyar|Data Scientist|\n",
      "|10004055|  Arzu Taksici| Data Engineer|\n",
      "|10001505|Tuncay Çadırcı|  Data Analist|\n",
      "|10001526|  Sultan Balcı| Jr. Developer|\n",
      "+--------+--------------+--------------+\n",
      "\n"
     ]
    }
   ],
   "source": [
    "customers.show()"
   ]
  },
  {
   "cell_type": "markdown",
   "metadata": {},
   "source": [
    "# Write df as delta table"
   ]
  },
  {
   "cell_type": "code",
   "execution_count": 8,
   "metadata": {},
   "outputs": [],
   "source": [
    "customers.write.format(\"delta\").mode(\"overwrite\").save(deltaPath)"
   ]
  },
  {
   "cell_type": "markdown",
   "metadata": {},
   "source": [
    "# Read from delta"
   ]
  },
  {
   "cell_type": "code",
   "execution_count": 9,
   "metadata": {},
   "outputs": [],
   "source": [
    "customers_delta = DeltaTable.forPath(spark, deltaPath)"
   ]
  },
  {
   "cell_type": "code",
   "execution_count": 10,
   "metadata": {},
   "outputs": [
    {
     "name": "stdout",
     "output_type": "stream",
     "text": [
      "+--------+--------------+--------------+\n",
      "|      Id|          Name|        Branch|\n",
      "+--------+--------------+--------------+\n",
      "|10004055|  Arzu Taksici| Data Engineer|\n",
      "|10001505|Tuncay Çadırcı|  Data Analist|\n",
      "|10001526|  Sultan Balcı| Jr. Developer|\n",
      "|10001417|  Tuncay Kavcı|  BI Developer|\n",
      "|10001418| Tülay İçtiyar|Data Scientist|\n",
      "+--------+--------------+--------------+\n",
      "\n"
     ]
    }
   ],
   "source": [
    "customers_delta.toDF().show()"
   ]
  },
  {
   "cell_type": "markdown",
   "metadata": {},
   "source": [
    "# new customers"
   ]
  },
  {
   "cell_type": "code",
   "execution_count": 11,
   "metadata": {},
   "outputs": [],
   "source": [
    "customer_new = spark.createDataFrame([(10001417, \"Tuncay Kavcı\", \"BI Developer\"),\n",
    "                                       (10001418, \"Tülay İçtiyar\", \"Data Scientist\"),\n",
    "                                       (10055, \"Mehmet Taksici\", \"Data Engineer\"),\n",
    "                                       (10001505, \"Tuncay Çadırcı\", \"Data Analist\"),\n",
    "                                      (101526, \"Ayşe Balcı\", \"Jr. Developer\")],\n",
    "                                       [\"Id\", \"Name\", \"Branch\"])"
   ]
  },
  {
   "cell_type": "code",
   "execution_count": 12,
   "metadata": {},
   "outputs": [
    {
     "name": "stdout",
     "output_type": "stream",
     "text": [
      "+--------+--------------+--------------+\n",
      "|      Id|          Name|        Branch|\n",
      "+--------+--------------+--------------+\n",
      "|10001417|  Tuncay Kavcı|  BI Developer|\n",
      "|10001418| Tülay İçtiyar|Data Scientist|\n",
      "|   10055|Mehmet Taksici| Data Engineer|\n",
      "|10001505|Tuncay Çadırcı|  Data Analist|\n",
      "|  101526|    Ayşe Balcı| Jr. Developer|\n",
      "+--------+--------------+--------------+\n",
      "\n"
     ]
    }
   ],
   "source": [
    "customer_new.show()"
   ]
  },
  {
   "cell_type": "markdown",
   "metadata": {},
   "source": [
    "# Upserts"
   ]
  },
  {
   "cell_type": "code",
   "execution_count": 13,
   "metadata": {},
   "outputs": [],
   "source": [
    "customers_delta.alias(\"cust\") \\\n",
    ".merge(customer_new.alias(\"cust_new\"), \"cust.Id == cust_new.Id\") \\\n",
    ".whenMatchedUpdateAll() \\\n",
    ".whenNotMatchedInsertAll() \\\n",
    ".execute()"
   ]
  },
  {
   "cell_type": "code",
   "execution_count": 14,
   "metadata": {},
   "outputs": [
    {
     "name": "stdout",
     "output_type": "stream",
     "text": [
      "+--------+--------------+--------------+\n",
      "|      Id|          Name|        Branch|\n",
      "+--------+--------------+--------------+\n",
      "|10001418| Tülay İçtiyar|Data Scientist|\n",
      "|10001505|Tuncay Çadırcı|  Data Analist|\n",
      "|   10055|Mehmet Taksici| Data Engineer|\n",
      "|10001526|  Sultan Balcı| Jr. Developer|\n",
      "|10001417|  Tuncay Kavcı|  BI Developer|\n",
      "|  101526|    Ayşe Balcı| Jr. Developer|\n",
      "|10004055|  Arzu Taksici| Data Engineer|\n",
      "+--------+--------------+--------------+\n",
      "\n"
     ]
    }
   ],
   "source": [
    "customers_delta.toDF().show()"
   ]
  },
  {
   "cell_type": "markdown",
   "metadata": {},
   "source": [
    "# Update"
   ]
  },
  {
   "cell_type": "code",
   "execution_count": 15,
   "metadata": {},
   "outputs": [],
   "source": [
    "customers_delta.update(\n",
    "condition=F.expr(\"Branch == 'Data'\"),\n",
    "set={\"Branch\": F.expr(\"'Jr. Data'\")})"
   ]
  },
  {
   "cell_type": "code",
   "execution_count": 16,
   "metadata": {},
   "outputs": [
    {
     "name": "stdout",
     "output_type": "stream",
     "text": [
      "+--------+--------------+--------------+\n",
      "|      Id|          Name|        Branch|\n",
      "+--------+--------------+--------------+\n",
      "|10001418| Tülay İçtiyar|Data Scientist|\n",
      "|10001505|Tuncay Çadırcı|  Data Analist|\n",
      "|   10055|Mehmet Taksici| Data Engineer|\n",
      "|10001526|  Sultan Balcı| Jr. Developer|\n",
      "|10001417|  Tuncay Kavcı|  BI Developer|\n",
      "|  101526|    Ayşe Balcı| Jr. Developer|\n",
      "|10004055|  Arzu Taksici| Data Engineer|\n",
      "+--------+--------------+--------------+\n",
      "\n"
     ]
    }
   ],
   "source": [
    "customers_delta.toDF().show()"
   ]
  },
  {
   "cell_type": "code",
   "execution_count": null,
   "metadata": {},
   "outputs": [],
   "source": []
  }
 ],
 "metadata": {
  "kernelspec": {
   "display_name": "venvspark",
   "language": "python",
   "name": "venvspark"
  },
  "language_info": {
   "codemirror_mode": {
    "name": "ipython",
    "version": 3
   },
   "file_extension": ".py",
   "mimetype": "text/x-python",
   "name": "python",
   "nbconvert_exporter": "python",
   "pygments_lexer": "ipython3",
   "version": "3.6.8"
  }
 },
 "nbformat": 4,
 "nbformat_minor": 4
}
