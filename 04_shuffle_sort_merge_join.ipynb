{
 "cells": [
  {
   "cell_type": "code",
   "execution_count": 1,
   "metadata": {},
   "outputs": [],
   "source": [
    "import findspark\n",
    "findspark.init(\"/opt/manual/spark\")\n",
    "from pyspark.sql import SparkSession, functions as F"
   ]
  },
  {
   "cell_type": "code",
   "execution_count": 2,
   "metadata": {},
   "outputs": [],
   "source": [
    "spark = (\n",
    "    SparkSession.builder\n",
    "    .appName(\"Shuffle Sort Merge Join (SMJ)\")\n",
    "    .master(\"yarn\")     \n",
    "    .getOrCreate())"
   ]
  },
  {
   "cell_type": "markdown",
   "metadata": {},
   "source": [
    "# read order items"
   ]
  },
  {
   "cell_type": "code",
   "execution_count": 3,
   "metadata": {},
   "outputs": [],
   "source": [
    "order_items = spark.read \\\n",
    ".option(\"header\",True) \\\n",
    ".option(\"inferSchema\", True) \\\n",
    ".option(\"sep\", \",\") \\\n",
    ".csv(\"/user/train/datasets/retail_db/order_items.csv\")"
   ]
  },
  {
   "cell_type": "code",
   "execution_count": 4,
   "metadata": {},
   "outputs": [
    {
     "data": {
      "text/plain": [
       "172198"
      ]
     },
     "execution_count": 4,
     "metadata": {},
     "output_type": "execute_result"
    }
   ],
   "source": [
    "order_items.count()"
   ]
  },
  {
   "cell_type": "code",
   "execution_count": 5,
   "metadata": {},
   "outputs": [
    {
     "data": {
      "text/html": [
       "<div>\n",
       "<style scoped>\n",
       "    .dataframe tbody tr th:only-of-type {\n",
       "        vertical-align: middle;\n",
       "    }\n",
       "\n",
       "    .dataframe tbody tr th {\n",
       "        vertical-align: top;\n",
       "    }\n",
       "\n",
       "    .dataframe thead th {\n",
       "        text-align: right;\n",
       "    }\n",
       "</style>\n",
       "<table border=\"1\" class=\"dataframe\">\n",
       "  <thead>\n",
       "    <tr style=\"text-align: right;\">\n",
       "      <th></th>\n",
       "      <th>orderItemName</th>\n",
       "      <th>orderItemOrderId</th>\n",
       "      <th>orderItemProductId</th>\n",
       "      <th>orderItemQuantity</th>\n",
       "      <th>orderItemSubTotal</th>\n",
       "      <th>orderItemProductPrice</th>\n",
       "    </tr>\n",
       "  </thead>\n",
       "  <tbody>\n",
       "    <tr>\n",
       "      <th>0</th>\n",
       "      <td>1</td>\n",
       "      <td>1</td>\n",
       "      <td>957</td>\n",
       "      <td>1</td>\n",
       "      <td>299.98</td>\n",
       "      <td>299.98</td>\n",
       "    </tr>\n",
       "    <tr>\n",
       "      <th>1</th>\n",
       "      <td>2</td>\n",
       "      <td>2</td>\n",
       "      <td>1073</td>\n",
       "      <td>1</td>\n",
       "      <td>199.99</td>\n",
       "      <td>199.99</td>\n",
       "    </tr>\n",
       "    <tr>\n",
       "      <th>2</th>\n",
       "      <td>3</td>\n",
       "      <td>2</td>\n",
       "      <td>502</td>\n",
       "      <td>5</td>\n",
       "      <td>250.00</td>\n",
       "      <td>50.00</td>\n",
       "    </tr>\n",
       "  </tbody>\n",
       "</table>\n",
       "</div>"
      ],
      "text/plain": [
       "   orderItemName  orderItemOrderId  orderItemProductId  orderItemQuantity  \\\n",
       "0              1                 1                 957                  1   \n",
       "1              2                 2                1073                  1   \n",
       "2              3                 2                 502                  5   \n",
       "\n",
       "   orderItemSubTotal  orderItemProductPrice  \n",
       "0             299.98                 299.98  \n",
       "1             199.99                 199.99  \n",
       "2             250.00                  50.00  "
      ]
     },
     "execution_count": 5,
     "metadata": {},
     "output_type": "execute_result"
    }
   ],
   "source": [
    "order_items.limit(3).toPandas()"
   ]
  },
  {
   "cell_type": "markdown",
   "metadata": {},
   "source": [
    "# read orders"
   ]
  },
  {
   "cell_type": "code",
   "execution_count": 6,
   "metadata": {},
   "outputs": [],
   "source": [
    "orders = spark.read \\\n",
    ".option(\"header\",True) \\\n",
    ".option(\"inferSchema\", True) \\\n",
    ".option(\"sep\", \",\") \\\n",
    ".csv(\"/user/train/datasets/retail_db/orders.csv\")"
   ]
  },
  {
   "cell_type": "code",
   "execution_count": 7,
   "metadata": {},
   "outputs": [
    {
     "data": {
      "text/plain": [
       "68883"
      ]
     },
     "execution_count": 7,
     "metadata": {},
     "output_type": "execute_result"
    }
   ],
   "source": [
    "orders.count()"
   ]
  },
  {
   "cell_type": "code",
   "execution_count": 8,
   "metadata": {},
   "outputs": [
    {
     "data": {
      "text/html": [
       "<div>\n",
       "<style scoped>\n",
       "    .dataframe tbody tr th:only-of-type {\n",
       "        vertical-align: middle;\n",
       "    }\n",
       "\n",
       "    .dataframe tbody tr th {\n",
       "        vertical-align: top;\n",
       "    }\n",
       "\n",
       "    .dataframe thead th {\n",
       "        text-align: right;\n",
       "    }\n",
       "</style>\n",
       "<table border=\"1\" class=\"dataframe\">\n",
       "  <thead>\n",
       "    <tr style=\"text-align: right;\">\n",
       "      <th></th>\n",
       "      <th>orderId</th>\n",
       "      <th>orderDate</th>\n",
       "      <th>orderCustomerId</th>\n",
       "      <th>orderStatus</th>\n",
       "    </tr>\n",
       "  </thead>\n",
       "  <tbody>\n",
       "    <tr>\n",
       "      <th>0</th>\n",
       "      <td>1</td>\n",
       "      <td>2013-07-25 00:00:00.0</td>\n",
       "      <td>11599</td>\n",
       "      <td>CLOSED</td>\n",
       "    </tr>\n",
       "    <tr>\n",
       "      <th>1</th>\n",
       "      <td>2</td>\n",
       "      <td>2013-07-25 00:00:00.0</td>\n",
       "      <td>256</td>\n",
       "      <td>PENDING_PAYMENT</td>\n",
       "    </tr>\n",
       "    <tr>\n",
       "      <th>2</th>\n",
       "      <td>3</td>\n",
       "      <td>2013-07-25 00:00:00.0</td>\n",
       "      <td>12111</td>\n",
       "      <td>COMPLETE</td>\n",
       "    </tr>\n",
       "  </tbody>\n",
       "</table>\n",
       "</div>"
      ],
      "text/plain": [
       "   orderId              orderDate  orderCustomerId      orderStatus\n",
       "0        1  2013-07-25 00:00:00.0            11599           CLOSED\n",
       "1        2  2013-07-25 00:00:00.0              256  PENDING_PAYMENT\n",
       "2        3  2013-07-25 00:00:00.0            12111         COMPLETE"
      ]
     },
     "execution_count": 8,
     "metadata": {},
     "output_type": "execute_result"
    }
   ],
   "source": [
    "orders.limit(3).toPandas()"
   ]
  },
  {
   "cell_type": "code",
   "execution_count": 13,
   "metadata": {},
   "outputs": [],
   "source": [
    "spark.conf.set(\"spark.sql.autoBroadcastJoinThreshold\", \"-1\") # broadcast i kapatıyoruz"
   ]
  },
  {
   "cell_type": "markdown",
   "metadata": {},
   "source": [
    "# join"
   ]
  },
  {
   "cell_type": "code",
   "execution_count": 14,
   "metadata": {},
   "outputs": [],
   "source": [
    "joined_df = order_items.join(orders, order_items.orderItemOrderId == orders.orderId)"
   ]
  },
  {
   "cell_type": "code",
   "execution_count": 15,
   "metadata": {},
   "outputs": [
    {
     "data": {
      "text/html": [
       "<div>\n",
       "<style scoped>\n",
       "    .dataframe tbody tr th:only-of-type {\n",
       "        vertical-align: middle;\n",
       "    }\n",
       "\n",
       "    .dataframe tbody tr th {\n",
       "        vertical-align: top;\n",
       "    }\n",
       "\n",
       "    .dataframe thead th {\n",
       "        text-align: right;\n",
       "    }\n",
       "</style>\n",
       "<table border=\"1\" class=\"dataframe\">\n",
       "  <thead>\n",
       "    <tr style=\"text-align: right;\">\n",
       "      <th></th>\n",
       "      <th>orderItemName</th>\n",
       "      <th>orderItemOrderId</th>\n",
       "      <th>orderItemProductId</th>\n",
       "      <th>orderItemQuantity</th>\n",
       "      <th>orderItemSubTotal</th>\n",
       "      <th>orderItemProductPrice</th>\n",
       "      <th>orderId</th>\n",
       "      <th>orderDate</th>\n",
       "      <th>orderCustomerId</th>\n",
       "      <th>orderStatus</th>\n",
       "    </tr>\n",
       "  </thead>\n",
       "  <tbody>\n",
       "    <tr>\n",
       "      <th>0</th>\n",
       "      <td>348</td>\n",
       "      <td>148</td>\n",
       "      <td>502</td>\n",
       "      <td>2</td>\n",
       "      <td>100.00</td>\n",
       "      <td>50.00</td>\n",
       "      <td>148</td>\n",
       "      <td>2013-07-26 00:00:00.0</td>\n",
       "      <td>5383</td>\n",
       "      <td>PROCESSING</td>\n",
       "    </tr>\n",
       "    <tr>\n",
       "      <th>1</th>\n",
       "      <td>349</td>\n",
       "      <td>148</td>\n",
       "      <td>502</td>\n",
       "      <td>5</td>\n",
       "      <td>250.00</td>\n",
       "      <td>50.00</td>\n",
       "      <td>148</td>\n",
       "      <td>2013-07-26 00:00:00.0</td>\n",
       "      <td>5383</td>\n",
       "      <td>PROCESSING</td>\n",
       "    </tr>\n",
       "    <tr>\n",
       "      <th>2</th>\n",
       "      <td>350</td>\n",
       "      <td>148</td>\n",
       "      <td>403</td>\n",
       "      <td>1</td>\n",
       "      <td>129.99</td>\n",
       "      <td>129.99</td>\n",
       "      <td>148</td>\n",
       "      <td>2013-07-26 00:00:00.0</td>\n",
       "      <td>5383</td>\n",
       "      <td>PROCESSING</td>\n",
       "    </tr>\n",
       "  </tbody>\n",
       "</table>\n",
       "</div>"
      ],
      "text/plain": [
       "   orderItemName  orderItemOrderId  orderItemProductId  orderItemQuantity  \\\n",
       "0            348               148                 502                  2   \n",
       "1            349               148                 502                  5   \n",
       "2            350               148                 403                  1   \n",
       "\n",
       "   orderItemSubTotal  orderItemProductPrice  orderId              orderDate  \\\n",
       "0             100.00                  50.00      148  2013-07-26 00:00:00.0   \n",
       "1             250.00                  50.00      148  2013-07-26 00:00:00.0   \n",
       "2             129.99                 129.99      148  2013-07-26 00:00:00.0   \n",
       "\n",
       "   orderCustomerId orderStatus  \n",
       "0             5383  PROCESSING  \n",
       "1             5383  PROCESSING  \n",
       "2             5383  PROCESSING  "
      ]
     },
     "execution_count": 15,
     "metadata": {},
     "output_type": "execute_result"
    }
   ],
   "source": [
    "joined_df.limit(3).toPandas()"
   ]
  },
  {
   "cell_type": "code",
   "execution_count": 16,
   "metadata": {},
   "outputs": [
    {
     "name": "stdout",
     "output_type": "stream",
     "text": [
      "== Physical Plan ==\n",
      "*(5) SortMergeJoin [orderItemOrderId#17], [orderId#61], Inner\n",
      ":- *(2) Sort [orderItemOrderId#17 ASC NULLS FIRST], false, 0\n",
      ":  +- Exchange hashpartitioning(orderItemOrderId#17, 200), true, [id=#236]\n",
      ":     +- *(1) Project [orderItemName#16, orderItemOrderId#17, orderItemProductId#18, orderItemQuantity#19, orderItemSubTotal#20, orderItemProductPrice#21]\n",
      ":        +- *(1) Filter isnotnull(orderItemOrderId#17)\n",
      ":           +- FileScan csv [orderItemName#16,orderItemOrderId#17,orderItemProductId#18,orderItemQuantity#19,orderItemSubTotal#20,orderItemProductPrice#21] Batched: false, DataFilters: [isnotnull(orderItemOrderId#17)], Format: CSV, Location: InMemoryFileIndex[hdfs://localhost:9000/user/train/datasets/retail_db/order_items.csv], PartitionFilters: [], PushedFilters: [IsNotNull(orderItemOrderId)], ReadSchema: struct<orderItemName:int,orderItemOrderId:int,orderItemProductId:int,orderItemQuantity:int,orderI...\n",
      "+- *(4) Sort [orderId#61 ASC NULLS FIRST], false, 0\n",
      "   +- Exchange hashpartitioning(orderId#61, 200), true, [id=#245]\n",
      "      +- *(3) Project [orderId#61, orderDate#62, orderCustomerId#63, orderStatus#64]\n",
      "         +- *(3) Filter isnotnull(orderId#61)\n",
      "            +- FileScan csv [orderId#61,orderDate#62,orderCustomerId#63,orderStatus#64] Batched: false, DataFilters: [isnotnull(orderId#61)], Format: CSV, Location: InMemoryFileIndex[hdfs://localhost:9000/user/train/datasets/retail_db/orders.csv], PartitionFilters: [], PushedFilters: [IsNotNull(orderId)], ReadSchema: struct<orderId:int,orderDate:string,orderCustomerId:int,orderStatus:string>\n",
      "\n",
      "\n"
     ]
    }
   ],
   "source": [
    "joined_df.explain()"
   ]
  },
  {
   "cell_type": "code",
   "execution_count": 17,
   "metadata": {},
   "outputs": [],
   "source": [
    "spark.stop()"
   ]
  },
  {
   "cell_type": "code",
   "execution_count": null,
   "metadata": {},
   "outputs": [],
   "source": []
  }
 ],
 "metadata": {
  "kernelspec": {
   "display_name": "venvspark",
   "language": "python",
   "name": "venvspark"
  },
  "language_info": {
   "codemirror_mode": {
    "name": "ipython",
    "version": 3
   },
   "file_extension": ".py",
   "mimetype": "text/x-python",
   "name": "python",
   "nbconvert_exporter": "python",
   "pygments_lexer": "ipython3",
   "version": "3.6.8"
  }
 },
 "nbformat": 4,
 "nbformat_minor": 4
}
